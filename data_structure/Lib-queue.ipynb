{
 "cells": [
  {
   "cell_type": "code",
   "execution_count": 14,
   "id": "individual-stable",
   "metadata": {},
   "outputs": [
    {
     "name": "stdout",
     "output_type": "stream",
     "text": [
      "Enqueue element 1\n",
      "Current queue size: 1\n",
      "Enqueue element 2\n",
      "Enqueue element 3\n",
      "Dequeue: 1\n",
      "Dequeue: 2\n",
      "Is queue empty? A:False\n",
      "Dequeue: 3\n",
      "Is queue empty? A:True\n"
     ]
    }
   ],
   "source": [
    "import queue\n",
    "\n",
    "q = queue.Queue(maxsize=5) #FIFO Queue\n",
    "\n",
    "print(\"Enqueue element 1\")\n",
    "q.put(1)\n",
    "\n",
    "print(f\"Current queue size: {q.qsize()}\")\n",
    "\n",
    "print(\"Enqueue element 2\")\n",
    "q.put(2)\n",
    "\n",
    "print(\"Enqueue element 3\")\n",
    "q.put(3)\n",
    "\n",
    "\n",
    "print(f\"Dequeue: {q.get()}\")\n",
    "print(f\"Dequeue: {q.get()}\")\n",
    "\n",
    "print(f\"Is queue empty? A:{q.empty()}\")\n",
    "print(f\"Dequeue: {q.get()}\")\n",
    "print(f\"Is queue empty? A:{q.empty()}\")"
   ]
  },
  {
   "cell_type": "code",
   "execution_count": null,
   "id": "swedish-birth",
   "metadata": {},
   "outputs": [],
   "source": []
  }
 ],
 "metadata": {
  "kernelspec": {
   "display_name": "sudoku382",
   "language": "python",
   "name": "sudoku382"
  },
  "language_info": {
   "codemirror_mode": {
    "name": "ipython",
    "version": 3
   },
   "file_extension": ".py",
   "mimetype": "text/x-python",
   "name": "python",
   "nbconvert_exporter": "python",
   "pygments_lexer": "ipython3",
   "version": "3.8.2"
  }
 },
 "nbformat": 4,
 "nbformat_minor": 5
}

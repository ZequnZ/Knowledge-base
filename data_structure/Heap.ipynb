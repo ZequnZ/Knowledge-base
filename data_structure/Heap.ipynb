{
 "cells": [
  {
   "cell_type": "markdown",
   "id": "driving-compound",
   "metadata": {},
   "source": [
    "# Heap/Priority queue implementation "
   ]
  },
  {
   "cell_type": "code",
   "execution_count": 3,
   "id": "adaptive-colon",
   "metadata": {},
   "outputs": [],
   "source": [
    "from dataclasses import dataclass\n",
    "\n",
    "%load_ext lab_black"
   ]
  },
  {
   "cell_type": "code",
   "execution_count": 235,
   "id": "completed-delay",
   "metadata": {},
   "outputs": [],
   "source": [
    "@dataclass\n",
    "class MinHeap:\n",
    "\n",
    "    max_elements: int\n",
    "\n",
    "    def __post_init__(self):\n",
    "        self.size = 0\n",
    "        self.heap = [None] * self.max_elements\n",
    "\n",
    "    def insert(self, ele):\n",
    "        \"\"\"Insert a element\"\"\"\n",
    "        if self.size >= self.max_elements:\n",
    "            print(\"Heap is full, cannot insert new element\")\n",
    "            return\n",
    "\n",
    "        if self.size == 0:\n",
    "            print(f\"Insert element: {ele}\")\n",
    "            self.heap[0] = ele\n",
    "            self.size += 1\n",
    "            return\n",
    "\n",
    "        self.size += 1\n",
    "        pos = self.size\n",
    "        while pos > 1:\n",
    "            if self.heap[pos // 2 - 1] > ele:\n",
    "                self.heap[pos - 1] = self.heap[pos // 2 - 1]\n",
    "                pos = pos // 2\n",
    "            else:\n",
    "                break\n",
    "        print(f\"Insert element: {ele}\")\n",
    "        self.heap[pos - 1] = ele\n",
    "        return\n",
    "\n",
    "    def delete_min(self):\n",
    "        \"\"\"DeleteMin operation:\n",
    "        Remove the minimal element from heap\"\"\"\n",
    "        print(f\"Delete: {self.heap[0]}\")\n",
    "        last_ele = self.heap[self.size - 1]\n",
    "        self.size -= 1\n",
    "        pos = 1\n",
    "        while True:\n",
    "            if 2 * pos + 1 < self.size:\n",
    "                if self.heap[2 * pos - 1] < self.heap[2 * pos]:\n",
    "                    min_child = 2 * pos\n",
    "                else:\n",
    "                    min_child = 2 * pos + 1\n",
    "            elif 2 * pos == self.size:\n",
    "                min_child = 2 * pos\n",
    "\n",
    "            if last_ele > self.heap[min_child - 1]:\n",
    "                self.heap[pos - 1] = self.heap[min_child - 1]\n",
    "                pos = min_child\n",
    "            else:\n",
    "                break\n",
    "        self.heap[pos - 1] = last_ele\n",
    "\n",
    "    def print_heap(self):\n",
    "        print(f\"Max elements: {self.max_elements}\")\n",
    "        print(f\"Size: {self.size}\")\n",
    "        print(\"Heap:\")\n",
    "        if self.size > 0:\n",
    "\n",
    "            d = 1\n",
    "            left, right = 0, 1\n",
    "            while self.size >= left + 1:\n",
    "                print(self.heap[left : min(right, self.size)])\n",
    "                left, right = pow(2, d) - 1, 2 * pow(2, d) - 1\n",
    "                d += 1"
   ]
  },
  {
   "cell_type": "code",
   "execution_count": 236,
   "id": "interpreted-installation",
   "metadata": {},
   "outputs": [],
   "source": [
    "h = MinHeap(10)"
   ]
  },
  {
   "cell_type": "code",
   "execution_count": 237,
   "id": "dependent-calibration",
   "metadata": {
    "tags": []
   },
   "outputs": [
    {
     "name": "stdout",
     "output_type": "stream",
     "text": [
      "Max elements: 10\n",
      "Size: 0\n",
      "Heap:\n"
     ]
    }
   ],
   "source": [
    "h.print_heap()"
   ]
  },
  {
   "cell_type": "code",
   "execution_count": 238,
   "id": "joint-intention",
   "metadata": {},
   "outputs": [
    {
     "name": "stdout",
     "output_type": "stream",
     "text": [
      "Insert element: 10\n"
     ]
    }
   ],
   "source": [
    "h.insert(10)"
   ]
  },
  {
   "cell_type": "code",
   "execution_count": 239,
   "id": "fourth-tunisia",
   "metadata": {},
   "outputs": [
    {
     "name": "stdout",
     "output_type": "stream",
     "text": [
      "Insert element: 20\n"
     ]
    }
   ],
   "source": [
    "h.insert(20)"
   ]
  },
  {
   "cell_type": "code",
   "execution_count": 240,
   "id": "proper-sailing",
   "metadata": {},
   "outputs": [
    {
     "name": "stdout",
     "output_type": "stream",
     "text": [
      "Insert element: 30\n",
      "Max elements: 10\n",
      "Size: 3\n",
      "Heap:\n",
      "[10]\n",
      "[20, 30]\n"
     ]
    }
   ],
   "source": [
    "h.insert(30)\n",
    "h.print_heap()"
   ]
  },
  {
   "cell_type": "code",
   "execution_count": 241,
   "id": "rubber-standing",
   "metadata": {},
   "outputs": [
    {
     "name": "stdout",
     "output_type": "stream",
     "text": [
      "Insert element: 1\n",
      "Max elements: 10\n",
      "Size: 4\n",
      "Heap:\n",
      "[1]\n",
      "[10, 30]\n",
      "[20]\n"
     ]
    }
   ],
   "source": [
    "h.insert(1)\n",
    "h.print_heap()"
   ]
  },
  {
   "cell_type": "code",
   "execution_count": 242,
   "id": "looking-cartridge",
   "metadata": {},
   "outputs": [
    {
     "name": "stdout",
     "output_type": "stream",
     "text": [
      "Insert element: 3\n",
      "Max elements: 10\n",
      "Size: 5\n",
      "Heap:\n",
      "[1]\n",
      "[3, 30]\n",
      "[20, 10]\n"
     ]
    }
   ],
   "source": [
    "h.insert(3)\n",
    "h.print_heap()"
   ]
  },
  {
   "cell_type": "code",
   "execution_count": 243,
   "id": "extraordinary-reply",
   "metadata": {},
   "outputs": [
    {
     "name": "stdout",
     "output_type": "stream",
     "text": [
      "Delete: 1\n",
      "Max elements: 10\n",
      "Size: 4\n",
      "Heap:\n",
      "[3]\n",
      "[10, 30]\n",
      "[20]\n"
     ]
    }
   ],
   "source": [
    "h.delete_min()\n",
    "h.print_heap()"
   ]
  },
  {
   "cell_type": "code",
   "execution_count": 244,
   "id": "musical-athens",
   "metadata": {},
   "outputs": [
    {
     "name": "stdout",
     "output_type": "stream",
     "text": [
      "Insert element: 4\n",
      "Max elements: 10\n",
      "Size: 5\n",
      "Heap:\n",
      "[3]\n",
      "[4, 30]\n",
      "[20, 10]\n"
     ]
    }
   ],
   "source": [
    "h.insert(4)\n",
    "h.print_heap()"
   ]
  },
  {
   "cell_type": "code",
   "execution_count": 245,
   "id": "frozen-prize",
   "metadata": {},
   "outputs": [
    {
     "name": "stdout",
     "output_type": "stream",
     "text": [
      "Insert element: 5\n",
      "Max elements: 10\n",
      "Size: 6\n",
      "Heap:\n",
      "[3]\n",
      "[4, 5]\n",
      "[20, 10, 30]\n"
     ]
    }
   ],
   "source": [
    "h.insert(5)\n",
    "h.print_heap()"
   ]
  },
  {
   "cell_type": "code",
   "execution_count": 214,
   "id": "current-listening",
   "metadata": {},
   "outputs": [
    {
     "data": {
      "text/plain": [
       "[3, 4, 5, 20, 10, 30, None, None, None, None]"
      ]
     },
     "execution_count": 214,
     "metadata": {},
     "output_type": "execute_result"
    }
   ],
   "source": [
    "h.heap"
   ]
  },
  {
   "cell_type": "markdown",
   "id": "hundred-jacksonville",
   "metadata": {},
   "source": [
    "---"
   ]
  },
  {
   "cell_type": "code",
   "execution_count": 233,
   "id": "median-costume",
   "metadata": {},
   "outputs": [
    {
     "name": "stdout",
     "output_type": "stream",
     "text": [
      "Insert element: 0\n",
      "Insert element: 1\n",
      "Insert element: 2\n",
      "Insert element: 3\n",
      "Insert element: 4\n",
      "Insert element: 5\n",
      "Insert element: 6\n",
      "Insert element: 7\n",
      "Insert element: 8\n",
      "Insert element: 9\n",
      "Heap is full, cannot insert new element\n",
      "Max elements: 10\n",
      "Size: 10\n",
      "Heap:\n",
      "[0]\n",
      "[1, 2]\n",
      "[3, 4, 5, 6]\n",
      "[7, 8, 9]\n"
     ]
    }
   ],
   "source": [
    "h = MinHeap(10)\n",
    "for i in range(11):\n",
    "    h.insert(i)\n",
    "h.print_heap()"
   ]
  }
 ],
 "metadata": {
  "kernelspec": {
   "display_name": "Python 3.9",
   "language": "python",
   "name": "python3"
  },
  "language_info": {
   "codemirror_mode": {
    "name": "ipython",
    "version": 3
   },
   "file_extension": ".py",
   "mimetype": "text/x-python",
   "name": "python",
   "nbconvert_exporter": "python",
   "pygments_lexer": "ipython3",
   "version": "3.9.0"
  }
 },
 "nbformat": 4,
 "nbformat_minor": 5
}

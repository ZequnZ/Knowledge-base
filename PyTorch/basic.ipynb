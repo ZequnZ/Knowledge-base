{
 "cells": [
  {
   "cell_type": "code",
   "execution_count": 1,
   "id": "653b8d54-e20f-4215-a90c-bc60d46d213e",
   "metadata": {},
   "outputs": [],
   "source": [
    "import torch\n",
    "from torch.utils.data import Dataset\n",
    "from torchvision import datasets\n",
    "from torchvision.transforms import ToTensor\n",
    "from torch.utils.data import DataLoader\n",
    "from torch import nn\n",
    "import numpy as np\n",
    "\n",
    "import matplotlib.pyplot as plt"
   ]
  },
  {
   "cell_type": "code",
   "execution_count": 20,
   "id": "e9cbd53e-52d3-4951-abd8-e954bcb54947",
   "metadata": {},
   "outputs": [
    {
     "name": "stdout",
     "output_type": "stream",
     "text": [
      "mps\n"
     ]
    }
   ],
   "source": [
    "# Check available device\n",
    "if torch.cuda.is_available():\n",
    "    print('cuda')\n",
    "    device = 'cuda'\n",
    "elif torch.backends.mps.is_available():\n",
    "    print('mps')\n",
    "    device ='mps'\n",
    "else:\n",
    "    print('cpu')\n",
    "    device ='cpu'"
   ]
  },
  {
   "cell_type": "markdown",
   "id": "13939e7d-63f2-487f-bac5-dd595ed41849",
   "metadata": {},
   "source": [
    "# PyTorch Tensor"
   ]
  },
  {
   "cell_type": "code",
   "execution_count": 30,
   "id": "584612cb-fa7a-47ce-b72c-6e9a703c7f65",
   "metadata": {},
   "outputs": [
    {
     "name": "stdout",
     "output_type": "stream",
     "text": [
      "tensor([[1, 2],\n",
      "        [3, 4]])\n",
      "tensor([[1, 2],\n",
      "        [3, 4]])\n",
      "Random Tensor: \n",
      " tensor([[0.9140, 0.9597, 0.3849],\n",
      "        [0.8009, 0.8925, 0.9602]]) \n",
      "\n",
      "Ones Tensor: \n",
      " tensor([[1., 1., 1.],\n",
      "        [1., 1., 1.]]) \n",
      "\n",
      "Zeros Tensor: \n",
      " tensor([[0., 0., 0.],\n",
      "        [0., 0., 0.]])\n"
     ]
    }
   ],
   "source": [
    "# Create tensor\n",
    "# torch.tensor(data, *, dtype=None, device=None, requires_grad=False, pin_memory=False) → Tensor\n",
    "\n",
    "\n",
    "# from list\n",
    "data = [[1, 2],[3, 4]]\n",
    "x_data = torch.tensor(data)\n",
    "\n",
    "# from np array\n",
    "np_array = np.array(data)\n",
    "x_np = torch.from_numpy(np_array)\n",
    "\n",
    "# from shape\n",
    "shape = (2,3,)\n",
    "rand_tensor = torch.rand(shape)\n",
    "ones_tensor = torch.ones(shape)\n",
    "zeros_tensor = torch.zeros(shape)\n",
    "\n",
    "print(x_data)\n",
    "print(x_np)\n",
    "print(f\"Random Tensor: \\n {rand_tensor} \\n\")\n",
    "print(f\"Ones Tensor: \\n {ones_tensor} \\n\")\n",
    "print(f\"Zeros Tensor: \\n {zeros_tensor}\")"
   ]
  },
  {
   "cell_type": "code",
   "execution_count": 3,
   "id": "e045a83d-1a21-4009-a7b5-9218f39d4dfd",
   "metadata": {},
   "outputs": [
    {
     "name": "stdout",
     "output_type": "stream",
     "text": [
      "Shape of tensor: torch.Size([3, 4])\n",
      "Datatype of tensor: torch.float32\n",
      "Device tensor is stored on: cpu\n",
      "Device tensor is stored on: mps:0\n"
     ]
    }
   ],
   "source": [
    "# Tensor attribute\n",
    "\n",
    "tensor = torch.rand(3,4)\n",
    "\n",
    "print(f\"Shape of tensor: {tensor.shape}\")\n",
    "print(f\"Datatype of tensor: {tensor.dtype}\")\n",
    "print(f\"Device tensor is stored on: {tensor.device}\")\n",
    "\n",
    "if torch.backends.mps.is_available():\n",
    "    tensor = tensor.to(\"mps\")\n",
    "    print(f\"Device tensor is stored on: {tensor.device}\")"
   ]
  },
  {
   "cell_type": "code",
   "execution_count": 25,
   "id": "c70b6620-9662-4578-a5de-e3e7574dfce5",
   "metadata": {},
   "outputs": [],
   "source": [
    "# Check that MPS is available\n",
    "if not torch.backends.mps.is_available():\n",
    "    if not torch.backends.mps.is_built():\n",
    "        print(\"MPS not available because the current PyTorch install was not \"\n",
    "              \"built with MPS enabled.\")\n",
    "    else:\n",
    "        print(\"MPS not available because the current MacOS version is not 12.3+ \"\n",
    "              \"and/or you do not have an MPS-enabled device on this machine.\")"
   ]
  },
  {
   "cell_type": "code",
   "execution_count": 12,
   "id": "7009a9da-ff31-4990-895e-5e265764811e",
   "metadata": {},
   "outputs": [
    {
     "name": "stdout",
     "output_type": "stream",
     "text": [
      "ADD: tensor([[4., 5.],\n",
      "        [6., 7.]], device='mps:0')\n",
      "Matrix mul: tensor([[12., 18.],\n",
      "        [12., 18.]], device='mps:0')\n",
      "Sum: tensor(12., device='mps:0')\n",
      "In-place Add: tensor([[6., 6.],\n",
      "        [6., 6.]], device='mps:0')\n"
     ]
    }
   ],
   "source": [
    "# Tensor operations\n",
    "# https://pytorch.org/docs/stable/torch.html#math-operations\n",
    "\n",
    "# from shape\n",
    "shape = (2,2)\n",
    "\n",
    "t1 = torch.full(shape, 3.0, device='mps')\n",
    "data = [[1.0, 2],[3, 4]]\n",
    "t2 = torch.tensor(data, device='mps')\n",
    "\n",
    "print('ADD:', t1+t2)\n",
    "# MPS doesn't support int op(?) -> better to make it float32\n",
    "print(\"Matrix mul:\", torch.matmul(t1, t2))\n",
    "print('Sum:', t1.sum())\n",
    "\n",
    "# In-place op\n",
    "print('In-place Add:', t1.add_(3.))"
   ]
  },
  {
   "cell_type": "markdown",
   "id": "3088cc5a-4a83-4a7a-9725-134b52f81bd4",
   "metadata": {},
   "source": [
    "---"
   ]
  },
  {
   "cell_type": "markdown",
   "id": "7f17ed2a-b4c6-4b95-983d-d6f05337a498",
   "metadata": {},
   "source": [
    "# Dataset & Loader"
   ]
  },
  {
   "cell_type": "code",
   "execution_count": 13,
   "id": "0f0eb0a9-8e3f-4cd2-8b80-fa685fd9657f",
   "metadata": {
    "scrolled": true
   },
   "outputs": [],
   "source": [
    "# Load fashion_mnist dataset\n",
    "\n",
    "training_data = datasets.FashionMNIST(\n",
    "    root=\"data\",\n",
    "    train=True,\n",
    "    download=True,\n",
    "    transform=ToTensor()\n",
    ")\n",
    "\n",
    "test_data = datasets.FashionMNIST(\n",
    "    root=\"data\",\n",
    "    train=False,\n",
    "    download=True,\n",
    "    transform=ToTensor()\n",
    ")"
   ]
  },
  {
   "cell_type": "code",
   "execution_count": 10,
   "id": "a3319b30-f5fc-46ef-bc75-b3a04f7ab188",
   "metadata": {},
   "outputs": [
    {
     "data": {
      "text/plain": [
       "Dataset FashionMNIST\n",
       "    Number of datapoints: 60000\n",
       "    Root location: data\n",
       "    Split: Train\n",
       "    StandardTransform\n",
       "Transform: ToTensor()"
      ]
     },
     "execution_count": 10,
     "metadata": {},
     "output_type": "execute_result"
    }
   ],
   "source": [
    "training_data"
   ]
  },
  {
   "cell_type": "code",
   "execution_count": 18,
   "id": "54c7d28b-6c39-439b-907a-085f907e91ad",
   "metadata": {},
   "outputs": [
    {
     "name": "stdout",
     "output_type": "stream",
     "text": [
      "60000 10000\n"
     ]
    }
   ],
   "source": [
    "# DataLoader can be used as an iterator with the whole set,\n",
    "# Each iter is one batch\n",
    "train_dataloader = DataLoader(training_data, batch_size=3000, shuffle=True)\n",
    "test_dataloader = DataLoader(test_data, batch_size=64, shuffle=True)\n",
    "\n",
    "print(len(train_dataloader.dataset), len(test_dataloader.dataset))"
   ]
  },
  {
   "cell_type": "code",
   "execution_count": 25,
   "id": "c75e2052-6d4e-4faf-b7fd-a81bce43a732",
   "metadata": {},
   "outputs": [
    {
     "name": "stdout",
     "output_type": "stream",
     "text": [
      "torch.Size([3000, 1, 28, 28]) torch.Size([3000])\n"
     ]
    }
   ],
   "source": [
    "j=0\n",
    "for i in train_dataloader:\n",
    "    # sample, label\n",
    "    print(i[0].shape, i[1].shape)\n",
    "    break"
   ]
  },
  {
   "cell_type": "code",
   "execution_count": 21,
   "id": "550e111b-5702-47f7-b897-aa56b3caa1c7",
   "metadata": {},
   "outputs": [
    {
     "name": "stdout",
     "output_type": "stream",
     "text": [
      "FirstModel(\n",
      "  (flatten): Flatten(start_dim=1, end_dim=-1)\n",
      "  (linear_relu_stack): Sequential(\n",
      "    (0): Linear(in_features=784, out_features=512, bias=True)\n",
      "    (1): ReLU()\n",
      "    (2): Linear(in_features=512, out_features=512, bias=True)\n",
      "    (3): ReLU()\n",
      "    (4): Linear(in_features=512, out_features=10, bias=True)\n",
      "  )\n",
      ")\n"
     ]
    }
   ],
   "source": [
    "class FirstModel(nn.Module):\n",
    "\n",
    "    def __init__(self):\n",
    "        super().__init__()\n",
    "        self.flatten = nn.Flatten()\n",
    "        self.linear_relu_stack = nn.Sequential(\n",
    "            nn.Linear(28*28, 512),\n",
    "            nn.ReLU(),\n",
    "            nn.Linear(512, 512),\n",
    "            nn.ReLU(),\n",
    "            nn.Linear(512, 10),\n",
    "        )\n",
    "\n",
    "    def forward(self, input):\n",
    "        x = self.flatten(input)\n",
    "        logits = self.linear_relu_stack(x)\n",
    "        return logits\n",
    "\n",
    "model = FirstModel().to(device)\n",
    "print(model)"
   ]
  },
  {
   "cell_type": "code",
   "execution_count": 25,
   "id": "abd809a0-dc98-4f56-b302-4404997da9d4",
   "metadata": {},
   "outputs": [
    {
     "name": "stdout",
     "output_type": "stream",
     "text": [
      "Epoch 1\n",
      "-------------------------------\n",
      "loss: 2.285364  [ 3000/60000]\n",
      "Test Error: \n",
      " Accuracy: 20.1%, Avg loss: 2.281720 \n",
      "\n",
      "Epoch 2\n",
      "-------------------------------\n",
      "loss: 2.281603  [ 3000/60000]\n",
      "Test Error: \n",
      " Accuracy: 21.4%, Avg loss: 2.278703 \n",
      "\n",
      "Epoch 3\n",
      "-------------------------------\n",
      "loss: 2.278545  [ 3000/60000]\n",
      "Test Error: \n",
      " Accuracy: 23.2%, Avg loss: 2.275679 \n",
      "\n",
      "Epoch 4\n",
      "-------------------------------\n",
      "loss: 2.276697  [ 3000/60000]\n",
      "Test Error: \n",
      " Accuracy: 24.9%, Avg loss: 2.272869 \n",
      "\n",
      "Epoch 5\n",
      "-------------------------------\n",
      "loss: 2.273180  [ 3000/60000]\n",
      "Test Error: \n",
      " Accuracy: 26.6%, Avg loss: 2.269861 \n",
      "\n",
      "Done!\n"
     ]
    }
   ],
   "source": [
    "# Loss function\n",
    "loss_fn = nn.CrossEntropyLoss()\n",
    "\n",
    "# Optimizer\n",
    "optimizer = torch.optim.SGD(model.parameters(), lr=1e-3)\n",
    "\n",
    "# Training loop\n",
    "def train(dataloader, model, loss_fn, optimizer):\n",
    "    size = len(dataloader.dataset)\n",
    "    model.train()\n",
    "    for batch, (X, y) in enumerate(dataloader):\n",
    "        X, y = X.to(device), y.to(device)\n",
    "        \n",
    "        # Compute prediction error\n",
    "        pred = model(X)\n",
    "        loss = loss_fn(pred, y)\n",
    "\n",
    "        # Backpropagation\n",
    "        loss.backward()\n",
    "        optimizer.step()\n",
    "\n",
    "        # Reset grad\n",
    "        optimizer.zero_grad()\n",
    "\n",
    "        if batch % 100 == 0:\n",
    "            loss, current = loss.item(), (batch + 1) * len(X)\n",
    "            print(f\"loss: {loss:>7f}  [{current:>5d}/{size:>5d}]\")\n",
    "\n",
    "\n",
    "def test(dataloader, model, loss_fn):\n",
    "    size = len(dataloader.dataset)\n",
    "    num_batches = len(dataloader)\n",
    "    model.eval()\n",
    "    test_loss, correct = 0, 0\n",
    "    with torch.no_grad():\n",
    "        for X, y in dataloader:\n",
    "            X, y = X.to(device), y.to(device)\n",
    "            pred = model(X)\n",
    "            test_loss += loss_fn(pred, y).item()\n",
    "            correct += (pred.argmax(1) == y).type(torch.float).sum().item()\n",
    "    test_loss /= num_batches\n",
    "    correct /= size\n",
    "    print(f\"Test Error: \\n Accuracy: {(100*correct):>0.1f}%, Avg loss: {test_loss:>8f} \\n\")\n",
    "\n",
    "epochs = 5\n",
    "for t in range(epochs):\n",
    "    print(f\"Epoch {t+1}\\n-------------------------------\")\n",
    "    train(train_dataloader, model, loss_fn, optimizer)\n",
    "    test(test_dataloader, model, loss_fn)\n",
    "print(\"Done!\")"
   ]
  }
 ],
 "metadata": {
  "kernelspec": {
   "display_name": "Python 3 (ipykernel)",
   "language": "python",
   "name": "python3"
  },
  "language_info": {
   "codemirror_mode": {
    "name": "ipython",
    "version": 3
   },
   "file_extension": ".py",
   "mimetype": "text/x-python",
   "name": "python",
   "nbconvert_exporter": "python",
   "pygments_lexer": "ipython3",
   "version": "3.10.6"
  }
 },
 "nbformat": 4,
 "nbformat_minor": 5
}

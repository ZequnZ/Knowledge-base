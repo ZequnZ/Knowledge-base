{
 "cells": [
  {
   "cell_type": "markdown",
   "id": "57e3a987-f66d-4745-975d-8f3753da1905",
   "metadata": {},
   "source": [
    "# Test script"
   ]
  },
  {
   "cell_type": "code",
   "execution_count": 1,
   "id": "ec3988ba-bf72-4488-af08-9d1986db50f3",
   "metadata": {},
   "outputs": [],
   "source": [
    "import json\n",
    "import requests"
   ]
  },
  {
   "cell_type": "code",
   "execution_count": 94,
   "id": "a31844ce-8bcb-4071-a390-1f9c12119726",
   "metadata": {},
   "outputs": [
    {
     "data": {
      "text/plain": [
       "'2.31.0'"
      ]
     },
     "execution_count": 94,
     "metadata": {},
     "output_type": "execute_result"
    }
   ],
   "source": [
    "requests.__version__"
   ]
  },
  {
   "cell_type": "code",
   "execution_count": 99,
   "id": "e7b8d088-26e1-4f84-84b6-c6f51a2ab71f",
   "metadata": {},
   "outputs": [
    {
     "data": {
      "text/plain": [
       "<Response [403]>"
      ]
     },
     "execution_count": 99,
     "metadata": {},
     "output_type": "execute_result"
    }
   ],
   "source": [
    "title=\"H-index\"\n",
    "question = title=\"Ones and Zeroes\"\n",
    "# question = (\" \").join(title).lower().replace(\" \", \"-\")\n",
    "question_link = \"https://leetcode.com/problems/\" + question + \"/\"\n",
    "\n",
    "query = {\n",
    "    \"operationName\": \"questionData\",\n",
    "    \"variables\": {\"titleSlug\": question},\n",
    "    \"query\": \"\"\"query questionData($titleSlug: String\\u0021) {\n",
    "        question(titleSlug: $titleSlug) {\n",
    "            questionId\n",
    "            questionFrontendId\n",
    "            title\n",
    "            titleSlug\n",
    "            content\n",
    "            difficulty\n",
    "            similarQuestions\n",
    "            exampleTestcases\n",
    "            topicTags {\n",
    "            name\n",
    "            slug}\n",
    "            hints\n",
    "            sampleTestCase\n",
    "            metaData\n",
    "    }\n",
    "}\"\"\",\n",
    "}\n",
    "headers = {\"content-type\": \"application/json\", \"cache-control\": \"no-cache\"}\n",
    "query_link = \"https://leetcode.com/graphql\"\n",
    "# Query the info of the question from leetcode\n",
    "r = requests.request(\n",
    "    \"POST\",\n",
    "    query_link,\n",
    "    data=json.dumps(query),\n",
    "    headers=headers,\n",
    "    timeout=10,\n",
    ")\n"
   ]
  },
  {
   "cell_type": "code",
   "execution_count": 8,
   "id": "d09bff2f-ec52-46d0-b791-2cfb7b0085b1",
   "metadata": {},
   "outputs": [
    {
     "data": {
      "text/plain": [
       "'{\"operationName\": \"questionData\", \"variables\": {\"titleSlug\": \"o-n-e-s---a-n-d---z-e-r-o-e-s\"}, \"query\": \"query questionData($titleSlug: String!) {\\\\n        question(titleSlug: $titleSlug) {\\\\n            questionId\\\\n            questionFrontendId\\\\n            title\\\\n            titleSlug\\\\n            content\\\\n            difficulty\\\\n            similarQuestions\\\\n            exampleTestcases\\\\n            topicTags {\\\\n            name\\\\n            slug}\\\\n            hints\\\\n            sampleTestCase\\\\n            metaData\\\\n    }\\\\n}\"}'"
      ]
     },
     "execution_count": 8,
     "metadata": {},
     "output_type": "execute_result"
    }
   ],
   "source": [
    "json.dumps(query)"
   ]
  },
  {
   "cell_type": "code",
   "execution_count": 10,
   "id": "6e362191-a891-4aa5-8ca0-3da49d0f648c",
   "metadata": {
    "collapsed": true,
    "jupyter": {
     "outputs_hidden": true
    },
    "scrolled": true
   },
   "outputs": [
    {
     "ename": "JSONDecodeError",
     "evalue": "Expecting value: line 1 column 1 (char 0)",
     "output_type": "error",
     "traceback": [
      "\u001b[0;31m---------------------------------------------------------------------------\u001b[0m",
      "\u001b[0;31mJSONDecodeError\u001b[0m                           Traceback (most recent call last)",
      "File \u001b[0;32m~/.pyenv/versions/3.10.6/envs/basicenv/lib/python3.10/site-packages/requests/models.py:971\u001b[0m, in \u001b[0;36mResponse.json\u001b[0;34m(self, **kwargs)\u001b[0m\n\u001b[1;32m    970\u001b[0m \u001b[38;5;28;01mtry\u001b[39;00m:\n\u001b[0;32m--> 971\u001b[0m     \u001b[38;5;28;01mreturn\u001b[39;00m \u001b[43mcomplexjson\u001b[49m\u001b[38;5;241;43m.\u001b[39;49m\u001b[43mloads\u001b[49m\u001b[43m(\u001b[49m\u001b[38;5;28;43mself\u001b[39;49m\u001b[38;5;241;43m.\u001b[39;49m\u001b[43mtext\u001b[49m\u001b[43m,\u001b[49m\u001b[43m \u001b[49m\u001b[38;5;241;43m*\u001b[39;49m\u001b[38;5;241;43m*\u001b[39;49m\u001b[43mkwargs\u001b[49m\u001b[43m)\u001b[49m\n\u001b[1;32m    972\u001b[0m \u001b[38;5;28;01mexcept\u001b[39;00m JSONDecodeError \u001b[38;5;28;01mas\u001b[39;00m e:\n\u001b[1;32m    973\u001b[0m     \u001b[38;5;66;03m# Catch JSON-related errors and raise as requests.JSONDecodeError\u001b[39;00m\n\u001b[1;32m    974\u001b[0m     \u001b[38;5;66;03m# This aliases json.JSONDecodeError and simplejson.JSONDecodeError\u001b[39;00m\n",
      "File \u001b[0;32m~/.pyenv/versions/3.10.6/lib/python3.10/json/__init__.py:346\u001b[0m, in \u001b[0;36mloads\u001b[0;34m(s, cls, object_hook, parse_float, parse_int, parse_constant, object_pairs_hook, **kw)\u001b[0m\n\u001b[1;32m    343\u001b[0m \u001b[38;5;28;01mif\u001b[39;00m (\u001b[38;5;28mcls\u001b[39m \u001b[38;5;129;01mis\u001b[39;00m \u001b[38;5;28;01mNone\u001b[39;00m \u001b[38;5;129;01mand\u001b[39;00m object_hook \u001b[38;5;129;01mis\u001b[39;00m \u001b[38;5;28;01mNone\u001b[39;00m \u001b[38;5;129;01mand\u001b[39;00m\n\u001b[1;32m    344\u001b[0m         parse_int \u001b[38;5;129;01mis\u001b[39;00m \u001b[38;5;28;01mNone\u001b[39;00m \u001b[38;5;129;01mand\u001b[39;00m parse_float \u001b[38;5;129;01mis\u001b[39;00m \u001b[38;5;28;01mNone\u001b[39;00m \u001b[38;5;129;01mand\u001b[39;00m\n\u001b[1;32m    345\u001b[0m         parse_constant \u001b[38;5;129;01mis\u001b[39;00m \u001b[38;5;28;01mNone\u001b[39;00m \u001b[38;5;129;01mand\u001b[39;00m object_pairs_hook \u001b[38;5;129;01mis\u001b[39;00m \u001b[38;5;28;01mNone\u001b[39;00m \u001b[38;5;129;01mand\u001b[39;00m \u001b[38;5;129;01mnot\u001b[39;00m kw):\n\u001b[0;32m--> 346\u001b[0m     \u001b[38;5;28;01mreturn\u001b[39;00m \u001b[43m_default_decoder\u001b[49m\u001b[38;5;241;43m.\u001b[39;49m\u001b[43mdecode\u001b[49m\u001b[43m(\u001b[49m\u001b[43ms\u001b[49m\u001b[43m)\u001b[49m\n\u001b[1;32m    347\u001b[0m \u001b[38;5;28;01mif\u001b[39;00m \u001b[38;5;28mcls\u001b[39m \u001b[38;5;129;01mis\u001b[39;00m \u001b[38;5;28;01mNone\u001b[39;00m:\n",
      "File \u001b[0;32m~/.pyenv/versions/3.10.6/lib/python3.10/json/decoder.py:337\u001b[0m, in \u001b[0;36mJSONDecoder.decode\u001b[0;34m(self, s, _w)\u001b[0m\n\u001b[1;32m    333\u001b[0m \u001b[38;5;250m\u001b[39m\u001b[38;5;124;03m\"\"\"Return the Python representation of ``s`` (a ``str`` instance\u001b[39;00m\n\u001b[1;32m    334\u001b[0m \u001b[38;5;124;03mcontaining a JSON document).\u001b[39;00m\n\u001b[1;32m    335\u001b[0m \n\u001b[1;32m    336\u001b[0m \u001b[38;5;124;03m\"\"\"\u001b[39;00m\n\u001b[0;32m--> 337\u001b[0m obj, end \u001b[38;5;241m=\u001b[39m \u001b[38;5;28;43mself\u001b[39;49m\u001b[38;5;241;43m.\u001b[39;49m\u001b[43mraw_decode\u001b[49m\u001b[43m(\u001b[49m\u001b[43ms\u001b[49m\u001b[43m,\u001b[49m\u001b[43m \u001b[49m\u001b[43midx\u001b[49m\u001b[38;5;241;43m=\u001b[39;49m\u001b[43m_w\u001b[49m\u001b[43m(\u001b[49m\u001b[43ms\u001b[49m\u001b[43m,\u001b[49m\u001b[43m \u001b[49m\u001b[38;5;241;43m0\u001b[39;49m\u001b[43m)\u001b[49m\u001b[38;5;241;43m.\u001b[39;49m\u001b[43mend\u001b[49m\u001b[43m(\u001b[49m\u001b[43m)\u001b[49m\u001b[43m)\u001b[49m\n\u001b[1;32m    338\u001b[0m end \u001b[38;5;241m=\u001b[39m _w(s, end)\u001b[38;5;241m.\u001b[39mend()\n",
      "File \u001b[0;32m~/.pyenv/versions/3.10.6/lib/python3.10/json/decoder.py:355\u001b[0m, in \u001b[0;36mJSONDecoder.raw_decode\u001b[0;34m(self, s, idx)\u001b[0m\n\u001b[1;32m    354\u001b[0m \u001b[38;5;28;01mexcept\u001b[39;00m \u001b[38;5;167;01mStopIteration\u001b[39;00m \u001b[38;5;28;01mas\u001b[39;00m err:\n\u001b[0;32m--> 355\u001b[0m     \u001b[38;5;28;01mraise\u001b[39;00m JSONDecodeError(\u001b[38;5;124m\"\u001b[39m\u001b[38;5;124mExpecting value\u001b[39m\u001b[38;5;124m\"\u001b[39m, s, err\u001b[38;5;241m.\u001b[39mvalue) \u001b[38;5;28;01mfrom\u001b[39;00m \u001b[38;5;28;01mNone\u001b[39;00m\n\u001b[1;32m    356\u001b[0m \u001b[38;5;28;01mreturn\u001b[39;00m obj, end\n",
      "\u001b[0;31mJSONDecodeError\u001b[0m: Expecting value: line 1 column 1 (char 0)",
      "\nDuring handling of the above exception, another exception occurred:\n",
      "\u001b[0;31mJSONDecodeError\u001b[0m                           Traceback (most recent call last)",
      "Cell \u001b[0;32mIn[10], line 1\u001b[0m\n\u001b[0;32m----> 1\u001b[0m \u001b[43mr\u001b[49m\u001b[38;5;241;43m.\u001b[39;49m\u001b[43mjson\u001b[49m\u001b[43m(\u001b[49m\u001b[43m)\u001b[49m[\u001b[38;5;124m\"\u001b[39m\u001b[38;5;124mdata\u001b[39m\u001b[38;5;124m\"\u001b[39m]\n",
      "File \u001b[0;32m~/.pyenv/versions/3.10.6/envs/basicenv/lib/python3.10/site-packages/requests/models.py:975\u001b[0m, in \u001b[0;36mResponse.json\u001b[0;34m(self, **kwargs)\u001b[0m\n\u001b[1;32m    971\u001b[0m     \u001b[38;5;28;01mreturn\u001b[39;00m complexjson\u001b[38;5;241m.\u001b[39mloads(\u001b[38;5;28mself\u001b[39m\u001b[38;5;241m.\u001b[39mtext, \u001b[38;5;241m*\u001b[39m\u001b[38;5;241m*\u001b[39mkwargs)\n\u001b[1;32m    972\u001b[0m \u001b[38;5;28;01mexcept\u001b[39;00m JSONDecodeError \u001b[38;5;28;01mas\u001b[39;00m e:\n\u001b[1;32m    973\u001b[0m     \u001b[38;5;66;03m# Catch JSON-related errors and raise as requests.JSONDecodeError\u001b[39;00m\n\u001b[1;32m    974\u001b[0m     \u001b[38;5;66;03m# This aliases json.JSONDecodeError and simplejson.JSONDecodeError\u001b[39;00m\n\u001b[0;32m--> 975\u001b[0m     \u001b[38;5;28;01mraise\u001b[39;00m RequestsJSONDecodeError(e\u001b[38;5;241m.\u001b[39mmsg, e\u001b[38;5;241m.\u001b[39mdoc, e\u001b[38;5;241m.\u001b[39mpos)\n",
      "\u001b[0;31mJSONDecodeError\u001b[0m: Expecting value: line 1 column 1 (char 0)"
     ]
    }
   ],
   "source": [
    "r.json()[\"data\"]"
   ]
  },
  {
   "cell_type": "code",
   "execution_count": 16,
   "id": "ad80ce7f-3481-440f-a4df-54e755364cd8",
   "metadata": {},
   "outputs": [
    {
     "name": "stdout",
     "output_type": "stream",
     "text": [
      "{'query': '\\n    query questionContent($titleSlug: String!) {\\n  question(titleSlug: $titleSlug) {\\n    content\\n    mysqlSchemas\\n    dataSchemas\\n  }\\n}\\n    ', 'variables': {'titleSlug': 'h-index'}, 'operationName': 'questionContent'}\n"
     ]
    }
   ],
   "source": [
    "query = {\"query\":\"\\n    query questionContent($titleSlug: String!) {\\n  question(titleSlug: $titleSlug) {\\n    content\\n    mysqlSchemas\\n    dataSchemas\\n  }\\n}\\n    \",\"variables\":{\"titleSlug\":\"h-index\"},\"operationName\":\"questionContent\"}\n",
    "print(query)"
   ]
  },
  {
   "cell_type": "code",
   "execution_count": 19,
   "id": "74dc3b88-f7a8-4729-8fcf-ede08b414db9",
   "metadata": {},
   "outputs": [
    {
     "data": {
      "text/plain": [
       "<Response [403]>"
      ]
     },
     "execution_count": 19,
     "metadata": {},
     "output_type": "execute_result"
    }
   ],
   "source": [
    "r = requests.request(\n",
    "    \"POST\",\n",
    "    query_link,\n",
    "    data=json.dumps(query),\n",
    "    headers=headers,\n",
    "    timeout=10,\n",
    ")\n",
    "r"
   ]
  },
  {
   "cell_type": "code",
   "execution_count": 24,
   "id": "4b15ced3-fc77-4b90-a275-94969d67deeb",
   "metadata": {},
   "outputs": [
    {
     "data": {
      "text/plain": [
       "'https://leetcode.com/graphql'"
      ]
     },
     "execution_count": 24,
     "metadata": {},
     "output_type": "execute_result"
    }
   ],
   "source": [
    "query_link"
   ]
  },
  {
   "cell_type": "code",
   "execution_count": 25,
   "id": "3fd73bc4-d7f0-4993-9fee-507a44241599",
   "metadata": {},
   "outputs": [
    {
     "data": {
      "text/plain": [
       "<Response [403]>"
      ]
     },
     "execution_count": 25,
     "metadata": {},
     "output_type": "execute_result"
    }
   ],
   "source": [
    "query = {\"query\":\"\\n    query questionTitle($titleSlug: String!) {\\n  question(titleSlug: $titleSlug) {\\n    questionId\\n    questionFrontendId\\n    title\\n    titleSlug\\n    isPaidOnly\\n    difficulty\\n    likes\\n    dislikes\\n    categoryTitle\\n  }\\n}\\n    \",\"variables\":{\"titleSlug\":\"h-index\"},\"operationName\":\"questionTitle\"}\n",
    "r = requests.request(\n",
    "    \"POST\",\n",
    "    query_link,\n",
    "    data=json.dumps(query),\n",
    "    headers=headers,\n",
    "    timeout=10,\n",
    ")\n",
    "r"
   ]
  },
  {
   "cell_type": "code",
   "execution_count": 28,
   "id": "c4904790-3a17-4150-8065-fb7ffe68c59e",
   "metadata": {},
   "outputs": [],
   "source": [
    "title=\"Ones and Zeroes\"\n",
    "question = (\" \").join(title).lower().replace(\" \", \"-\")\n",
    "query = {\n",
    "    \"operationName\": \"questionData\",\n",
    "    \"variables\": {\"titleSlug\": question},\n",
    "    \"query\": \"\"\"query questionData($titleSlug: String\\u0021) {\n",
    "        question(titleSlug: $titleSlug) {\n",
    "            content\n",
    "    }\n",
    "}\"\"\",\n",
    "}"
   ]
  },
  {
   "cell_type": "code",
   "execution_count": 41,
   "id": "e12de203-1095-4da5-9fd4-08b6d3fb8cb6",
   "metadata": {},
   "outputs": [
    {
     "name": "stdout",
     "output_type": "stream",
     "text": [
      "zsh:1: parse error near `}'\n"
     ]
    }
   ],
   "source": [
    "\n",
    "! curl 'https://leetcode.com/graphql/' \\\n",
    "  --data-raw $'{\"query\":\"\\n    query questionTitle($titleSlug: String!) {\\n  question(titleSlug: $titleSlug) {\\n    questionId\\n    questionFrontendId\\n    title\\n    titleSlug\\n    isPaidOnly\\n    difficulty\\n    likes\\n    dislikes\\n    categoryTitle\\n  }\\n}\\n    \",\"variables\":{\"titleSlug\":\"h-index\"},\"operationName\":\"questionTitle\"}' \\\n",
    "  --compressed"
   ]
  },
  {
   "cell_type": "code",
   "execution_count": 42,
   "id": "67d94957-7ac0-479c-a978-07683a02157b",
   "metadata": {
    "collapsed": true,
    "jupyter": {
     "outputs_hidden": true
    }
   },
   "outputs": [
    {
     "name": "stdout",
     "output_type": "stream",
     "text": [
      "<!DOCTYPE html><html lang=\"en-US\"><head><title>Just a moment...</title><meta http-equiv=\"Content-Type\" content=\"text/html; charset=UTF-8\"><meta http-equiv=\"X-UA-Compatible\" content=\"IE=Edge\"><meta name=\"robots\" content=\"noindex,nofollow\"><meta name=\"viewport\" content=\"width=device-width,initial-scale=1\"><style>*{box-sizing:border-box;margin:0;padding:0}html{line-height:1.15;-webkit-text-size-adjust:100%;color:#313131}button,html{font-family:system-ui,-apple-system,BlinkMacSystemFont,Segoe UI,Roboto,Helvetica Neue,Arial,Noto Sans,sans-serif,Apple Color Emoji,Segoe UI Emoji,Segoe UI Symbol,Noto Color Emoji}@media (prefers-color-scheme:dark){body{background-color:#222;color:#d9d9d9}body a{color:#fff}body a:hover{color:#ee730a;text-decoration:underline}body .lds-ring div{border-color:#999 transparent transparent}body .font-red{color:#b20f03}body .big-button,body .pow-button{background-color:#4693ff;color:#1d1d1d}body #challenge-success-text{background-image:url(data:image/svg+xml;base64,PHN2ZyB4bWxucz0iaHR0cDovL3d3dy53My5vcmcvMjAwMC9zdmciIHdpZHRoPSIzMiIgaGVpZ2h0PSIzMiIgZmlsbD0ibm9uZSIgdmlld0JveD0iMCAwIDI2IDI2Ij48cGF0aCBmaWxsPSIjZDlkOWQ5IiBkPSJNMTMgMGExMyAxMyAwIDEgMCAwIDI2IDEzIDEzIDAgMCAwIDAtMjZtMCAyNGExMSAxMSAwIDEgMSAwLTIyIDExIDExIDAgMCAxIDAgMjIiLz48cGF0aCBmaWxsPSIjZDlkOWQ5IiBkPSJtMTAuOTU1IDE2LjA1NS0zLjk1LTQuMTI1LTEuNDQ1IDEuMzg1IDUuMzcgNS42MSA5LjQ5NS05LjYtMS40Mi0xLjQwNXoiLz48L3N2Zz4=)}body #challenge-error-text{background-image:url(data:image/svg+xml;base64,PHN2ZyB4bWxucz0iaHR0cDovL3d3dy53My5vcmcvMjAwMC9zdmciIHdpZHRoPSIzMiIgaGVpZ2h0PSIzMiIgZmlsbD0ibm9uZSI+PHBhdGggZmlsbD0iI0IyMEYwMyIgZD0iTTE2IDNhMTMgMTMgMCAxIDAgMTMgMTNBMTMuMDE1IDEzLjAxNSAwIDAgMCAxNiAzbTAgMjRhMTEgMTEgMCAxIDEgMTEtMTEgMTEuMDEgMTEuMDEgMCAwIDEtMTEgMTEiLz48cGF0aCBmaWxsPSIjQjIwRjAzIiBkPSJNMTcuMDM4IDE4LjYxNUgxNC44N0wxNC41NjMgOS41aDIuNzgzem0tMS4wODQgMS40MjdxLjY2IDAgMS4wNTcuMzg4LjQwNy4zODkuNDA3Ljk5NCAwIC41OTYtLjQwNy45ODQtLjM5Ny4zOS0xLjA1Ny4zODktLjY1IDAtMS4wNTYtLjM4OS0uMzk4LS4zODktLjM5OC0uOTg0IDAtLjU5Ny4zOTgtLjk4NS40MDYtLjM5NyAxLjA1Ni0uMzk3Ii8+PC9zdmc+)}}body{display:flex;flex-direction:column;min-height:100vh}body.no-js .loading-spinner{visibility:hidden}body.no-js .challenge-running{display:none}body.dark{background-color:#222;color:#d9d9d9}body.dark a{color:#fff}body.dark a:hover{color:#ee730a;text-decoration:underline}body.dark .lds-ring div{border-color:#999 transparent transparent}body.dark .font-red{color:#b20f03}body.dark .big-button,body.dark .pow-button{background-color:#4693ff;color:#1d1d1d}body.dark #challenge-success-text{background-image:url(data:image/svg+xml;base64,PHN2ZyB4bWxucz0iaHR0cDovL3d3dy53My5vcmcvMjAwMC9zdmciIHdpZHRoPSIzMiIgaGVpZ2h0PSIzMiIgZmlsbD0ibm9uZSIgdmlld0JveD0iMCAwIDI2IDI2Ij48cGF0aCBmaWxsPSIjZDlkOWQ5IiBkPSJNMTMgMGExMyAxMyAwIDEgMCAwIDI2IDEzIDEzIDAgMCAwIDAtMjZtMCAyNGExMSAxMSAwIDEgMSAwLTIyIDExIDExIDAgMCAxIDAgMjIiLz48cGF0aCBmaWxsPSIjZDlkOWQ5IiBkPSJtMTAuOTU1IDE2LjA1NS0zLjk1LTQuMTI1LTEuNDQ1IDEuMzg1IDUuMzcgNS42MSA5LjQ5NS05LjYtMS40Mi0xLjQwNXoiLz48L3N2Zz4=)}body.dark #challenge-error-text{background-image:url(data:image/svg+xml;base64,PHN2ZyB4bWxucz0iaHR0cDovL3d3dy53My5vcmcvMjAwMC9zdmciIHdpZHRoPSIzMiIgaGVpZ2h0PSIzMiIgZmlsbD0ibm9uZSI+PHBhdGggZmlsbD0iI0IyMEYwMyIgZD0iTTE2IDNhMTMgMTMgMCAxIDAgMTMgMTNBMTMuMDE1IDEzLjAxNSAwIDAgMCAxNiAzbTAgMjRhMTEgMTEgMCAxIDEgMTEtMTEgMTEuMDEgMTEuMDEgMCAwIDEtMTEgMTEiLz48cGF0aCBmaWxsPSIjQjIwRjAzIiBkPSJNMTcuMDM4IDE4LjYxNUgxNC44N0wxNC41NjMgOS41aDIuNzgzem0tMS4wODQgMS40MjdxLjY2IDAgMS4wNTcuMzg4LjQwNy4zODkuNDA3Ljk5NCAwIC41OTYtLjQwNy45ODQtLjM5Ny4zOS0xLjA1Ny4zODktLjY1IDAtMS4wNTYtLjM4OS0uMzk4LS4zODktLjM5OC0uOTg0IDAtLjU5Ny4zOTgtLjk4NS40MDYtLjM5NyAxLjA1Ni0uMzk3Ii8+PC9zdmc+)}body.light{background-color:transparent;color:#313131}body.light a{color:#0051c3}body.light a:hover{color:#ee730a;text-decoration:underline}body.light .lds-ring div{border-color:#595959 transparent transparent}body.light .font-red{color:#fc574a}body.light .big-button,body.light .pow-button{background-color:#003681;border-color:#003681;color:#fff}body.light #challenge-success-text{background-image:url(data:image/svg+xml;base64,PHN2ZyB4bWxucz0iaHR0cDovL3d3dy53My5vcmcvMjAwMC9zdmciIHdpZHRoPSIzMiIgaGVpZ2h0PSIzMiIgZmlsbD0ibm9uZSIgdmlld0JveD0iMCAwIDI2IDI2Ij48cGF0aCBmaWxsPSIjMzEzMTMxIiBkPSJNMTMgMGExMyAxMyAwIDEgMCAwIDI2IDEzIDEzIDAgMCAwIDAtMjZtMCAyNGExMSAxMSAwIDEgMSAwLTIyIDExIDExIDAgMCAxIDAgMjIiLz48cGF0aCBmaWxsPSIjMzEzMTMxIiBkPSJtMTAuOTU1IDE2LjA1NS0zLjk1LTQuMTI1LTEuNDQ1IDEuMzg1IDUuMzcgNS42MSA5LjQ5NS05LjYtMS40Mi0xLjQwNXoiLz48L3N2Zz4=)}body.light #challenge-error-text{background-image:url(data:image/svg+xml;base64,PHN2ZyB4bWxucz0iaHR0cDovL3d3dy53My5vcmcvMjAwMC9zdmciIHdpZHRoPSIzMiIgaGVpZ2h0PSIzMiIgZmlsbD0ibm9uZSI+PHBhdGggZmlsbD0iI2ZjNTc0YSIgZD0iTTE2IDNhMTMgMTMgMCAxIDAgMTMgMTNBMTMuMDE1IDEzLjAxNSAwIDAgMCAxNiAzbTAgMjRhMTEgMTEgMCAxIDEgMTEtMTEgMTEuMDEgMTEuMDEgMCAwIDEtMTEgMTEiLz48cGF0aCBmaWxsPSIjZmM1NzRhIiBkPSJNMTcuMDM4IDE4LjYxNUgxNC44N0wxNC41NjMgOS41aDIuNzgzem0tMS4wODQgMS40MjdxLjY2IDAgMS4wNTcuMzg4LjQwNy4zODkuNDA3Ljk5NCAwIC41OTYtLjQwNy45ODQtLjM5Ny4zOS0xLjA1Ny4zODktLjY1IDAtMS4wNTYtLjM4OS0uMzk4LS4zODktLjM5OC0uOTg0IDAtLjU5Ny4zOTgtLjk4NS40MDYtLjM5NyAxLjA1Ni0uMzk3Ii8+PC9zdmc+)}a{background-color:transparent;color:#0051c3;text-decoration:none;transition:color .15s ease}a:hover{color:#ee730a;text-decoration:underline}.main-content{margin:8rem auto;max-width:60rem;width:100%}.heading-favicon{height:2rem;margin-right:.5rem;width:2rem}@media (width <= 720px){.main-content{margin-top:4rem}.heading-favicon{height:1.5rem;width:1.5rem}}.footer,.main-content{padding-left:1.5rem;padding-right:1.5rem}.main-wrapper{align-items:center;display:flex;flex:1;flex-direction:column}.font-red{color:#b20f03}.spacer{margin:2rem 0}.h1{font-size:2.5rem;font-weight:500;line-height:3.75rem}.h2{font-weight:500}.core-msg,.h2{font-size:1.5rem;line-height:2.25rem}.body-text,.core-msg{font-weight:400}.body-text{font-size:1rem;line-height:1.25rem}@media (width <= 720px){.h1{font-size:1.5rem;line-height:1.75rem}.h2{font-size:1.25rem}.core-msg,.h2{line-height:1.5rem}.core-msg{font-size:1rem}}#challenge-error-text{background-image:url(data:image/svg+xml;base64,PHN2ZyB4bWxucz0iaHR0cDovL3d3dy53My5vcmcvMjAwMC9zdmciIHdpZHRoPSIzMiIgaGVpZ2h0PSIzMiIgZmlsbD0ibm9uZSI+PHBhdGggZmlsbD0iI2ZjNTc0YSIgZD0iTTE2IDNhMTMgMTMgMCAxIDAgMTMgMTNBMTMuMDE1IDEzLjAxNSAwIDAgMCAxNiAzbTAgMjRhMTEgMTEgMCAxIDEgMTEtMTEgMTEuMDEgMTEuMDEgMCAwIDEtMTEgMTEiLz48cGF0aCBmaWxsPSIjZmM1NzRhIiBkPSJNMTcuMDM4IDE4LjYxNUgxNC44N0wxNC41NjMgOS41aDIuNzgzem0tMS4wODQgMS40MjdxLjY2IDAgMS4wNTcuMzg4LjQwNy4zODkuNDA3Ljk5NCAwIC41OTYtLjQwNy45ODQtLjM5Ny4zOS0xLjA1Ny4zODktLjY1IDAtMS4wNTYtLjM4OS0uMzk4LS4zODktLjM5OC0uOTg0IDAtLjU5Ny4zOTgtLjk4NS40MDYtLjM5NyAxLjA1Ni0uMzk3Ii8+PC9zdmc+);padding-left:34px}#challenge-error-text,#challenge-success-text{background-repeat:no-repeat;background-size:contain}#challenge-success-text{background-image:url(data:image/svg+xml;base64,PHN2ZyB4bWxucz0iaHR0cDovL3d3dy53My5vcmcvMjAwMC9zdmciIHdpZHRoPSIzMiIgaGVpZ2h0PSIzMiIgZmlsbD0ibm9uZSIgdmlld0JveD0iMCAwIDI2IDI2Ij48cGF0aCBmaWxsPSIjMzEzMTMxIiBkPSJNMTMgMGExMyAxMyAwIDEgMCAwIDI2IDEzIDEzIDAgMCAwIDAtMjZtMCAyNGExMSAxMSAwIDEgMSAwLTIyIDExIDExIDAgMCAxIDAgMjIiLz48cGF0aCBmaWxsPSIjMzEzMTMxIiBkPSJtMTAuOTU1IDE2LjA1NS0zLjk1LTQuMTI1LTEuNDQ1IDEuMzg1IDUuMzcgNS42MSA5LjQ5NS05LjYtMS40Mi0xLjQwNXoiLz48L3N2Zz4=);padding-left:42px}.text-center{text-align:center}.big-button{border:.063rem solid #0051c3;border-radius:.313rem;font-size:.875rem;line-height:1.313rem;padding:.375rem 1rem;transition-duration:.2s;transition-property:background-color,border-color,color;transition-timing-function:ease}.big-button:hover{cursor:pointer}.captcha-prompt:not(.hidden){display:flex}@media (width <= 720px){.captcha-prompt:not(.hidden){flex-wrap:wrap;justify-content:center}}.pow-button{background-color:#0051c3;color:#fff;margin:2rem 0}.pow-button:hover{background-color:#003681;border-color:#003681;color:#fff}.footer{font-size:.75rem;line-height:1.125rem;margin:0 auto;max-width:60rem;width:100%}.footer-inner{border-top:1px solid #d9d9d9;padding-bottom:1rem;padding-top:1rem}.clearfix:after{clear:both;content:\"\";display:table}.clearfix .column{float:left;padding-right:1.5rem;width:50%}.diagnostic-wrapper{margin-bottom:.5rem}.footer .ray-id{text-align:center}.footer .ray-id code{font-family:monaco,courier,monospace}.core-msg,.zone-name-title{overflow-wrap:break-word}@media (width <= 720px){.diagnostic-wrapper{display:flex;flex-wrap:wrap;justify-content:center}.clearfix:after{clear:none;content:none;display:initial;text-align:center}.column{padding-bottom:2rem}.clearfix .column{float:none;padding:0;width:auto;word-break:keep-all}.zone-name-title{margin-bottom:1rem}}.loading-spinner{height:76.391px}.lds-ring{display:inline-block;position:relative}.lds-ring,.lds-ring div{height:1.875rem;width:1.875rem}.lds-ring div{animation:lds-ring 1.2s cubic-bezier(.5,0,.5,1) infinite;border:.3rem solid transparent;border-radius:50%;border-top-color:#313131;box-sizing:border-box;display:block;position:absolute}.lds-ring div:first-child{animation-delay:-.45s}.lds-ring div:nth-child(2){animation-delay:-.3s}.lds-ring div:nth-child(3){animation-delay:-.15s}@keyframes lds-ring{0%{transform:rotate(0)}to{transform:rotate(1turn)}}@media screen and (-ms-high-contrast:active),screen and (-ms-high-contrast:none){.main-wrapper,body{display:block}}</style><meta http-equiv=\"refresh\" content=\"375\"></head><body class=\"no-js\"><div class=\"main-wrapper\" role=\"main\"><div class=\"main-content\"><noscript><div id=\"challenge-error-title\"><div class=\"h2\"><span id=\"challenge-error-text\">Enable JavaScript and cookies to continue</span></div></div></noscript></div></div><script>(function(){window._cf_chl_opt={cvId: '3',cZone: \"leetcode.com\",cType: 'managed',cNounce: '17948',cRay: '861adffcea0070f7',cHash: '15a7dd3a008d41c',cUPMDTk: \"\\/graphql\\/?__cf_chl_tk=NwasD_jMyWuqDnggBm7QMzkWIBeGX9YHZ5K9cNMtt4I-1709985315-0.0.1.1-1599\",cFPWv: 'b',cTTimeMs: '1000',cMTimeMs: '375000',cTplV: 5,cTplB: 'cf',cK: \"visitor-time\",fa: \"\\/graphql\\/?__cf_chl_f_tk=NwasD_jMyWuqDnggBm7QMzkWIBeGX9YHZ5K9cNMtt4I-1709985315-0.0.1.1-1599\",md: \"fO6qWP4kdoMFYSARQwEdujnGxA_nJlnEtg173vqL2yc-1709985315-1.1.1.1-Ml3bt7njEztFOZy0znvYNez_KXLGbfDNvP1Sw32wJVgyGXSZSsdYvkQ4GfqOjDF7ncCwFUHtNBAHphR3ikehMfRU3Q0p6kPjjWUAJ9OK7yBkaGGKjPOsOlK7RW8LKlACCZpkBrTGfWB3H4vu3unxrkXJXLlEz8UgTTXwwg3XrxeHTwmoOVIhwnkpuYLBdTLggYzOYotLw0gWWKApEs7sVR5LndKadGf3eET1S45AZD1rn85nYlXSJEbKNrsWj079I81Znutxa4fcBrYjWxNKkJQFFcVNQiC1GbxL4SDPOH74kE1.YRgIgLPhv8_ixnva_LYPIKSz0rZOSpY.VLvfjk8b42dpqPl4kigeHptD5cl7D_hnh0issgw5ECDIRNj.ZdgMn6.8u7sC2KQLG6Rl5mdOzqt49136HoWTOiPDwLhDhy8cUZS0NPpSJ9NKy1xpGXaGM37H_HSa5LsRVHORmzy8AUYsJNaGblWunWsMdm629HxrrZhWPeKS2YXAe8TOJYJRhhiB.gL.8YBZzG3WNlbL1ZRJr4H76X6UO2r0lta8EpoMSkKcw51lwjw2kqYNPfzzhOw_3bfMnSGM8w5waBK85x1yXaksZfvUbKCXhguesfGSmuDTWMofownYEbA4PiK5YLxRez8Qwbjy6GAnNO_k2kZ7AtCESYMyAfAmT0C0nG4fmMuBVqHytQga9sDhAN0ms4jZSKUuPQ6S.miXEOpazT9MhOJLLmgwv2fcROw.WjPFFIR26460BJBM6CcsSObs6RP8ZcdPAwyff2Wmwh9UCyhp7p72aD.4s5YoELRBCyLU64pCS5O6WDMpeXrouysZBnON16SbtIEGuKOvjJGvU_vseL1Slcu9fMiLbSYuH_Ky4W6Lod1o3YTwtCfF6UssQ3jrTV0jajGhCxOfOrIsKatB9IZoaY_tN0amPC179j7Y1hj73gYodfv51LEd5kAsPcqWonyYtXpP4PERRzlX.zL6ZrsiTe14G.XSUyEeNsqVHsUJW8RH.bEGdaHGjVSWmLPI3nHrwTG_DWJRJFH0OaGt5VlMlX0v4TAkd1hI2HauYnpS11txJUSOEeC_s1gMZfofWY4zrIy0af7SJKdoKP05.6yD2xfL0tOb4wE6.RN9krW4REE4Duu5wjY_5lQXIUevea2tuiRfQQVfK3L2gq.mC5E3j2Zfazlf5x4yCOHG5hw9D14JSXCv7XKaNh8F2lu3gRyqb1ffY8tvwKnfzn9Rkpx0IoAi8Eh9pTB99_PeaX7jb8pNuMtxx0f792KICbVWX_9XsdWwGRZuDFVjbiMYwQ.QDMzncX.sFwu.3CZF7BJ7p7B3kHyagHdXjv8c8J.wcywDqxDrtXQmyZHmxGX6Y7HDd3GgaZzPbKlNq.hHt29uyPCsUNfq0AnRkXdJPWtijR9Sa24DdQY0lHVSkU_n1t3joc3d6lp.z2MIlKxX9Oe.Ua8QCREb2Gvf0OrzibtNOWnTpDNOzpNjRnfbsORqM3wtNbGkoQ_ygAyT0T.i8w02xcE7BCXqOQp4\",mdrd: \"3Ht7hE0cN_S1vkr.szy3_mgzG0nI9pATif5Keqbyowg-1709985315-1.1.1.1-xEhxUosc6XZEB07.nvccKkAdrGFn_lv9V8z9ehFZyfFEoNBzj8f2C.YL99CY.C8m326WFwpGuQsznhsv1HFYfGxzQj2K43nz2uEKIsruGJeMyrjPY4e2LD3Mg0IH9TJRLTYPtwxeoAtJ1Vg2mslL0KJ2WidYAcGveG9SvRP6qPEUfzdvuYNo_FwVax17f7m8K7CDoA2_qNltEEWrZcp51Y.TQxSFV3IhsJnZEhgIM77ij.H7Br2B3HeCuaaYRygtZLfnnpdbD_sE8.LlwYeiS6xjxup8MDa1iGDBUBIMyePeREflLR8dHeAt.ZvJh2UXvhagztZQIVFh6vpHRM0K_v.9XPxF2AF2crNMDC8wJC6VZq9dsQK1.aszjw.Eqg2pGtOL0TB6scK1hH_tpk_S_ojybqnitZ2XELF_azYSsy4v1PmDAGKcPQ5F.OcwHZ1GRAIBUW0nO1.ng5bsdEjauxefyEU8QdM.WC4GwoSOW.Vc36JrDWwoxLbO8smLkuiedOUQQPgHxLQ8wvvB1c.T1042CJr2NRWY73_bhJNfFD_JbriKWCYq6tV8YwSA8LMlbSKGP1NFtsOSPHkzsp0Ftet3jaaLAOY05mQqgpRl0ObwJeLR_jeS5STSq5aoD8THlIwWtu_SX0s78POLuZ4JuNvkrSLbLG5ATjPoa13e3E5blkMryTBfc3D56VInS6ajR.Lke0S1oQauwfps2UmQxHXdwbEOP.ObQbx6LHUMhbAckJ4NhQvxWpTC2VqcyinAqDYJGfA8fp794KAdNAYpTrIeqNLHL2lHmVa7rEAA8UdyOWSB.8L2z967GCPcmUg506GPOI6Pw67zKvcHEhskeZXJP9HH2bKkSjCFXkk0XdbMK1Ep2h3mA_KfVjfRxkmrmHKEf6d6jvtnosNhPDZFY6moCH_IBpWw8Obwgan4wJgLQL09xCM1eZytc7oERJZMMtAsl_.80Coj1lTbN_EwoP0Uvx_nygHSDtIFXAVSnvsKQ0U6.hE4N6s1B6Z62f7taowIUvM4cTdm_OAwccFRcfSjFIK0SWz_dgtnq1tgAskQUXg5vSscYwX8H8LZKPtbvKVhiPdNSjax3MAc8ljp1sQwc8UjIFbSo3NDEAyl.knv0QHPGCJKw2geUIqnq21LkC0cLtwBALWiA0ArPFU7KSd6xaq4MxeFslioy45pVF8aiHGt1P9Is0H57qrEzIvhUNDhmNw.MCryT_UuKkjx.Ld1WaITPp2CZ1yDdf1cObNdN6YhqP0YpZWN6l2fw9_mg2ZHqt3KfvglDKwKw0Z4PQexBKkQ6QbPavFNLiZkgaKyJ0A_R0hSZMKKcpipFLuArOe3hHflEL1mlZzmPTpCOvFwA3jsKgRiQy4MmtVGNgMNBbyX.lYBvlGeqk1O5.KD2jncu3mVZ9LZ1CRf8akBlvdE8720BeUa1BfwIWddo8xU4n6eTdEduugxKgILwsaETS2HUb4Tj91vB6EnVCSkQ166XPZ3yNcFILz2Cc9nd2hjXqf1msWnAF.KgXgQ8zdl_shzq0NCNYEqYdo2RVv24sSjrGMDVImGuYjLXDqia2XwsJC3DAl1iqyazRGFr_00z9810OLbUJRnNi3xWL6m6m2LrDaAKv10HggyDJfJr5pyAmhMgf6qTKwYg4ZjBH8NCRmbbrMcozoYSu13oN.n8R3JJOwih8PCV5LmHPgBuXTphdQBgksaShDrbwB0uJDivb0EE0CK4MBZkHyFZxaaqBCjLY725KHzvXeq2cNxtm.DIkBQ1ukH0cNthUlYJjS43zIhtUizrd5VuZQlUK_Xdc4rQL1CV05uZmHSmG.YXNthqSCnSRSHnjGalyb664TY\",cRq: {ru: 'aHR0cHM6Ly9sZWV0Y29kZS5jb20vZ3JhcGhxbC8=',ra: 'Y3VybC84LjQuMA==',rm: 'UE9TVA==',d: '0sEQraNlZ3oHkAYjhlMqAyHZQJF5qzKD2wTV2JRE1TK5LoHVj5X68VkV/31Qds6MfjeTxaRomSgwl/LYp1mCCswIEmy3G/m4WZKR7ga3s/qoVuhhIOudMoZQelXFe5TDlt7bSIShJI2in59aXotkaOlGCGk13FcuVJvcFKtFDilvkTBGagkbL7+KWjRktwnQzlKZYzu3lEoNDQC4HKs7McYfVeDzGLT/ZUAzrGIeKEzn1i6o2Fb04GADX6e1zahIhTqq3bFIdxxE3I5VvyBxeYNWBoDfCek90Tbez7cfGRMvrWn8uUAvDV2xW2w+o6pnYBwacbmCBY2y2bxXV++DGaIQoIMjd/ti42xccVUDQsGjQZnRxPaik2CPubbbWJVywsn7OLl1I5PR+GFNweSlS2qo7Y1GAny1dRwP6Pq8HOpOOxh4pjV1tLdTGoULgmAiGF/hHyQqbf95aCLW7Jo64TC3jnWIace3ZyAhlgYKwCtE8AMPeNso8XzLk3RoGJ7jhQVprMVkpkpSozgvY4aSpy0Dj/4zpjLleaupXTuEqbo27QrMol6B2/ulcNz5tmGQG6cE4x1tzwQWyff6efR73Q==',t: 'MTcwOTk4NTMxNS4zNTEwMDA=',cT: Math.floor(Date.now() / 1000),m: 'Taz0y4aYKoljAH1qiN0wsrzErFpPLBTo7qH4MfYX8mg=',i1: '/8FpTpvQRXDj8fB5cvySPw==',i2: 'hs5BhoqIuA8NxFnh97vGDg==',zh: '6dW5KLsjmoGStZm/w3CUkISq8657AEI6JKhvmam58xM=',uh: 'F20Tx4X4PHV+2Q7oGaTcNODjxGvofpZg/mO+RSS8M+E=',hh: 'Lb0VxCKQFzTc4iX077lkQv6YXNlmOsxL7hMPdtK/ZKE=',}};var cpo = document.createElement('script');cpo.src = '/cdn-cgi/challenge-platform/h/b/orchestrate/chl_page/v1?ray=861adffcea0070f7';window._cf_chl_opt.cOgUHash = location.hash === '' && location.href.indexOf('#') !== -1 ? '#' : location.hash;window._cf_chl_opt.cOgUQuery = location.search === '' && location.href.slice(0, location.href.length - window._cf_chl_opt.cOgUHash.length).indexOf('?') !== -1 ? '?' : location.search;if (window.history && window.history.replaceState) {var ogU = location.pathname + window._cf_chl_opt.cOgUQuery + window._cf_chl_opt.cOgUHash;history.replaceState(null, null, \"\\/graphql\\/?__cf_chl_rt_tk=NwasD_jMyWuqDnggBm7QMzkWIBeGX9YHZ5K9cNMtt4I-1709985315-0.0.1.1-1599\" + window._cf_chl_opt.cOgUHash);cpo.onload = function() {history.replaceState(null, null, ogU);}}document.getElementsByTagName('head')[0].appendChild(cpo);}());</script></body></html>curl: (3) nested brace in URL position 53:\n",
      "{\"operationName\": \"questionData\",      \"variables\": {\"titleSlug\": question},      \"query\": \"\"\"query questionData($titleSlug: String\\u0021) {question(titleSlug: $titleSlug) {content}}\"\"\"}\n",
      "                                                    ^\n"
     ]
    }
   ],
   "source": [
    "! curl 'https://leetcode.com/graphql/' \\\n",
    "  --data-raw $ '{\"operationName\": \"questionData\", \\\n",
    "    \"variables\": {\"titleSlug\": question}, \\\n",
    "    \"query\": \"\"\"query questionData($titleSlug: String\\u0021) {question(titleSlug: $titleSlug) {content}}\"\"\"}'"
   ]
  },
  {
   "cell_type": "code",
   "execution_count": 138,
   "id": "225bd005-1a66-4c53-8536-f14d225091d7",
   "metadata": {
    "scrolled": true
   },
   "outputs": [
    {
     "name": "stdout",
     "output_type": "stream",
     "text": [
      "<!DOCTYPE html><html lang=\"en-US\"><head><title>Just a moment...</title><meta http-equiv=\"Content-Type\" content=\"text/html; charset=UTF-8\"><meta http-equiv=\"X-UA-Compatible\" content=\"IE=Edge\"><meta name=\"robots\" content=\"noindex,nofollow\"><meta name=\"viewport\" content=\"width=device-width,initial-scale=1\"><style>*{box-sizing:border-box;margin:0;padding:0}html{line-height:1.15;-webkit-text-size-adjust:100%;color:#313131}button,html{font-family:system-ui,-apple-system,BlinkMacSystemFont,Segoe UI,Roboto,Helvetica Neue,Arial,Noto Sans,sans-serif,Apple Color Emoji,Segoe UI Emoji,Segoe UI Symbol,Noto Color Emoji}@media (prefers-color-scheme:dark){body{background-color:#222;color:#d9d9d9}body a{color:#fff}body a:hover{color:#ee730a;text-decoration:underline}body .lds-ring div{border-color:#999 transparent transparent}body .font-red{color:#b20f03}body .big-button,body .pow-button{background-color:#4693ff;color:#1d1d1d}body #challenge-success-text{background-image:url(data:image/svg+xml;base64,PHN2ZyB4bWxucz0iaHR0cDovL3d3dy53My5vcmcvMjAwMC9zdmciIHdpZHRoPSIzMiIgaGVpZ2h0PSIzMiIgZmlsbD0ibm9uZSIgdmlld0JveD0iMCAwIDI2IDI2Ij48cGF0aCBmaWxsPSIjZDlkOWQ5IiBkPSJNMTMgMGExMyAxMyAwIDEgMCAwIDI2IDEzIDEzIDAgMCAwIDAtMjZtMCAyNGExMSAxMSAwIDEgMSAwLTIyIDExIDExIDAgMCAxIDAgMjIiLz48cGF0aCBmaWxsPSIjZDlkOWQ5IiBkPSJtMTAuOTU1IDE2LjA1NS0zLjk1LTQuMTI1LTEuNDQ1IDEuMzg1IDUuMzcgNS42MSA5LjQ5NS05LjYtMS40Mi0xLjQwNXoiLz48L3N2Zz4=)}body #challenge-error-text{background-image:url(data:image/svg+xml;base64,PHN2ZyB4bWxucz0iaHR0cDovL3d3dy53My5vcmcvMjAwMC9zdmciIHdpZHRoPSIzMiIgaGVpZ2h0PSIzMiIgZmlsbD0ibm9uZSI+PHBhdGggZmlsbD0iI0IyMEYwMyIgZD0iTTE2IDNhMTMgMTMgMCAxIDAgMTMgMTNBMTMuMDE1IDEzLjAxNSAwIDAgMCAxNiAzbTAgMjRhMTEgMTEgMCAxIDEgMTEtMTEgMTEuMDEgMTEuMDEgMCAwIDEtMTEgMTEiLz48cGF0aCBmaWxsPSIjQjIwRjAzIiBkPSJNMTcuMDM4IDE4LjYxNUgxNC44N0wxNC41NjMgOS41aDIuNzgzem0tMS4wODQgMS40MjdxLjY2IDAgMS4wNTcuMzg4LjQwNy4zODkuNDA3Ljk5NCAwIC41OTYtLjQwNy45ODQtLjM5Ny4zOS0xLjA1Ny4zODktLjY1IDAtMS4wNTYtLjM4OS0uMzk4LS4zODktLjM5OC0uOTg0IDAtLjU5Ny4zOTgtLjk4NS40MDYtLjM5NyAxLjA1Ni0uMzk3Ii8+PC9zdmc+)}}body{display:flex;flex-direction:column;min-height:100vh}body.no-js .loading-spinner{visibility:hidden}body.no-js .challenge-running{display:none}body.dark{background-color:#222;color:#d9d9d9}body.dark a{color:#fff}body.dark a:hover{color:#ee730a;text-decoration:underline}body.dark .lds-ring div{border-color:#999 transparent transparent}body.dark .font-red{color:#b20f03}body.dark .big-button,body.dark .pow-button{background-color:#4693ff;color:#1d1d1d}body.dark #challenge-success-text{background-image:url(data:image/svg+xml;base64,PHN2ZyB4bWxucz0iaHR0cDovL3d3dy53My5vcmcvMjAwMC9zdmciIHdpZHRoPSIzMiIgaGVpZ2h0PSIzMiIgZmlsbD0ibm9uZSIgdmlld0JveD0iMCAwIDI2IDI2Ij48cGF0aCBmaWxsPSIjZDlkOWQ5IiBkPSJNMTMgMGExMyAxMyAwIDEgMCAwIDI2IDEzIDEzIDAgMCAwIDAtMjZtMCAyNGExMSAxMSAwIDEgMSAwLTIyIDExIDExIDAgMCAxIDAgMjIiLz48cGF0aCBmaWxsPSIjZDlkOWQ5IiBkPSJtMTAuOTU1IDE2LjA1NS0zLjk1LTQuMTI1LTEuNDQ1IDEuMzg1IDUuMzcgNS42MSA5LjQ5NS05LjYtMS40Mi0xLjQwNXoiLz48L3N2Zz4=)}body.dark #challenge-error-text{background-image:url(data:image/svg+xml;base64,PHN2ZyB4bWxucz0iaHR0cDovL3d3dy53My5vcmcvMjAwMC9zdmciIHdpZHRoPSIzMiIgaGVpZ2h0PSIzMiIgZmlsbD0ibm9uZSI+PHBhdGggZmlsbD0iI0IyMEYwMyIgZD0iTTE2IDNhMTMgMTMgMCAxIDAgMTMgMTNBMTMuMDE1IDEzLjAxNSAwIDAgMCAxNiAzbTAgMjRhMTEgMTEgMCAxIDEgMTEtMTEgMTEuMDEgMTEuMDEgMCAwIDEtMTEgMTEiLz48cGF0aCBmaWxsPSIjQjIwRjAzIiBkPSJNMTcuMDM4IDE4LjYxNUgxNC44N0wxNC41NjMgOS41aDIuNzgzem0tMS4wODQgMS40MjdxLjY2IDAgMS4wNTcuMzg4LjQwNy4zODkuNDA3Ljk5NCAwIC41OTYtLjQwNy45ODQtLjM5Ny4zOS0xLjA1Ny4zODktLjY1IDAtMS4wNTYtLjM4OS0uMzk4LS4zODktLjM5OC0uOTg0IDAtLjU5Ny4zOTgtLjk4NS40MDYtLjM5NyAxLjA1Ni0uMzk3Ii8+PC9zdmc+)}body.light{background-color:transparent;color:#313131}body.light a{color:#0051c3}body.light a:hover{color:#ee730a;text-decoration:underline}body.light .lds-ring div{border-color:#595959 transparent transparent}body.light .font-red{color:#fc574a}body.light .big-button,body.light .pow-button{background-color:#003681;border-color:#003681;color:#fff}body.light #challenge-success-text{background-image:url(data:image/svg+xml;base64,PHN2ZyB4bWxucz0iaHR0cDovL3d3dy53My5vcmcvMjAwMC9zdmciIHdpZHRoPSIzMiIgaGVpZ2h0PSIzMiIgZmlsbD0ibm9uZSIgdmlld0JveD0iMCAwIDI2IDI2Ij48cGF0aCBmaWxsPSIjMzEzMTMxIiBkPSJNMTMgMGExMyAxMyAwIDEgMCAwIDI2IDEzIDEzIDAgMCAwIDAtMjZtMCAyNGExMSAxMSAwIDEgMSAwLTIyIDExIDExIDAgMCAxIDAgMjIiLz48cGF0aCBmaWxsPSIjMzEzMTMxIiBkPSJtMTAuOTU1IDE2LjA1NS0zLjk1LTQuMTI1LTEuNDQ1IDEuMzg1IDUuMzcgNS42MSA5LjQ5NS05LjYtMS40Mi0xLjQwNXoiLz48L3N2Zz4=)}body.light #challenge-error-text{background-image:url(data:image/svg+xml;base64,PHN2ZyB4bWxucz0iaHR0cDovL3d3dy53My5vcmcvMjAwMC9zdmciIHdpZHRoPSIzMiIgaGVpZ2h0PSIzMiIgZmlsbD0ibm9uZSI+PHBhdGggZmlsbD0iI2ZjNTc0YSIgZD0iTTE2IDNhMTMgMTMgMCAxIDAgMTMgMTNBMTMuMDE1IDEzLjAxNSAwIDAgMCAxNiAzbTAgMjRhMTEgMTEgMCAxIDEgMTEtMTEgMTEuMDEgMTEuMDEgMCAwIDEtMTEgMTEiLz48cGF0aCBmaWxsPSIjZmM1NzRhIiBkPSJNMTcuMDM4IDE4LjYxNUgxNC44N0wxNC41NjMgOS41aDIuNzgzem0tMS4wODQgMS40MjdxLjY2IDAgMS4wNTcuMzg4LjQwNy4zODkuNDA3Ljk5NCAwIC41OTYtLjQwNy45ODQtLjM5Ny4zOS0xLjA1Ny4zODktLjY1IDAtMS4wNTYtLjM4OS0uMzk4LS4zODktLjM5OC0uOTg0IDAtLjU5Ny4zOTgtLjk4NS40MDYtLjM5NyAxLjA1Ni0uMzk3Ii8+PC9zdmc+)}a{background-color:transparent;color:#0051c3;text-decoration:none;transition:color .15s ease}a:hover{color:#ee730a;text-decoration:underline}.main-content{margin:8rem auto;max-width:60rem;width:100%}.heading-favicon{height:2rem;margin-right:.5rem;width:2rem}@media (width <= 720px){.main-content{margin-top:4rem}.heading-favicon{height:1.5rem;width:1.5rem}}.footer,.main-content{padding-left:1.5rem;padding-right:1.5rem}.main-wrapper{align-items:center;display:flex;flex:1;flex-direction:column}.font-red{color:#b20f03}.spacer{margin:2rem 0}.h1{font-size:2.5rem;font-weight:500;line-height:3.75rem}.h2{font-weight:500}.core-msg,.h2{font-size:1.5rem;line-height:2.25rem}.body-text,.core-msg{font-weight:400}.body-text{font-size:1rem;line-height:1.25rem}@media (width <= 720px){.h1{font-size:1.5rem;line-height:1.75rem}.h2{font-size:1.25rem}.core-msg,.h2{line-height:1.5rem}.core-msg{font-size:1rem}}#challenge-error-text{background-image:url(data:image/svg+xml;base64,PHN2ZyB4bWxucz0iaHR0cDovL3d3dy53My5vcmcvMjAwMC9zdmciIHdpZHRoPSIzMiIgaGVpZ2h0PSIzMiIgZmlsbD0ibm9uZSI+PHBhdGggZmlsbD0iI2ZjNTc0YSIgZD0iTTE2IDNhMTMgMTMgMCAxIDAgMTMgMTNBMTMuMDE1IDEzLjAxNSAwIDAgMCAxNiAzbTAgMjRhMTEgMTEgMCAxIDEgMTEtMTEgMTEuMDEgMTEuMDEgMCAwIDEtMTEgMTEiLz48cGF0aCBmaWxsPSIjZmM1NzRhIiBkPSJNMTcuMDM4IDE4LjYxNUgxNC44N0wxNC41NjMgOS41aDIuNzgzem0tMS4wODQgMS40MjdxLjY2IDAgMS4wNTcuMzg4LjQwNy4zODkuNDA3Ljk5NCAwIC41OTYtLjQwNy45ODQtLjM5Ny4zOS0xLjA1Ny4zODktLjY1IDAtMS4wNTYtLjM4OS0uMzk4LS4zODktLjM5OC0uOTg0IDAtLjU5Ny4zOTgtLjk4NS40MDYtLjM5NyAxLjA1Ni0uMzk3Ii8+PC9zdmc+);padding-left:34px}#challenge-error-text,#challenge-success-text{background-repeat:no-repeat;background-size:contain}#challenge-success-text{background-image:url(data:image/svg+xml;base64,PHN2ZyB4bWxucz0iaHR0cDovL3d3dy53My5vcmcvMjAwMC9zdmciIHdpZHRoPSIzMiIgaGVpZ2h0PSIzMiIgZmlsbD0ibm9uZSIgdmlld0JveD0iMCAwIDI2IDI2Ij48cGF0aCBmaWxsPSIjMzEzMTMxIiBkPSJNMTMgMGExMyAxMyAwIDEgMCAwIDI2IDEzIDEzIDAgMCAwIDAtMjZtMCAyNGExMSAxMSAwIDEgMSAwLTIyIDExIDExIDAgMCAxIDAgMjIiLz48cGF0aCBmaWxsPSIjMzEzMTMxIiBkPSJtMTAuOTU1IDE2LjA1NS0zLjk1LTQuMTI1LTEuNDQ1IDEuMzg1IDUuMzcgNS42MSA5LjQ5NS05LjYtMS40Mi0xLjQwNXoiLz48L3N2Zz4=);padding-left:42px}.text-center{text-align:center}.big-button{border:.063rem solid #0051c3;border-radius:.313rem;font-size:.875rem;line-height:1.313rem;padding:.375rem 1rem;transition-duration:.2s;transition-property:background-color,border-color,color;transition-timing-function:ease}.big-button:hover{cursor:pointer}.captcha-prompt:not(.hidden){display:flex}@media (width <= 720px){.captcha-prompt:not(.hidden){flex-wrap:wrap;justify-content:center}}.pow-button{background-color:#0051c3;color:#fff;margin:2rem 0}.pow-button:hover{background-color:#003681;border-color:#003681;color:#fff}.footer{font-size:.75rem;line-height:1.125rem;margin:0 auto;max-width:60rem;width:100%}.footer-inner{border-top:1px solid #d9d9d9;padding-bottom:1rem;padding-top:1rem}.clearfix:after{clear:both;content:\"\";display:table}.clearfix .column{float:left;padding-right:1.5rem;width:50%}.diagnostic-wrapper{margin-bottom:.5rem}.footer .ray-id{text-align:center}.footer .ray-id code{font-family:monaco,courier,monospace}.core-msg,.zone-name-title{overflow-wrap:break-word}@media (width <= 720px){.diagnostic-wrapper{display:flex;flex-wrap:wrap;justify-content:center}.clearfix:after{clear:none;content:none;display:initial;text-align:center}.column{padding-bottom:2rem}.clearfix .column{float:none;padding:0;width:auto;word-break:keep-all}.zone-name-title{margin-bottom:1rem}}.loading-spinner{height:76.391px}.lds-ring{display:inline-block;position:relative}.lds-ring,.lds-ring div{height:1.875rem;width:1.875rem}.lds-ring div{animation:lds-ring 1.2s cubic-bezier(.5,0,.5,1) infinite;border:.3rem solid transparent;border-radius:50%;border-top-color:#313131;box-sizing:border-box;display:block;position:absolute}.lds-ring div:first-child{animation-delay:-.45s}.lds-ring div:nth-child(2){animation-delay:-.3s}.lds-ring div:nth-child(3){animation-delay:-.15s}@keyframes lds-ring{0%{transform:rotate(0)}to{transform:rotate(1turn)}}@media screen and (-ms-high-contrast:active),screen and (-ms-high-contrast:none){.main-wrapper,body{display:block}}</style><meta http-equiv=\"refresh\" content=\"375\"></head><body class=\"no-js\"><div class=\"main-wrapper\" role=\"main\"><div class=\"main-content\"><noscript><div id=\"challenge-error-title\"><div class=\"h2\"><span id=\"challenge-error-text\">Enable JavaScript and cookies to continue</span></div></div></noscript></div></div><script>(function(){window._cf_chl_opt={cvId: '3',cZone: \"leetcode.com\",cType: 'managed',cNounce: '35919',cRay: '861b4ba54b074c7a',cHash: '241cd20e24cb8ca',cUPMDTk: \"\\/graphql\\/?__cf_chl_tk=lHIwcNiuYlPw6uL7gg.2LhDsYE8sz9a0JL3XTCsJFrk-1709989725-0.0.1.1-1599\",cFPWv: 'b',cTTimeMs: '1000',cMTimeMs: '375000',cTplV: 5,cTplB: 'cf',cK: \"visitor-time\",fa: \"\\/graphql\\/?__cf_chl_f_tk=lHIwcNiuYlPw6uL7gg.2LhDsYE8sz9a0JL3XTCsJFrk-1709989725-0.0.1.1-1599\",md: \"Met1p3UMHg9hFNq20OBUncGxOVpPA36bwF3bgciTsdA-1709989725-1.1.1.1-8fKLvBhebag4rwcqigHisGTSa9UQ6Z9_Nx4kW_s8f2oujSAC176pRvlz1NVOBn2LINGgKrtKnqQrINCd_HIsNvja53cf7J5DqMbk9z2n0SRh0ZXIUySmARhbhndGRdv50J7HWy3Br8j7hPznsU7JGp4BHjLZwuMgsgvCn4BBz4h2KOSZlygcs70qWQP5.POkjTs9E3A5JN1qeaCsUZP_mXcpYSUCwuv61SX.swTkJvPZqDhDFEt6.XRAfA8qjUem6aIFh2Erb2W.nrgQUGvxllISFufwFu43f1igcuaia37b8NKwTfCu1OR70ceYTYqNrjxMjnK136FeSTsqPsF2162WER1DP1lmd4WBHEtbUwlF.WwI_6278wT8u4eBnVT9n1U8V0Ko3qPNaRGIQ7ixWEPW9GnjV748E2dke0JmMHn2dKQAqYbLIWY3._gkSCaZUteFwRqHwnJScDIwJ4dc327IgX2Ky3tkZyZe6GYxs.cUAGOpI4JtmK6DDonVEdtEAJGXChvhTW0JUW_xR7dguRqm_UdeFS_4akUnm4Po05_EdK.81REHOshOFQFKX56xCKRaSPsF9xcunuYt613inKlW8lO49ZiqI_ZbHk0Nf37P2LT87AxE20H695kjEgLubqNpJlX5APZotxJAvPJDqRDuNAUY1zSlI4CBpn5BI0qGl51Xc0bYHLFyBQtcknV.P48erINxrBPlCerw9DKJ9f9ktFiJRIuJCyAWZ0.euZHUpRIJq9twI1zHRYc2LWVYmoo0CBw8m9g3gQcR4fjw85zpl6NTSo59wDNcomsS.wwa30eQY_rtF5L.EbrSorES7YEPn9B6JzPhhPa.EzvAPN1hxtMrx0f9eLgzMH6jtqu0BC8zSuKSYGj2cGBmuPkyHUi5c07ESpregyCLuLwDXygTYkcyHCeE0kkXnKIV7gOahhCVc6dGNvbNRgLhx8fs0xCcMN357kgq6H4EmCfAtaCNAzZTBKt5cCSMXWfP4pszb3rixskmexd20SJjbxW5QiOll9xCxyKvKfxFZiVL4rLTPWtPbw01S129c71F4P9Q1.TWTGEKi8ueZBda4Ps2oVp4GINdfwJwQHCD2C.WBD.vP48hroa2xOprEcfbsIKdxZhPAGvHfiEhpGdJ.CI6_zoXBIHcDuRsSXLqAIjQdw0uTl8pxYOC11MtRpVeBNRQDU92Bp.xfB9PbAGTwlymfUOfNU6UUYevVV.sLZNi5SMaPGrELmv7SWEXXM3_S4nzjjjma8D9B.CgAdrpneJOZBH5s9FdrN.C.6yE.h7XDHm2qan0roQ4mdJXvsPP9BquO8dqprss7mYPcwBmuTWPWPqLnhtYDtQjxymBSRf5EAWJU5B2ld0TJG3eiHjnOlgHpoBUEi435AISA2Jss7shq.jpV1jkSToQMbJfbeRNNhu7yV6i7vTlo9NTqyXE_..zIqCdC9S2z6UJG5RZ2J2OT3pZJr3bS_QoInPgDswDRNmGjLRGS0tbFoo_5LB8eUVEHBFvk7cFbgP_tTaMZyMB\",mdrd: \"ThS96NLqqY7Sxc34c7dhjp5FMw.m2zPATYUznRtbPHw-1709989725-1.1.1.1-0TwJtCxFyl6lLEoWtC.8vITKrco9hJjYcTcas3yKZDo8PLRiAYb_DpnJQWWUPheq5Mkaoe1QqVyuaiA9LVDZpzlDelioQjh_mHoU0nAetu1OragNJ1JbB_D6JGHzOAYi_ipL1xgR7LSxOJp0Ajn11SUKozlyEUMgATFNB3oll8ypELJLgn80gKg0urjNpvxphG6X.6KYAAI7tmko_LkcNPA0AJOmi1VwFssZgqJ2Mm9cqcBcduKgpjqailzOcp.57kXxmRHCeDnLo_L9uQsnd6sVmQ1WPoxtOdgw6leA3TKTTmX3vmI0yicKuhQCPw1b58tw0IoajBs9ktWJ6yuXMiN_mrbhTTxqlSdkS6oh.G2yd8wnaQf3f1U8lBaucGfTxaImspIh6mszgVbWcrtPTwwhY9ZIsK1QHDdMqrw7F__XZwJaTX4mA14JtXEwjMSnCghC2IZw1U7coPUgZ4kKbHesR9riBs5oIBtFvQJDpBHHm8lFNTeQAxsQmrhpxOgnTEWLPiO5LNnISnRC8bJhSGTzG71o9NL6GECUX7NAA060deadm9beNfQYbaF.6WV0Sj4RzXPYZRzjjfi_2h5ml5wRYu4RSyOPCPwMrLoGEfOtCvFuGjShLYsQo8emq3IleztyEv_5ahKksWRlF.oG4bkTH9GxaTSStIWqGn2DYzeEt6Z9JLkmS0OkIH13reH8mLQGGAEU8841tSoYfy5AY.bSc40gFXuJ6YIbmhK5fLdRO2yShzvtjAzVyRFhBqLuYm4tgcDXjJw7ZxK1FHKC1WNaicVeBNrzgkexiWo2ZsYcfsFPn4.i90wzTIQjAUthuXqpNB1zsdn1ZA7fGT5RuDvADA5.LGlyk9uM4pso6ogd0YNC_5l4Em04P2rHx5lR7sst5s5NiPuBpy6gNPKEwyIfU_.BbvWNafbxgpK5ZUYFZfYYNgubBFNvOjO4cMgviNBIeCRIdyjb39Sxpn5pHQoIXCx9Lp46XuALwh9nM1LVxxQv96OBB5E3RyC690NqJSU2MLRIaz6T.yALh24wpzo.cUrcalNvE_HyoYg27wphH6ZtPX714ZtZj1ykrpX9_FNewgGOU5T2CkXSKaZukV5PLaIvVOJL6D82DUv4k9AgBL0Rt1AAJzHzyb.rzUXkTBjxNvmCsfKWTCU2gfeo37_MuxFB0SsqElrDj.WxCWQ2Gg1D01dfx_fzwQn9dp9dPJdHYh1Jsai9uV2Xb6knm8YmwS2.0BZ3FlhrQv8ZnW_wK69IED4gDxe4saE8ibQQY8B3RgBQMkNBSBfkvHepvx54yvVcAj3SvcAOtNUrAnnqLpfCXYSkYhUFJP_PVLiG8pSgww1b8h50rN3N1fFq8_Nj2yCyotF2aozUPSkWSGX7U2JhQI3NxAAJBeKpLbKCnGtbX6.xAOo9n4Rc3pI31GfMr.wSSALpVtaDx.f9lj9qXH29lfL80Vqr2lQUPoPWAapIWNrk.1GAxXc2P.K.mNgUC8c4AEZie38aospW12a7Hg4Pyon6jbGhdMI3wl5uAilzAys3Q8CNndpM8IWDBwNJoobxDxn2RwSGuS1jMRnVdYDwFJmjvxHiPaDzM1FXyvaz2IiD4q_TbBTKYwhsH1M8ZYAiRJVWCvCixQAqB._Yi2gaXM85zI4grhnvzu9fRXSySNG3YANnEcJ.TgbGrjP1129XLn7ycJDmtl4RGTnp291kxLUu8UTydtk3hfab4OZGH.9N6fiOIBmt9tFPEA5fToKcmXmEBz.R.lzkeeHXzDJX4emQDYG7XOC4cD77jLjuPfunDhTM10p3Jd4P2Y72atdJmeEdohAeabVCj5PG4Id.95ff_Uw5bqkf81KqjXIZw_YGReWKp8J2h13RI6A6W6aeGFmr8XUZSrKLl8bseh82pzBQyui5PIpLAYmKorPKyat6hloZP3oXC5jExiR8LOU0ezB6ZZS9vekxNug5GU0qUGbGEhBRmudUaCMSvSQe5tQbt9xkY6poJK4addDU65jVaH4YtxXqN7IzhbJPZsrgYdbY8u2LVIxZodJWLGgDGvuvqwh2gqLdouWI.Lz0IchukUoAJLZMnfG_Y.yecTAxn9Qn5005pyEOTxGyGGETEsSgJOHuqXRgTpOlcUxpkW35O3fJWAZJNfOgmfyi30nYGkjU2x8bFllfO4kf49zyV0QO2eR7rhb_szXfxjHV2AOk4G9O6n6fITNlrYXHmFt31En83YATmBh_cC6AOy0T9VctL_Oky2iNgDC_g4FYSeKRTMHdsjjlAb4hdspxCrOCQZ_qWYKXCQgh7bzui9e1xZWjeKBQH0iAmNVAdIFrcpuNVfB_GlUyy2LjIqfPZ2RND9DDbK.SmTZiWx85cy370.IVra86Cq3QFTDF3NiYl2WpQJw6ie3nY5F_CQK2xxhHGG7A5v1aAiE3EmLmnnAAsBDVZqj6wBzJzSaWtc5hpcacsil8.UVD7lolY1WSlGMbMWK07OMTv7QC074no7R.ZWYWgYJXWTnbf8yChvHB9z4UW5l0ih5rykjLgHw5NUz2mV7xTRMXI4wEbWi1XFn6x0kyC2rLbIIIJMEWM1VW.K3n73EjpZuu_xeKlggqPhWSfrCzooa.gN_vs209LURp2lxcyVNCO3Mc5kqiczHiSdTBL9WR0y2hpGm8JJhxgpf.RVLqK2m3GG62Sy783t_GiAB3Lx4Mdu8fWWqRX26KylfevMcIIDLxMaAt3k6Z_L78IB1FTDHcXT16k3yaKHRZVw1pvJzw04PEia81gzXodU_eEDgSAlW52i8STE21fP1eVq9bjMgfygRK.QvUNRP9fGZ6iqIi5gf32EF_WUeoGqTcXHVWE71BdFziz_7Myj4oexw1U6RaNs9tH5Nl.EpdazZCduyYyLHkuw61DV252Z_MN0wVS8JlYSIU9FwBiN1x2XbegyPfR4.n.Z88LC.MMiroHgsdOSYKW8.h9vNm0iJYvDnouKJPKhsmZL_tr.YBrEsRGkpg3TVc9Phg3.FTa03rBWXiosZxo7m7Mht7Ln3ImI7atj92K.EHBVZ.cImWRGvVXPTQ8gKnN.R4s9AzYn6I2baG9BJATL7Z6SIm39Styab_jWIvjVfQWDlgdcV.rnPOye4n9IGrRnsE7BlIU_bVqQOtvOiMm2_6u9Y5WaCpcWELp5A9C05Mo0rxuD.asu7lUjKeoNymqy.0Trvb_Kpy6O3.5LEVN_U6JZmmV._p1i_FJctj84LQHAuZ5AL2GtBV3gRAUVINunwRNpKUYwZsV28HKTs7uPeJQVXoL8viVASi189Nfbj9borkUeGcIJg_SyOChlcD4uj0TeI1kB34U_4ZgjetUDkNmAuISCRGUF4_mMWBa8q_nkUUr65a70_plpTRlmo6MXlUVrqLl2AcJMcOnJVwFuakFJP5fIP1.h8Z2xSdbFXF7m6ibwoux_TUw0yuGORTVOTV8Qg_2Hy.84fs2oeM6igh8uqKWxguKbuy7UWeRqB9GE1EYGb0tRwzzACNDTdSbKZPqFUL40b8mPe_E0LqGyJ6S_RBm.oxUvlT0BLL2Dz8OwqpBij5iwXfbNyWsimDgcX6CCkAIrvU02CgCfjm.922lMO6N4HBzimZME2ggbMAeHZi7.yDZbrOjAArqeQAedeIoEJAv5.Y5PC6tdjgD8XjYrNIHGDT4FR2E.j.30nat6cqmO4oCbZh5KQho8ES0fNH1jRPX26MrRtOs9O7vLPqJnX2GAb9F42eN4QXcx9eXqed6TqkhlePhSFyaQ.b1v4rA32OjUCgigaOXFmokoSwE6cLdVWJGyEHN4IO5LNfGmU\",cRq: {ru: 'aHR0cHM6Ly9sZWV0Y29kZS5jb20vZ3JhcGhxbC8=',ra: 'Y3VybC84LjQuMA==',rm: 'UE9TVA==',d: 'UI3VzGtvp4dWdb5eSnqtyBSRNp5muJCjRrcwnPpBjzF3ltMnk3MNE1u9obhb+LUlEC1TR/2La1vn4/l1qTYpwaCpKNm1Hdz1PFf8M7EDG3TvlX9MlNZnq9LfwaOe3JX10vk8iqwYCp+BNuULpDq9/eRR0Mzc65GYzEBh/+wLzCof9dx/K9Ku1N2bO8i1fqbXL6bAC8QO+qUCdFayNdIm+M7jKNfZ+QUkBnSL1w4lZAwXu4yihJe1BX3jiZgRFXd8YxuT+cDtqHAUcTtmdFHJraMKUqU8hfI5Xd8V4+LK+uYgOL/lvgFEjv5+8xMYAQME0u6/WCCG5oTmhFp3myz8k6QLqQmJh6gUdC9hqhoWrz3L6HfOMfiHhqt/FLO9H5mP34e/B1ZKlqO9fP+6RTFU7IrM6o3wmk5di9q2MSvUIlYA9sBaB0s6Ynah6aYXMaEr2GKNGHls69ZLh1Rrdt+cTg96t/q3QS9ej6R3Zshy43Lg5aTmBGV74oxt6yi3qkcI8llk9/GnbGlAF3oUqGv8DC5t/fIf/Gr4sOSYxpzhD9lmh/m0tnPN3RzVuJ6smoB2eq6dFOqpqvnhPmBW88+Z0g==',t: 'MTcwOTk4OTcyNS4wMTgwMDA=',cT: Math.floor(Date.now() / 1000),m: 'yXgy6sHfiIrYzWzaYl3RoX7L/ySuwfSfoJRn01JzZm8=',i1: 'warr32LGm/1d5COoqXORzw==',i2: '+EQzQD7QAeq7bRvJRjWyCg==',zh: '6dW5KLsjmoGStZm/w3CUkISq8657AEI6JKhvmam58xM=',uh: 'F20Tx4X4PHV+2Q7oGaTcNODjxGvofpZg/mO+RSS8M+E=',hh: 'Lb0VxCKQFzTc4iX077lkQv6YXNlmOsxL7hMPdtK/ZKE=',}};var cpo = document.createElement('script');cpo.src = '/cdn-cgi/challenge-platform/h/b/orchestrate/chl_page/v1?ray=861b4ba54b074c7a';window._cf_chl_opt.cOgUHash = location.hash === '' && location.href.indexOf('#') !== -1 ? '#' : location.hash;window._cf_chl_opt.cOgUQuery = location.search === '' && location.href.slice(0, location.href.length - window._cf_chl_opt.cOgUHash.length).indexOf('?') !== -1 ? '?' : location.search;if (window.history && window.history.replaceState) {var ogU = location.pathname + window._cf_chl_opt.cOgUQuery + window._cf_chl_opt.cOgUHash;history.replaceState(null, null, \"\\/graphql\\/?__cf_chl_rt_tk=lHIwcNiuYlPw6uL7gg.2LhDsYE8sz9a0JL3XTCsJFrk-1709989725-0.0.1.1-1599\" + window._cf_chl_opt.cOgUHash);cpo.onload = function() {history.replaceState(null, null, ogU);}}document.getElementsByTagName('head')[0].appendChild(cpo);}());</script></body></html>"
     ]
    }
   ],
   "source": [
    "!curl 'https://leetcode.com/graphql/' \\\n",
    "  -H 'authority: leetcode.com' \\\n",
    "  -H 'accept: */*' \\\n",
    "  -H 'accept-language: zh-CN,zh;q=0.9,en;q=0.8' \\\n",
    "  -H 'authorization;' \\\n",
    "  -H 'baggage: sentry-environment=production,sentry-release=6e3eb75f,sentry-transaction=%2Fproblems%2F%5Bslug%5D%2F%5B%5B...tab%5D%5D,sentry-public_key=2a051f9838e2450fbdd5a77eb62cc83c,sentry-trace_id=8f529281ade64f55adff8095d23372f8,sentry-sample_rate=0.03' \\\n",
    "  -H 'content-type: application/json' \\\n",
    "  -H 'cookie: csrftoken=RBIo3zSVoPXvkWelOSUnMiS4vH1Pe4xVv7Htf7FbxJzZErlerewfNFpytML33Wee; INGRESSCOOKIE=b818146f6fa0c9fa5d480497ba1f6257|8e0876c7c1464cc0ac96bc2edceabd27; gr_user_id=6cfa47c3-bb4b-45d3-960a-1d3cf43ff54b; FCCDCF=%5Bnull%2Cnull%2Cnull%2C%5B%22CP7GiMAP7GiMAEsACCZHAqEgAAAAAEPgACiQAAAOhQD2F2K2kKFkPCmQWYAQBCijYEAhQAAAAkCBIAAgAUgQAgFIIAgAIFAAAAAAAAAQEgCQAAQABAAAIACgAAAAAAIAAAAAAAQQAAAAAIAAAAAAAAEAAAAAAAQAAAAIAABEhCAAQQAEAAAAAAAQAAAAAAAAAAABAAA%22%2C%222~~dv.2072.70.89.93.108.122.149.196.2253.2299.259.2357.311.313.323.2373.338.358.2415.415.449.2506.2526.486.494.495.2568.2571.2575.540.574.2624.609.2677.864.981.1029.1048.1051.1095.1097.1126.1201.1205.1211.1276.1301.1344.1365.1415.1423.1449.1451.1570.1577.1598.1651.1716.1735.1753.1765.1870.1878.1889.1958%22%2C%2295F0A64A-FE79-4C99-BBE9-8F7484045119%22%5D%5D; __eoi=ID=3d9c8ba2914f5059:T=1709807903:RT=1709807903:S=AA-AfjaZXx0yXwz0LxG_Ipgxu-G_; __cf_bm=ubMxBzaZrzNvMEm3NWdemJbmROgt6Ro8zbff1C6pmc4-1709980817-1.0.1.1-QfVCvnRqZS_SVoAcTtOhqQSrTfUHwWtV_WJDNP0Nfx.Gz4DQMw7yS998gNtKwKYZX7FVv152v36eg59IGs5Jtw; 87b5a3c3f1a55520_gr_session_id=08021589-3683-43b0-9921-539453370ec4; 87b5a3c3f1a55520_gr_session_id_sent_vst=08021589-3683-43b0-9921-539453370ec4; _gid=GA1.2.2737198.1709980825; _ga=GA1.1.1160638533.1709807866; _ga_CDRWKZTDEX=GS1.1.1709980825.2.1.1709981553.60.0.0' \\\n",
    "  -H 'origin: https://leetcode.com' \\\n",
    "  -H 'random-uuid: 6e90f102-3db9-27cc-6922-4986f446926d' \\\n",
    "  -H 'referer: https://leetcode.com/problems/h-index/description/' \\\n",
    "  -H 'sec-ch-ua: \"Not_A Brand\";v=\"8\", \"Chromium\";v=\"120\", \"Google Chrome\";v=\"120\"' \\\n",
    "  -H 'sec-ch-ua-mobile: ?0' \\\n",
    "  -H 'sec-ch-ua-platform: \"macOS\"' \\\n",
    "  -H 'sec-fetch-dest: empty' \\\n",
    "  -H 'sec-fetch-mode: cors' \\\n",
    "  -H 'sec-fetch-site: same-origin' \\\n",
    "  -H 'sentry-trace: 8f529281ade64f55adff8095d23372f8-bcced44c588edf79-0' \\\n",
    "  -H 'x-csrftoken: RBIo3zSVoPXvkWelOSUnMiS4vH1Pe4xVv7Htf7FbxJzZErlerewfNFpytML33Wee' \\\n",
    "  --data-raw $'{\"query\":\"\\\\n    query questionContent($titleSlug: String\\u0021) {\\\\n  question(titleSlug: $titleSlug) {\\\\n    content\\\\n    mysqlSchemas\\\\n    dataSchemas\\\\n  }\\\\n}\\\\n    \",\"variables\":{\"titleSlug\":\"h-index\"},\"operationName\":\"questionContent\"}' \\\n",
    "  --compressed"
   ]
  },
  {
   "cell_type": "code",
   "execution_count": 140,
   "id": "558fc847-96b0-44cd-9b1e-9fbb3e338f0a",
   "metadata": {},
   "outputs": [
    {
     "name": "stdout",
     "output_type": "stream",
     "text": [
      "*   Trying 172.67.6.3:443...\n",
      "* Connected to leetcode.com (172.67.6.3) port 443\n",
      "* ALPN: curl offers h2,http/1.1\n",
      "* (304) (OUT), TLS handshake, Client hello (1):\n",
      "*  CAfile: /etc/ssl/cert.pem\n",
      "*  CApath: none\n",
      "* (304) (IN), TLS handshake, Server hello (2):\n",
      "* (304) (IN), TLS handshake, Unknown (8):\n",
      "* (304) (IN), TLS handshake, Certificate (11):\n",
      "* (304) (IN), TLS handshake, CERT verify (15):\n",
      "* (304) (IN), TLS handshake, Finished (20):\n",
      "* (304) (OUT), TLS handshake, Finished (20):\n",
      "* SSL connection using TLSv1.3 / AEAD-CHACHA20-POLY1305-SHA256\n",
      "* ALPN: server accepted h2\n",
      "* Server certificate:\n",
      "*  subject: C=US; ST=California; L=San Francisco; O=Cloudflare, Inc.; CN=sni.cloudflaressl.com\n",
      "*  start date: May 16 00:00:00 2023 GMT\n",
      "*  expire date: May 15 23:59:59 2024 GMT\n",
      "*  subjectAltName: host \"leetcode.com\" matched cert's \"leetcode.com\"\n",
      "*  issuer: C=US; O=Cloudflare, Inc.; CN=Cloudflare Inc ECC CA-3\n",
      "*  SSL certificate verify ok.\n",
      "* using HTTP/2\n",
      "* [HTTP/2] [1] OPENED stream for https://leetcode.com/graphql/\n",
      "* [HTTP/2] [1] [:method: POST]\n",
      "* [HTTP/2] [1] [:scheme: https]\n",
      "* [HTTP/2] [1] [:authority: leetcode.com]\n",
      "* [HTTP/2] [1] [:path: /graphql/]\n",
      "* [HTTP/2] [1] [accept: */*]\n",
      "* [HTTP/2] [1] [content-type: application/json]\n",
      "* [HTTP/2] [1] [origin: https://leetcode.com]\n",
      "* [HTTP/2] [1] [user-agent: Mozilla/5.0 (Macintosh; Intel Mac OS X 10_15_7) AppleWebKit/537.36 (KHTML, like Gecko) Chrome/120.0.0.0 Safari/537.36]\n",
      "* [HTTP/2] [1] [content-length: 195]\n",
      "> POST /graphql/ HTTP/2\n",
      "> Host: leetcode.com\n",
      "> Accept: */*\n",
      "> content-type: application/json\n",
      "> origin: https://leetcode.com\n",
      "> user-agent: Mozilla/5.0 (Macintosh; Intel Mac OS X 10_15_7) AppleWebKit/537.36 (KHTML, like Gecko) Chrome/120.0.0.0 Safari/537.36\n",
      "> Content-Length: 195\n",
      "> \n",
      "< HTTP/2 200 \n",
      "< date: Sat, 09 Mar 2024 13:09:28 GMT\n",
      "< content-type: application/json\n",
      "< content-length: 1425\n",
      "< vary: Cookie\n",
      "< x-frame-options: DENY\n",
      "< set-cookie: csrftoken=QSQplCVXIIJ8akrFrVOAnyVUkNJ90eR2RbY2uJs6sElEXeoyVAmNxjITjuvHUYG9; expires=Sat, 08 Mar 2025 13:09:28 GMT; Max-Age=31449600; Path=/; SameSite=Lax; Secure\n",
      "< strict-transport-security: max-age=31536000; includeSubDomains; preload\n",
      "< content-security-policy: frame-ancestors 'self' https://*.leetcode.com https://leetcode.com https://www.growingio.com https://challenges.cloudflare.com\n",
      "< cf-cache-status: DYNAMIC\n",
      "< set-cookie: __cf_bm=lHwvMpOxE1GAbDAqPk49PKRW6kEturCIyOkFngPEW5U-1709989768-1.0.1.1-J..ixNz.EuxDFk3otUdz11DaXyJ9S8d.qa8uA3rsbRDYzTQiL3AUGUlVWSIHQVTAxQcCA_0lg9.YO1EJqhbvTw; path=/; expires=Sat, 09-Mar-24 13:39:28 GMT; domain=.leetcode.com; HttpOnly; Secure; SameSite=None\n",
      "< x-content-type-options: nosniff\n",
      "< server: cloudflare\n",
      "< cf-ray: 861b4cb2eb814e14-HEL\n",
      "< \n",
      "* Connection #0 to host leetcode.com left intact\n",
      "{\"data\":{\"question\":{\"content\":\"<p>Given an array of integers <code>citations</code> where <code>citations[i]</code> is the number of citations a researcher received for their <code>i<sup>th</sup></code> paper, return <em>the researcher&#39;s h-index</em>.</p>\\n\\n<p>According to the <a href=\\\"https://en.wikipedia.org/wiki/H-index\\\" target=\\\"_blank\\\">definition of h-index on Wikipedia</a>: The h-index is defined as the maximum value of <code>h</code> such that the given researcher has published at least <code>h</code> papers that have each been cited at least <code>h</code> times.</p>\\n\\n<p>&nbsp;</p>\\n<p><strong class=\\\"example\\\">Example 1:</strong></p>\\n\\n<pre>\\n<strong>Input:</strong> citations = [3,0,6,1,5]\\n<strong>Output:</strong> 3\\n<strong>Explanation:</strong> [3,0,6,1,5] means the researcher has 5 papers in total and each of them had received 3, 0, 6, 1, 5 citations respectively.\\nSince the researcher has 3 papers with at least 3 citations each and the remaining two with no more than 3 citations each, their h-index is 3.\\n</pre>\\n\\n<p><strong class=\\\"example\\\">Example 2:</strong></p>\\n\\n<pre>\\n<strong>Input:</strong> citations = [1,3,1]\\n<strong>Output:</strong> 1\\n</pre>\\n\\n<p>&nbsp;</p>\\n<p><strong>Constraints:</strong></p>\\n\\n<ul>\\n\\t<li><code>n == citations.length</code></li>\\n\\t<li><code>1 &lt;= n &lt;= 5000</code></li>\\n\\t<li><code>0 &lt;= citations[i] &lt;= 1000</code></li>\\n</ul>\\n\"}}}"
     ]
    }
   ],
   "source": [
    "!curl 'https://leetcode.com/graphql/' \\\n",
    "  -H 'content-type: application/json' \\\n",
    "  -H 'origin: https://leetcode.com' \\\n",
    "  -H 'user-agent: Mozilla/5.0 (Macintosh; Intel Mac OS X 10_15_7) AppleWebKit/537.36 (KHTML, like Gecko) Chrome/120.0.0.0 Safari/537.36' \\\n",
    "  --data-raw $'{\"query\":\"\\\\n    query questionContent($titleSlug: String\\u0021) {\\\\n  question(titleSlug: $titleSlug) {\\\\n    content\\\\n }\\\\n}\\\\n    \",\"variables\":{\"titleSlug\":\"h-index\"},\"operationName\":\"questionContent\"}' \\\n",
    "  -v"
   ]
  },
  {
   "cell_type": "markdown",
   "id": "bba74863-0ce4-451d-a9cd-0ca987a18bc4",
   "metadata": {},
   "source": [
    "---"
   ]
  },
  {
   "cell_type": "code",
   "execution_count": 137,
   "id": "4833a92e-5690-4ad3-991e-e284f5f4cb71",
   "metadata": {},
   "outputs": [
    {
     "data": {
      "text/plain": [
       "<Response [403]>"
      ]
     },
     "execution_count": 137,
     "metadata": {},
     "output_type": "execute_result"
    }
   ],
   "source": [
    "# title=\"H-index\"\n",
    "question=title=\"h-index\"\n",
    "# question = (\" \").join(title).lower().replace(\" \", \"-\")\n",
    "# question_link = \"https://leetcode.com/problems/\" + question + \"/\"\n",
    "\n",
    "headers = {\"content-type\": \"application/json\", \n",
    "           \"origin\": \"https://leetcode.com\",\n",
    "           'Referer': 'https://leetcode.com/problems/' + question,\n",
    "           'Accept': 'application/json',\n",
    "          \"user-agent\": \"Mozilla/5.0 (Macintosh; Intel Mac OS X 10_15_7) AppleWebKit/537.36 (KHTML, like Gecko) Chrome/120.0.0.0 Safari/537.36\"}\n",
    "# query = {\n",
    "#     \"operationName\": \"questionData\",\n",
    "#     \"variables\": {\"titleSlug\": question},\n",
    "#     \"query\": \"\"\"query questionData($titleSlug: String\\u0021) {\n",
    "#         question(titleSlug: $titleSlug) {\n",
    "#             content\n",
    "#     }\n",
    "# }\"\"\",\n",
    "# }\n",
    "\n",
    "query = '{\"query\":\"\\\\n    query questionContent($titleSlug: String\\u0021) {\\\\n  question(titleSlug: $titleSlug) {\\\\n    content\\\\n }\\\\n}\\\\n    \",\"variables\":{\"titleSlug\":\"h-index\"},\"operationName\":\"questionContent\"}'\n",
    "query_link = \"https://leetcode.com/graphql\"\n",
    "# Query the info of the question from leetcode\n",
    "# r = requests.request(\n",
    "#     \"POST\",\n",
    "#     query_link,\n",
    "#     data=json.dumps(query),\n",
    "#     headers=headers,\n",
    "#     timeout=10,\n",
    "# )\n",
    "requests.request(\n",
    "    \"POST\",\n",
    "    query_link,\n",
    "    json=query,\n",
    "    headers=headers,\n",
    "    timeout=10,\n",
    ")"
   ]
  },
  {
   "cell_type": "code",
   "execution_count": 97,
   "id": "22de2701-1a62-4225-86ef-fda84a5ee2c7",
   "metadata": {},
   "outputs": [
    {
     "data": {
      "text/plain": [
       "{'content-type': 'application/json',\n",
       " 'origin': 'https://leetcode.com',\n",
       " 'user-agent': 'Mozilla/5.0 (Macintosh; Intel Mac OS X 10_15_7) AppleWebKit/537.36 (KHTML, like Gecko) Chrome/120.0.0.0 Safari/537.36'}"
      ]
     },
     "execution_count": 97,
     "metadata": {},
     "output_type": "execute_result"
    }
   ],
   "source": [
    "headers"
   ]
  },
  {
   "cell_type": "code",
   "execution_count": 91,
   "id": "6bfbff1c-a7cb-44a0-bdb1-380155dc42d6",
   "metadata": {},
   "outputs": [
    {
     "data": {
      "text/plain": [
       "<Response [403]>"
      ]
     },
     "execution_count": 91,
     "metadata": {},
     "output_type": "execute_result"
    }
   ],
   "source": [
    "r = requests.post(\n",
    "    url=query_link,\n",
    "    data=json.dumps(query),\n",
    "    headers=headers,\n",
    "    timeout=10,\n",
    ")\n",
    "r"
   ]
  },
  {
   "cell_type": "code",
   "execution_count": 132,
   "id": "0b110f99-4608-4dc3-8ace-9fd8a3075875",
   "metadata": {},
   "outputs": [
    {
     "data": {
      "text/plain": [
       "'{\"query\":\"\\\\n    query questionContent($titleSlug: String!) {\\\\n  question(titleSlug: $titleSlug) {\\\\n    content\\\\n }\\\\n}\\\\n    \",\"variables\":{\"titleSlug\":\"h-index\"},\"operationName\":\"questionContent\"}'"
      ]
     },
     "execution_count": 132,
     "metadata": {},
     "output_type": "execute_result"
    }
   ],
   "source": [
    "query"
   ]
  },
  {
   "cell_type": "code",
   "execution_count": 131,
   "id": "b344399a-cb64-4d90-a420-37a615ec5dbf",
   "metadata": {},
   "outputs": [
    {
     "data": {
      "text/plain": [
       "str"
      ]
     },
     "execution_count": 131,
     "metadata": {},
     "output_type": "execute_result"
    }
   ],
   "source": [
    "type(json.dumps(query))"
   ]
  },
  {
   "cell_type": "code",
   "execution_count": 143,
   "id": "65149fb9-3598-4a99-b689-f4186bc4d607",
   "metadata": {},
   "outputs": [
    {
     "data": {
      "text/plain": [
       "<Response [403]>"
      ]
     },
     "execution_count": 143,
     "metadata": {},
     "output_type": "execute_result"
    }
   ],
   "source": [
    "headers = {\n",
    "    'content-type': 'application/json',\n",
    "    'origin': 'https://leetcode.com',\n",
    "    'user-agent': 'Mozilla/5.0 (Macintosh; Intel Mac OS X 10_15_7) AppleWebKit/537.36 (KHTML, like Gecko) Chrome/120.0.0.0 Safari/537.36',\n",
    "}\n",
    "\n",
    "json_data = {\n",
    "    'query': '\\n    query questionContent($titleSlug: String!) {\\n  question(titleSlug: $titleSlug) {\\n    content\\n }\\n}\\n    ',\n",
    "    'variables': {\n",
    "        'titleSlug': 'h-index',\n",
    "    },\n",
    "    'operationName': 'questionContent',\n",
    "}\n",
    "\n",
    "response = requests.post('https://leetcode.com/graphql/', headers=headers, data=json.dumps(json_data), timeout = 10)\n",
    "response"
   ]
  },
  {
   "cell_type": "code",
   "execution_count": 105,
   "id": "bd9a0e61-3207-423f-a0b2-c29b43ec1eab",
   "metadata": {},
   "outputs": [],
   "source": [
    "import http.client\n",
    "import json\n",
    "\n",
    "conn = http.client.HTTPSConnection('leetcode.com')\n",
    "headers = {\n",
    "    'content-type': 'application/json',\n",
    "    'origin': 'https://leetcode.com',\n",
    "    'user-agent': 'Mozilla/5.0 (Macintosh; Intel Mac OS X 10_15_7) AppleWebKit/537.36 (KHTML, like Gecko) Chrome/120.0.0.0 Safari/537.36',\n",
    "}\n",
    "json_data = {\n",
    "    'query': '\\n    query questionContent($titleSlug: String!) {\\n  question(titleSlug: $titleSlug) {\\n    content\\n }\\n}\\n    ',\n",
    "    'variables': {\n",
    "        'titleSlug': 'h-index',\n",
    "    },\n",
    "    'operationName': 'questionContent',\n",
    "}\n",
    "conn.request(\n",
    "    'POST',\n",
    "    '/graphql/',\n",
    "    json.dumps(json_data),\n",
    "    # '{\"query\":\"\\\\n    query questionContent($titleSlug: String!) {\\\\n  question(titleSlug: $titleSlug) {\\\\n    content\\\\n }\\\\n}\\\\n    \",\"variables\":{\"titleSlug\":\"h-index\"},\"operationName\":\"questionContent\"}',\n",
    "    headers\n",
    ")\n",
    "response = conn.getresponse()"
   ]
  },
  {
   "cell_type": "code",
   "execution_count": 110,
   "id": "b3b6527e-6406-42b5-8733-ade5757e914d",
   "metadata": {},
   "outputs": [
    {
     "data": {
      "text/plain": [
       "<http.client.HTTPResponse at 0x10781d6c0>"
      ]
     },
     "execution_count": 110,
     "metadata": {},
     "output_type": "execute_result"
    }
   ],
   "source": [
    "response"
   ]
  }
 ],
 "metadata": {
  "kernelspec": {
   "display_name": "Python 3 (ipykernel)",
   "language": "python",
   "name": "python3"
  },
  "language_info": {
   "codemirror_mode": {
    "name": "ipython",
    "version": 3
   },
   "file_extension": ".py",
   "mimetype": "text/x-python",
   "name": "python",
   "nbconvert_exporter": "python",
   "pygments_lexer": "ipython3",
   "version": "3.10.6"
  }
 },
 "nbformat": 4,
 "nbformat_minor": 5
}

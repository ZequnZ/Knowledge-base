{
 "cells": [
  {
   "cell_type": "code",
   "execution_count": 162,
   "id": "40c03f7a-005f-4a3e-b7b1-9b64fe562ec1",
   "metadata": {},
   "outputs": [],
   "source": [
    "from confluent_kafka.admin import AdminClient, NewTopic, NewPartitions\n",
    "from confluent_kafka import Consumer\n",
    "from confluent_kafka import Producer\n",
    "from confluent_kafka import TopicPartition\n",
    "\n",
    "bootstrap_server='localhost:9092'\n",
    "topic = 'notebook-topic'"
   ]
  },
  {
   "cell_type": "markdown",
   "id": "ddec2828-01f5-4d31-a32d-c0c5a0e2c1c6",
   "metadata": {},
   "source": [
    "# Producer"
   ]
  },
  {
   "cell_type": "code",
   "execution_count": 50,
   "id": "28bf296c-de85-482a-80e4-ce39df5caedd",
   "metadata": {},
   "outputs": [],
   "source": [
    "def delivery_report(err, msg):\n",
    "    \"\"\" Called once for each message produced to indicate delivery result.\n",
    "        Triggered by poll() or flush(). \"\"\"\n",
    "    if err is not None:\n",
    "        print('❌ Message delivery failed: {}'.format(err))\n",
    "    else:\n",
    "        print('✅  📬  Message delivered: \"{}\" to {} [partition {}]'.format(msg.value().decode('utf-8'),msg.topic(), msg.partition()))\n"
   ]
  },
  {
   "cell_type": "code",
   "execution_count": 51,
   "id": "27cd34ec-ce5f-4313-8eeb-2a7a8cf5a27c",
   "metadata": {},
   "outputs": [],
   "source": [
    "# initialize producer\n",
    "producer = Producer({'bootstrap.servers': bootstrap_server})"
   ]
  },
  {
   "cell_type": "code",
   "execution_count": 52,
   "id": "4fe78083-5051-4b43-8044-0bca923e4abf",
   "metadata": {},
   "outputs": [
    {
     "name": "stdout",
     "output_type": "stream",
     "text": [
      "✅  📬  Message delivered: \"message:0\" to notebook-topic [partition 0]\n",
      "✅  📬  Message delivered: \"message:1\" to notebook-topic [partition 0]\n",
      "✅  📬  Message delivered: \"message:2\" to notebook-topic [partition 0]\n",
      "✅  📬  Message delivered: \"message:3\" to notebook-topic [partition 0]\n",
      "✅  📬  Message delivered: \"message:4\" to notebook-topic [partition 0]\n",
      "✅  📬  Message delivered: \"message:5\" to notebook-topic [partition 0]\n",
      "✅  📬  Message delivered: \"message:6\" to notebook-topic [partition 0]\n",
      "✅  📬  Message delivered: \"message:7\" to notebook-topic [partition 0]\n",
      "✅  📬  Message delivered: \"message:8\" to notebook-topic [partition 0]\n",
      "✅  📬  Message delivered: \"message:9\" to notebook-topic [partition 0]\n"
     ]
    }
   ],
   "source": [
    "# produce 10 messages\n",
    "for i in range(10):\n",
    "    # Trigger any available delivery report callbacks from previous produce() calls\n",
    "    producer.poll(0)\n",
    "    \n",
    "    data = f\"message:{i}\"\n",
    "    producer.produce(topic, key='key', value=data.encode('utf-8'), callback=delivery_report)\n",
    "\n",
    "r=producer.flush(timeout=5)\n",
    "if r>0:\n",
    "    print('❌ Message delivery failed ({} message(s) still remain, did we timeout sending perhaps?)\\n'.format(r))"
   ]
  },
  {
   "cell_type": "markdown",
   "id": "2471232c-3372-4f54-bbd0-6ca14d1202a9",
   "metadata": {},
   "source": [
    "# Consumer"
   ]
  },
  {
   "cell_type": "code",
   "execution_count": 71,
   "id": "1b32bde0-98c5-4ffc-a65b-b7b01d27a9dc",
   "metadata": {},
   "outputs": [],
   "source": [
    "# Initlize consumer\n",
    "\n",
    "# Offset management should be set properly:\n",
    "# 1. auto-commit: Consumer will commit/report offsets to Kakfa\n",
    "# 2. manual-commit: You need to do that(consumer.commit()) yourself\n",
    "# https://docs.confluent.io/platform/current/clients/consumer.html#id \n",
    "\n",
    "consumer_auto_commit = Consumer({\n",
    "    'bootstrap.servers': bootstrap_server,\n",
    "    'group.id': 'notebook_auto',\n",
    "    'enable.auto.commit':'true',\n",
    "    # 'session.timeout.ms': 5000,\n",
    "    'auto.offset.reset': 'earliest'\n",
    "})\n",
    "\n",
    "consumer_manual_commit = Consumer({\n",
    "    'bootstrap.servers': bootstrap_server,\n",
    "    'group.id': 'notebook_manual',\n",
    "    'enable.auto.commit':'false',\n",
    "    # 'session.timeout.ms': 5000,\n",
    "    'auto.offset.reset': 'earliest'\n",
    "})\n",
    "\n",
    "# Specify what topic(s) to subscribe\n",
    "consumer_auto_commit.subscribe([topic])\n",
    "consumer_manual_commit.subscribe([topic])"
   ]
  },
  {
   "cell_type": "markdown",
   "id": "1e5ca710-18ad-45d9-a95f-9c5a60fb9219",
   "metadata": {},
   "source": [
    "## Auto-commit consumer"
   ]
  },
  {
   "cell_type": "code",
   "execution_count": 72,
   "id": "a25428ea-a1f4-42c4-b23b-bb57bb6b8227",
   "metadata": {},
   "outputs": [
    {
     "name": "stdout",
     "output_type": "stream",
     "text": [
      "[TopicPartition{topic=notebook-topic,partition=0,offset=-1001,leader_epoch=None,error=None}]\n",
      "✅  📬  Message received: \"message:0\" to notebook-topic [partition 0]\n",
      "✅  📬  Message received: \"message:1\" to notebook-topic [partition 0]\n",
      "✅  📬  Message received: \"message:2\" to notebook-topic [partition 0]\n",
      "✅  📬  Message received: \"message:3\" to notebook-topic [partition 0]\n",
      "✅  📬  Message received: \"message:4\" to notebook-topic [partition 0]\n",
      "[TopicPartition{topic=notebook-topic,partition=0,offset=5,leader_epoch=0,error=None}]\n"
     ]
    }
   ],
   "source": [
    "# Check current offset\n",
    "print(consumer_auto_commit.position([TopicPartition(topic, 0)]))\n",
    "\n",
    "# Consume 5 messages\n",
    "for _ in range(5):\n",
    "    msg = consumer_auto_commit.poll(1.0)\n",
    "    if msg is None:\n",
    "        print(\"Message: {None}\")\n",
    "    if msg.error():\n",
    "        print(\"Consumer error: {}\".format(msg.error()))\n",
    "        continue\n",
    "    print('✅  📬  Message received: \"{}\" to {} [partition {}]'.format(msg.value().decode('utf-8'),msg.topic(), msg.partition()))\n",
    "\n",
    "# Check current offset\n",
    "print(consumer_auto_commit.position([TopicPartition(topic, 0)]))"
   ]
  },
  {
   "cell_type": "code",
   "execution_count": 75,
   "id": "7a665125-9e72-40a9-a087-4d7a5e9b76b9",
   "metadata": {},
   "outputs": [
    {
     "name": "stdout",
     "output_type": "stream",
     "text": [
      "✅  📬  Message received: \"message:5\" to notebook-topic [partition 0]\n",
      "✅  📬  Message received: \"message:6\" to notebook-topic [partition 0]\n",
      "✅  📬  Message received: \"message:7\" to notebook-topic [partition 0]\n",
      "[TopicPartition{topic=notebook-topic,partition=0,offset=8,leader_epoch=0,error=None}]\n"
     ]
    }
   ],
   "source": [
    "# Consume 3 more messages\n",
    "for _ in range(3):\n",
    "    msg = consumer_auto_commit.poll(1.0)\n",
    "    if msg is None:\n",
    "        continue\n",
    "    if msg.error():\n",
    "        print(\"Consumer error: {}\".format(msg.error()))\n",
    "        continue\n",
    "    print('✅  📬  Message received: \"{}\" to {} [partition {}]'.format(msg.value().decode('utf-8'),msg.topic(), msg.partition()))\n",
    "\n",
    "# Check current offset\n",
    "print(consumer_auto_commit.position([TopicPartition(topic, 0)]))"
   ]
  },
  {
   "cell_type": "code",
   "execution_count": 76,
   "id": "bb1b504f-e2b1-48d4-97bc-f3c169a0c4f4",
   "metadata": {},
   "outputs": [
    {
     "name": "stdout",
     "output_type": "stream",
     "text": [
      "[TopicPartition{topic=notebook-topic,partition=0,offset=-1001,leader_epoch=None,error=None}]\n"
     ]
    }
   ],
   "source": [
    "# As we enable auto-commit,\n",
    "# if we create another consumer with same setup, we will receive messages from offset=8\n",
    "\n",
    "consumer_auto_commit = Consumer({\n",
    "    'bootstrap.servers': bootstrap_server,\n",
    "    'group.id': 'notebook_auto',\n",
    "    'enable.auto.commit':'true',\n",
    "    # 'session.timeout.ms': 5000,\n",
    "    'auto.offset.reset': 'earliest'\n",
    "})\n",
    "consumer_auto_commit.subscribe([topic])\n",
    "\n",
    "# Check current offset\n",
    "# It shows offset=-1001 because we just initilize it\n",
    "print(consumer_auto_commit.position([TopicPartition(topic, 0)]))"
   ]
  },
  {
   "cell_type": "code",
   "execution_count": 77,
   "id": "b98f16b3-abba-473b-aeea-59011f1422b2",
   "metadata": {},
   "outputs": [
    {
     "name": "stdout",
     "output_type": "stream",
     "text": [
      "✅  📬  Message received: \"message:8\" to notebook-topic [partition 0]\n",
      "✅  📬  Message received: \"message:9\" to notebook-topic [partition 0]\n",
      "[TopicPartition{topic=notebook-topic,partition=0,offset=10,leader_epoch=0,error=None}]\n"
     ]
    }
   ],
   "source": [
    "# Consume 2 more messages\n",
    "for _ in range(2):\n",
    "    msg = consumer_auto_commit.poll(1.0)\n",
    "    if msg is None:\n",
    "        continue\n",
    "    if msg.error():\n",
    "        print(\"Consumer error: {}\".format(msg.error()))\n",
    "        continue\n",
    "    print('✅  📬  Message received: \"{}\" to {} [partition {}]'.format(msg.value().decode('utf-8'),msg.topic(), msg.partition()))\n",
    "\n",
    "# Check current offset\n",
    "print(consumer_auto_commit.position([TopicPartition(topic, 0)]))"
   ]
  },
  {
   "cell_type": "markdown",
   "id": "0669b499-9ec9-409e-952f-3b6bc52b178c",
   "metadata": {},
   "source": [
    "## Manual-commit consumer"
   ]
  },
  {
   "cell_type": "code",
   "execution_count": 91,
   "id": "cdfbdbf9-d62f-431f-9a9c-8e7efbf01fde",
   "metadata": {},
   "outputs": [
    {
     "name": "stdout",
     "output_type": "stream",
     "text": [
      "[TopicPartition{topic=notebook-topic,partition=0,offset=-1001,leader_epoch=None,error=None}]\n",
      "✅  📬  Message received: \"message:0\" to notebook-topic [partition 0]\n",
      "✅  📬  Message received: \"message:1\" to notebook-topic [partition 0]\n",
      "✅  📬  Message received: \"message:2\" to notebook-topic [partition 0]\n",
      "✅  📬  Message received: \"message:3\" to notebook-topic [partition 0]\n",
      "✅  📬  Message received: \"message:4\" to notebook-topic [partition 0]\n",
      "[TopicPartition{topic=notebook-topic,partition=0,offset=5,leader_epoch=0,error=None}]\n"
     ]
    }
   ],
   "source": [
    "# Check current offset\n",
    "print(consumer_manual_commit.position([TopicPartition(topic, 0)]))\n",
    "\n",
    "# Consume 5 messages\n",
    "for _ in range(5):\n",
    "    msg = consumer_manual_commit.poll(1.0)\n",
    "    if msg is None:\n",
    "        print(\"Message: {None}\")\n",
    "        continue\n",
    "    if msg.error():\n",
    "        print(\"Consumer error: {}\".format(msg.error()))\n",
    "        continue\n",
    "    print('✅  📬  Message received: \"{}\" to {} [partition {}]'.format(msg.value().decode('utf-8'),msg.topic(), msg.partition()))\n",
    "\n",
    "# Check current offset\n",
    "print(consumer_manual_commit.position([TopicPartition(topic, 0)]))"
   ]
  },
  {
   "cell_type": "code",
   "execution_count": 92,
   "id": "ce1ccad7-d674-483f-8235-5c5328f6def4",
   "metadata": {},
   "outputs": [],
   "source": [
    "# commit offsets\n",
    "consumer_manual_commit.commit()"
   ]
  },
  {
   "cell_type": "code",
   "execution_count": 93,
   "id": "87f3daea-258f-4030-b012-a60eeb887a25",
   "metadata": {},
   "outputs": [
    {
     "name": "stdout",
     "output_type": "stream",
     "text": [
      "✅  📬  Message received: \"message:5\" to notebook-topic [partition 0]\n",
      "✅  📬  Message received: \"message:6\" to notebook-topic [partition 0]\n",
      "✅  📬  Message received: \"message:7\" to notebook-topic [partition 0]\n",
      "[TopicPartition{topic=notebook-topic,partition=0,offset=8,leader_epoch=0,error=None}]\n"
     ]
    }
   ],
   "source": [
    "# Consume 3 more messages\n",
    "for _ in range(3):\n",
    "    msg = consumer_manual_commit.poll(1.0)\n",
    "    if msg is None:\n",
    "        continue\n",
    "    if msg.error():\n",
    "        print(\"Consumer error: {}\".format(msg.error()))\n",
    "        continue\n",
    "    print('✅  📬  Message received: \"{}\" to {} [partition {}]'.format(msg.value().decode('utf-8'),msg.topic(), msg.partition()))\n",
    "\n",
    "# Check current offset\n",
    "print(consumer_manual_commit.position([TopicPartition(topic, 0)]))"
   ]
  },
  {
   "cell_type": "code",
   "execution_count": 94,
   "id": "18a47948-b90c-426e-ba5e-7eb44d36c3f6",
   "metadata": {},
   "outputs": [
    {
     "name": "stdout",
     "output_type": "stream",
     "text": [
      "[TopicPartition{topic=notebook-topic,partition=0,offset=-1001,leader_epoch=None,error=None}]\n"
     ]
    }
   ],
   "source": [
    "# As we do not enable auto-commit,\n",
    "# if we create another consumer with same setup, we will receive messages from offset=5\n",
    "\n",
    "consumer_manual_commit = Consumer({\n",
    "    'bootstrap.servers': bootstrap_server,\n",
    "    'group.id': 'notebook_manual',\n",
    "    'enable.auto.commit':'false',\n",
    "    # 'session.timeout.ms': 5000,\n",
    "    'auto.offset.reset': 'earliest'\n",
    "})\n",
    "consumer_manual_commit.subscribe([topic])\n",
    "\n",
    "# Check current offset\n",
    "# It shows offset=-1001 because we just initilize it\n",
    "print(consumer_manual_commit.position([TopicPartition(topic, 0)]))"
   ]
  },
  {
   "cell_type": "code",
   "execution_count": 97,
   "id": "89affd37-752f-41ff-a0e0-fed268a2b25f",
   "metadata": {},
   "outputs": [
    {
     "name": "stdout",
     "output_type": "stream",
     "text": [
      "✅  📬  Message received: \"message:5\" to notebook-topic [partition 0]\n",
      "✅  📬  Message received: \"message:6\" to notebook-topic [partition 0]\n",
      "[TopicPartition{topic=notebook-topic,partition=0,offset=7,leader_epoch=0,error=None}]\n"
     ]
    },
    {
     "name": "stderr",
     "output_type": "stream",
     "text": [
      "%4|1695027339.084|MAXPOLL|rdkafka#consumer-29| [thrd:main]: Application maximum poll interval (300000ms) exceeded by 273ms (adjust max.poll.interval.ms for long-running message processing): leaving group\n"
     ]
    }
   ],
   "source": [
    "# Consume 2 more messages\n",
    "for _ in range(2):\n",
    "    msg = consumer_manual_commit.poll(1.0)\n",
    "    if msg is None:\n",
    "        print(\"Message: {None}\")\n",
    "        continue\n",
    "    if msg.error():\n",
    "        print(\"Consumer error: {}\".format(msg.error()))\n",
    "        continue\n",
    "    print('✅  📬  Message received: \"{}\" to {} [partition {}]'.format(msg.value().decode('utf-8'),msg.topic(), msg.partition()))\n",
    "\n",
    "# Check current offset\n",
    "print(consumer_manual_commit.position([TopicPartition(topic, 0)]))"
   ]
  },
  {
   "cell_type": "markdown",
   "id": "d6397fea-deb3-4fa9-9f7f-a5fefba8c0f1",
   "metadata": {},
   "source": [
    "# AdminClient"
   ]
  },
  {
   "cell_type": "code",
   "execution_count": 98,
   "id": "edadb86e-c3eb-41ec-95f2-0d3524d92e55",
   "metadata": {},
   "outputs": [],
   "source": [
    "ac = AdminClient({'bootstrap.servers': bootstrap_server})"
   ]
  },
  {
   "cell_type": "markdown",
   "id": "983eb6b3-1694-4a8e-b16c-95a25152fea7",
   "metadata": {},
   "source": [
    "## View/List topics&consumer"
   ]
  },
  {
   "cell_type": "code",
   "execution_count": 100,
   "id": "1d31697f-daf4-4d63-b840-814a184c21af",
   "metadata": {},
   "outputs": [
    {
     "data": {
      "text/plain": [
       "{'example-topic': TopicMetadata(example-topic, 1 partitions),\n",
       " 'another_topic': TopicMetadata(another_topic, 1 partitions),\n",
       " 'notebook-topic': TopicMetadata(notebook-topic, 1 partitions),\n",
       " '__consumer_offsets': TopicMetadata(__consumer_offsets, 50 partitions)}"
      ]
     },
     "execution_count": 100,
     "metadata": {},
     "output_type": "execute_result"
    }
   ],
   "source": [
    "# List all topics\n",
    "ac.list_topics().topics"
   ]
  },
  {
   "cell_type": "code",
   "execution_count": 129,
   "id": "c412d1a1-f419-4f0b-81b0-004d1e6a93cd",
   "metadata": {},
   "outputs": [
    {
     "name": "stdout",
     "output_type": "stream",
     "text": [
      "7 consumer groups\n",
      "    id: consumer-group-id is_simple: False state: ConsumerGroupState.EMPTY\n",
      "    id: rmoff13 is_simple: False state: ConsumerGroupState.EMPTY\n",
      "    id: notebook_auto is_simple: False state: ConsumerGroupState.EMPTY\n",
      "    id: consumer-group-2 is_simple: False state: ConsumerGroupState.EMPTY\n",
      "    id: console-consumer-12979 is_simple: False state: ConsumerGroupState.STABLE\n",
      "    id: consumer-plge is_simple: False state: ConsumerGroupState.STABLE\n",
      "    id: notebook_manual is_simple: False state: ConsumerGroupState.EMPTY\n"
     ]
    }
   ],
   "source": [
    "# List all consumer groups\n",
    "future = ac.list_consumer_groups()\n",
    "group_ids = []\n",
    "\n",
    "try:\n",
    "    list_consumer_groups_result = future.result()\n",
    "    print(\"{} consumer groups\".format(len(list_consumer_groups_result.valid)))\n",
    "    for valid in list_consumer_groups_result.valid:\n",
    "        group_ids.append(valid.group_id)\n",
    "        print(\"    id: {} is_simple: {} state: {}\".format(\n",
    "            valid.group_id, valid.is_simple_consumer_group, valid.state))\n",
    "    for error in list_consumer_groups_result.errors:\n",
    "        print(\"    error: {}\".format(error))\n",
    "except Exception:\n",
    "    raise"
   ]
  },
  {
   "cell_type": "code",
   "execution_count": 130,
   "id": "75b093bf-533c-4dcb-9367-4920a7781d1f",
   "metadata": {},
   "outputs": [
    {
     "name": "stdout",
     "output_type": "stream",
     "text": [
      "Group Id: consumer-group-id\n",
      "  Is Simple          : False\n",
      "  State              : ConsumerGroupState.EMPTY\n",
      "  Partition Assignor : \n",
      "  Coordinator        : (1) localhost:9092\n",
      "  Members: \n",
      "Group Id: rmoff13\n",
      "  Is Simple          : False\n",
      "  State              : ConsumerGroupState.EMPTY\n",
      "  Partition Assignor : \n",
      "  Coordinator        : (1) localhost:9092\n",
      "  Members: \n",
      "Group Id: notebook_auto\n",
      "  Is Simple          : False\n",
      "  State              : ConsumerGroupState.EMPTY\n",
      "  Partition Assignor : \n",
      "  Coordinator        : (1) localhost:9092\n",
      "  Members: \n",
      "Group Id: consumer-group-2\n",
      "  Is Simple          : False\n",
      "  State              : ConsumerGroupState.EMPTY\n",
      "  Partition Assignor : \n",
      "  Coordinator        : (1) localhost:9092\n",
      "  Members: \n",
      "Group Id: console-consumer-12979\n",
      "  Is Simple          : False\n",
      "  State              : ConsumerGroupState.STABLE\n",
      "  Partition Assignor : range\n",
      "  Coordinator        : (1) localhost:9092\n",
      "  Members: \n",
      "    Id                : consumer-console-consumer-12979-1-ac79970b-86a7-44a2-b248-da591f493007\n",
      "    Host              : /127.0.0.1\n",
      "    Client Id         : consumer-console-consumer-12979-1\n",
      "    Group Instance Id : None\n",
      "    Assignments       :\n",
      "      example-topic [0]\n",
      "Group Id: consumer-plge\n",
      "  Is Simple          : False\n",
      "  State              : ConsumerGroupState.STABLE\n",
      "  Partition Assignor : RoundRobinAssigner\n",
      "  Coordinator        : (1) localhost:9092\n",
      "  Members: \n",
      "    Id                : vscode-kafka-7d86b9b5-98f9-44e0-a656-d142ba44e291\n",
      "    Host              : /192.168.65.1\n",
      "    Client Id         : vscode-kafka\n",
      "    Group Instance Id : None\n",
      "    Assignments       :\n",
      "      notebook-topic [0]\n",
      "Group Id: notebook_manual\n",
      "  Is Simple          : False\n",
      "  State              : ConsumerGroupState.EMPTY\n",
      "  Partition Assignor : \n",
      "  Coordinator        : (1) localhost:9092\n",
      "  Members: \n"
     ]
    }
   ],
   "source": [
    "# Detail consumer group info\n",
    "futureMap = ac.describe_consumer_groups(group_ids, request_timeout=10)\n",
    "\n",
    "for group_id, future in futureMap.items():\n",
    "    try:\n",
    "        g = future.result()\n",
    "        print(\"Group Id: {}\".format(g.group_id))\n",
    "        print(\"  Is Simple          : {}\".format(g.is_simple_consumer_group))\n",
    "        print(\"  State              : {}\".format(g.state))\n",
    "        print(\"  Partition Assignor : {}\".format(g.partition_assignor))\n",
    "        print(\"  Coordinator        : ({}) {}:{}\".format(g.coordinator.id, g.coordinator.host, g.coordinator.port))\n",
    "        print(\"  Members: \")\n",
    "        for member in g.members:\n",
    "            print(\"    Id                : {}\".format(member.member_id))\n",
    "            print(\"    Host              : {}\".format(member.host))\n",
    "            print(\"    Client Id         : {}\".format(member.client_id))\n",
    "            print(\"    Group Instance Id : {}\".format(member.group_instance_id))\n",
    "            if member.assignment:\n",
    "                print(\"    Assignments       :\")\n",
    "                for toppar in member.assignment.topic_partitions:\n",
    "                    print(\"      {} [{}]\".format(toppar.topic, toppar.partition))\n",
    "    except KafkaException as e:\n",
    "        print(\"Error while describing group id '{}': {}\".format(group_id, e))\n",
    "    except Exception:\n",
    "        raise"
   ]
  },
  {
   "cell_type": "code",
   "execution_count": 106,
   "id": "158dfb92-a208-44cc-84ce-233c8df3e3c8",
   "metadata": {},
   "outputs": [
    {
     "name": "stdout",
     "output_type": "stream",
     "text": [
      "Cluster W4nU-5eNTlmzzun9UpuBJg metadata (response from broker localhost:9092/1):\n",
      "--------\n",
      " 1 brokers:\n",
      "  localhost:9092/1  (controller)\n",
      "--------\n",
      " 4 topics:\n",
      "  \"example-topic\" with 1 partition(s)\n",
      "partition 0 leader: 1, replicas: [1], isrs: [1] errstr: \n",
      "  \"another_topic\" with 1 partition(s)\n",
      "partition 0 leader: 1, replicas: [1], isrs: [1] errstr: \n",
      "  \"notebook-topic\" with 1 partition(s)\n",
      "partition 0 leader: 1, replicas: [1], isrs: [1] errstr: \n",
      "  \"__consumer_offsets\" with 50 partition(s)\n",
      "partition 0 leader: 1, replicas: [1], isrs: [1] errstr: \n",
      "partition 1 leader: 1, replicas: [1], isrs: [1] errstr: \n",
      "partition 2 leader: 1, replicas: [1], isrs: [1] errstr: \n",
      "partition 3 leader: 1, replicas: [1], isrs: [1] errstr: \n",
      "partition 4 leader: 1, replicas: [1], isrs: [1] errstr: \n",
      "partition 5 leader: 1, replicas: [1], isrs: [1] errstr: \n",
      "partition 6 leader: 1, replicas: [1], isrs: [1] errstr: \n",
      "partition 7 leader: 1, replicas: [1], isrs: [1] errstr: \n",
      "partition 8 leader: 1, replicas: [1], isrs: [1] errstr: \n",
      "partition 9 leader: 1, replicas: [1], isrs: [1] errstr: \n",
      "partition 10 leader: 1, replicas: [1], isrs: [1] errstr: \n",
      "partition 11 leader: 1, replicas: [1], isrs: [1] errstr: \n",
      "partition 12 leader: 1, replicas: [1], isrs: [1] errstr: \n",
      "partition 13 leader: 1, replicas: [1], isrs: [1] errstr: \n",
      "partition 14 leader: 1, replicas: [1], isrs: [1] errstr: \n",
      "partition 15 leader: 1, replicas: [1], isrs: [1] errstr: \n",
      "partition 16 leader: 1, replicas: [1], isrs: [1] errstr: \n",
      "partition 17 leader: 1, replicas: [1], isrs: [1] errstr: \n",
      "partition 18 leader: 1, replicas: [1], isrs: [1] errstr: \n",
      "partition 19 leader: 1, replicas: [1], isrs: [1] errstr: \n",
      "partition 20 leader: 1, replicas: [1], isrs: [1] errstr: \n",
      "partition 21 leader: 1, replicas: [1], isrs: [1] errstr: \n",
      "partition 22 leader: 1, replicas: [1], isrs: [1] errstr: \n",
      "partition 23 leader: 1, replicas: [1], isrs: [1] errstr: \n",
      "partition 24 leader: 1, replicas: [1], isrs: [1] errstr: \n",
      "partition 25 leader: 1, replicas: [1], isrs: [1] errstr: \n",
      "partition 26 leader: 1, replicas: [1], isrs: [1] errstr: \n",
      "partition 27 leader: 1, replicas: [1], isrs: [1] errstr: \n",
      "partition 28 leader: 1, replicas: [1], isrs: [1] errstr: \n",
      "partition 29 leader: 1, replicas: [1], isrs: [1] errstr: \n",
      "partition 30 leader: 1, replicas: [1], isrs: [1] errstr: \n",
      "partition 31 leader: 1, replicas: [1], isrs: [1] errstr: \n",
      "partition 32 leader: 1, replicas: [1], isrs: [1] errstr: \n",
      "partition 33 leader: 1, replicas: [1], isrs: [1] errstr: \n",
      "partition 34 leader: 1, replicas: [1], isrs: [1] errstr: \n",
      "partition 35 leader: 1, replicas: [1], isrs: [1] errstr: \n",
      "partition 36 leader: 1, replicas: [1], isrs: [1] errstr: \n",
      "partition 37 leader: 1, replicas: [1], isrs: [1] errstr: \n",
      "partition 38 leader: 1, replicas: [1], isrs: [1] errstr: \n",
      "partition 39 leader: 1, replicas: [1], isrs: [1] errstr: \n",
      "partition 40 leader: 1, replicas: [1], isrs: [1] errstr: \n",
      "partition 41 leader: 1, replicas: [1], isrs: [1] errstr: \n",
      "partition 42 leader: 1, replicas: [1], isrs: [1] errstr: \n",
      "partition 43 leader: 1, replicas: [1], isrs: [1] errstr: \n",
      "partition 44 leader: 1, replicas: [1], isrs: [1] errstr: \n",
      "partition 45 leader: 1, replicas: [1], isrs: [1] errstr: \n",
      "partition 46 leader: 1, replicas: [1], isrs: [1] errstr: \n",
      "partition 47 leader: 1, replicas: [1], isrs: [1] errstr: \n",
      "partition 48 leader: 1, replicas: [1], isrs: [1] errstr: \n",
      "partition 49 leader: 1, replicas: [1], isrs: [1] errstr: \n",
      "--------\n",
      " 7 consumer groups\n",
      " \"notebook_manual\" with 0 member(s), protocol: , protocol_type: consumer\n",
      " \"consumer-plge\" with 1 member(s), protocol: RoundRobinAssigner, protocol_type: consumer\n",
      "id vscode-kafka-7d86b9b5-98f9-44e0-a656-d142ba44e291 client_id: vscode-kafka client_host: /192.168.65.1\n",
      " \"console-consumer-12979\" with 1 member(s), protocol: range, protocol_type: consumer\n",
      "id consumer-console-consumer-12979-1-ac79970b-86a7-44a2-b248-da591f493007 client_id: consumer-console-consumer-12979-1 client_host: /127.0.0.1\n",
      " \"consumer-group-2\" with 0 member(s), protocol: , protocol_type: consumer\n",
      " \"notebook_auto\" with 0 member(s), protocol: , protocol_type: consumer\n",
      " \"rmoff13\" with 0 member(s), protocol: , protocol_type: consumer\n",
      " \"consumer-group-id\" with 0 member(s), protocol: , protocol_type: consumer\n"
     ]
    },
    {
     "name": "stderr",
     "output_type": "stream",
     "text": [
      "/var/folders/hc/mx19r91j1ms05m9rf9bljc980000gn/T/ipykernel_71162/2882942097.py:37: DeprecationWarning: list_groups() is deprecated, use list_consumer_groups() and describe_consumer_groups() instead.\n",
      "  groups = ac.list_groups(timeout=10)\n"
     ]
    }
   ],
   "source": [
    "what = \"all\"\n",
    "\n",
    "\n",
    "md = ac.list_topics(timeout=10)\n",
    "\n",
    "print(\"Cluster {} metadata (response from broker {}):\".format(md.cluster_id, md.orig_broker_name))\n",
    "print('--------')\n",
    "if what in (\"all\", \"brokers\"):\n",
    "    print(\" {} brokers:\".format(len(md.brokers)))\n",
    "    for b in iter(md.brokers.values()):\n",
    "        if b.id == md.controller_id:\n",
    "            print(\"  {}  (controller)\".format(b))\n",
    "        else:\n",
    "            print(\"  {}\".format(b))\n",
    "print('--------')\n",
    "if what in (\"all\", \"topics\"):\n",
    "    print(\" {} topics:\".format(len(md.topics)))\n",
    "    for t in iter(md.topics.values()):\n",
    "        if t.error is not None:\n",
    "            errstr = \": {}\".format(t.error)\n",
    "        else:\n",
    "            errstr = \"\"\n",
    "\n",
    "        print(\"  \\\"{}\\\" with {} partition(s){}\".format(t, len(t.partitions), errstr))\n",
    "\n",
    "        for p in iter(t.partitions.values()):\n",
    "            if p.error is not None:\n",
    "                errstr = \": {}\".format(p.error)\n",
    "            else:\n",
    "                errstr = \"\"\n",
    "\n",
    "            print(\"partition {} leader: {}, replicas: {},\"\n",
    "                  \" isrs: {} errstr: {}\".format(p.id, p.leader, p.replicas,\n",
    "                                                p.isrs, errstr))\n",
    "print('--------')\n",
    "if what in (\"all\", \"groups\"):\n",
    "    groups = ac.list_groups(timeout=10)\n",
    "    print(\" {} consumer groups\".format(len(groups)))\n",
    "    for g in groups:\n",
    "        if g.error is not None:\n",
    "            errstr = \": {}\".format(g.error)\n",
    "        else:\n",
    "            errstr = \"\"\n",
    "\n",
    "        print(\" \\\"{}\\\" with {} member(s), protocol: {}, protocol_type: {}{}\".format(\n",
    "            g, len(g.members), g.protocol, g.protocol_type, errstr))\n",
    "\n",
    "        for m in g.members:\n",
    "            print(\"id {} client_id: {} client_host: {}\".format(m.id, m.client_id, m.client_host))"
   ]
  },
  {
   "cell_type": "markdown",
   "id": "4550bca4-453e-4004-a5e9-5a56ad3f3866",
   "metadata": {},
   "source": [
    "## Create/Delete topic"
   ]
  },
  {
   "cell_type": "code",
   "execution_count": 157,
   "id": "3edd8f70-444e-404a-a2bb-48c902701b52",
   "metadata": {},
   "outputs": [
    {
     "data": {
      "text/plain": [
       "{'topic2': TopicMetadata(topic2, 1 partitions),\n",
       " 'example-topic': TopicMetadata(example-topic, 1 partitions),\n",
       " 'topic1': TopicMetadata(topic1, 1 partitions),\n",
       " 'notebook-topic': TopicMetadata(notebook-topic, 1 partitions),\n",
       " '__consumer_offsets': TopicMetadata(__consumer_offsets, 50 partitions),\n",
       " 'another_topic': TopicMetadata(another_topic, 1 partitions)}"
      ]
     },
     "execution_count": 157,
     "metadata": {},
     "output_type": "execute_result"
    }
   ],
   "source": [
    "# List all topics\n",
    "ac.list_topics().topics"
   ]
  },
  {
   "cell_type": "code",
   "execution_count": 183,
   "id": "773f63ac-93f2-43af-a1be-b224a70aaaef",
   "metadata": {},
   "outputs": [
    {
     "name": "stdout",
     "output_type": "stream",
     "text": [
      "Topic topic1 created\n",
      "Topic topic2 created\n"
     ]
    }
   ],
   "source": [
    "# Creat topic\n",
    "\n",
    "new_topics = [NewTopic(topic, num_partitions=1, replication_factor=1) for topic in [\"topic1\", \"topic2\"]]\n",
    "# Note: In a multi-cluster production scenario, it is more typical to use a replication_factor of 3 for durability.\n",
    "\n",
    "# Call create_topics to asynchronously create topics. A dict\n",
    "# of <topic,future> is returned.\n",
    "fs = ac.create_topics(new_topics)\n",
    "\n",
    "# Wait for each operation to finish.\n",
    "for topic, f in fs.items():\n",
    "    try:\n",
    "        f.result()  # The result itself is None\n",
    "        print(\"Topic {} created\".format(topic))\n",
    "    except Exception as e:\n",
    "        print(\"Failed to create topic {}: {}\".format(topic, e))"
   ]
  },
  {
   "cell_type": "code",
   "execution_count": 184,
   "id": "68e05d48-0711-4c95-9bee-2d6f8077d117",
   "metadata": {},
   "outputs": [
    {
     "data": {
      "text/plain": [
       "{'topic2': TopicMetadata(topic2, 1 partitions),\n",
       " 'example-topic': TopicMetadata(example-topic, 1 partitions),\n",
       " 'topic1': TopicMetadata(topic1, 1 partitions),\n",
       " 'notebook-topic': TopicMetadata(notebook-topic, 1 partitions),\n",
       " '__consumer_offsets': TopicMetadata(__consumer_offsets, 50 partitions),\n",
       " 'another_topic': TopicMetadata(another_topic, 1 partitions)}"
      ]
     },
     "execution_count": 184,
     "metadata": {},
     "output_type": "execute_result"
    }
   ],
   "source": [
    "# List all topics\n",
    "ac.list_topics().topics"
   ]
  },
  {
   "cell_type": "code",
   "execution_count": 185,
   "id": "1bef021e-33d5-45dd-9ed1-7a2eb5001906",
   "metadata": {},
   "outputs": [
    {
     "name": "stdout",
     "output_type": "stream",
     "text": [
      "Additional partitions created for topic topic1\n",
      "Additional partitions created for topic topic2\n"
     ]
    }
   ],
   "source": [
    "# Create partition\n",
    "\n",
    "# NewPartitions(topic, new_total_count[, replica_assignment])\n",
    "new_partitions = [NewPartitions(topic.topic, topic.num_partitions+1)for topic in new_topics]\n",
    "\n",
    "# Try switching validate_only to True to only validate the operation\n",
    "# on the broker but not actually perform it.\n",
    "fs = ac.create_partitions(new_partitions, validate_only=False)\n",
    "\n",
    "# Wait for operation to finish.\n",
    "for topic, f in fs.items():\n",
    "    try:\n",
    "        f.result()  # The result itself is None\n",
    "        print(\"Additional partitions created for topic {}\".format(topic))\n",
    "    except Exception as e:\n",
    "        print(\"Failed to add partitions to topic {}: {}\".format(topic, e))"
   ]
  },
  {
   "cell_type": "code",
   "execution_count": 186,
   "id": "163e944f-f634-4d4b-9099-c3e3a9cba9fb",
   "metadata": {},
   "outputs": [
    {
     "data": {
      "text/plain": [
       "{'topic2': TopicMetadata(topic2, 2 partitions),\n",
       " 'example-topic': TopicMetadata(example-topic, 1 partitions),\n",
       " 'topic1': TopicMetadata(topic1, 2 partitions),\n",
       " 'notebook-topic': TopicMetadata(notebook-topic, 1 partitions),\n",
       " '__consumer_offsets': TopicMetadata(__consumer_offsets, 50 partitions),\n",
       " 'another_topic': TopicMetadata(another_topic, 1 partitions)}"
      ]
     },
     "execution_count": 186,
     "metadata": {},
     "output_type": "execute_result"
    }
   ],
   "source": [
    "ac.list_topics().topics"
   ]
  },
  {
   "cell_type": "code",
   "execution_count": 187,
   "id": "a89fde58-2d9c-407e-a69c-36577ab6bce0",
   "metadata": {},
   "outputs": [
    {
     "name": "stdout",
     "output_type": "stream",
     "text": [
      "Topic topic1 deleted\n",
      "Topic topic2 deleted\n"
     ]
    }
   ],
   "source": [
    "# Delete topic\n",
    "\n",
    "fs = ac.delete_topics([\"topic1\", \"topic2\"], operation_timeout=0)\n",
    "\n",
    "# Wait for operation to finish.\n",
    "for topic, f in fs.items():\n",
    "    try:\n",
    "        f.result()  # The result itself is None\n",
    "        print(\"Topic {} deleted\".format(topic))\n",
    "    except Exception as e:\n",
    "        print(\"Failed to delete topic {}: {}\".format(topic, e))"
   ]
  },
  {
   "cell_type": "code",
   "execution_count": 188,
   "id": "2f85d047-1971-47cd-a4c8-4c805d964950",
   "metadata": {},
   "outputs": [
    {
     "data": {
      "text/plain": [
       "{'example-topic': TopicMetadata(example-topic, 1 partitions),\n",
       " 'another_topic': TopicMetadata(another_topic, 1 partitions),\n",
       " 'notebook-topic': TopicMetadata(notebook-topic, 1 partitions),\n",
       " '__consumer_offsets': TopicMetadata(__consumer_offsets, 50 partitions)}"
      ]
     },
     "execution_count": 188,
     "metadata": {},
     "output_type": "execute_result"
    }
   ],
   "source": [
    "ac.list_topics().topics"
   ]
  },
  {
   "cell_type": "markdown",
   "id": "88417efe-153d-4c22-80f5-0e062c14b37f",
   "metadata": {},
   "source": [
    "---"
   ]
  },
  {
   "cell_type": "code",
   "execution_count": null,
   "id": "c1a01677-bbef-4efd-b1a0-8c5521707f19",
   "metadata": {},
   "outputs": [],
   "source": [
    "import random\n",
    "import time\n",
    "\n",
    "# initialize producer\n",
    "producer = Producer({'bootstrap.servers': bootstrap_server})"
   ]
  },
  {
   "cell_type": "code",
   "execution_count": 206,
   "id": "28f15e58-8dd3-4bb6-8c3c-d91379805861",
   "metadata": {},
   "outputs": [
    {
     "name": "stdout",
     "output_type": "stream",
     "text": [
      "✅  📬  Message delivered: \"message:0\" to env-topic [partition 1]\n",
      "✅  📬  Message delivered: \"message:1\" to env-topic [partition 1]\n",
      "✅  📬  Message delivered: \"message:2\" to env-topic [partition 1]\n",
      "✅  📬  Message delivered: \"message:3\" to env-topic [partition 1]\n",
      "✅  📬  Message delivered: \"message:4\" to env-topic [partition 0]\n",
      "✅  📬  Message delivered: \"message:5\" to env-topic [partition 0]\n",
      "✅  📬  Message delivered: \"message:6\" to env-topic [partition 1]\n",
      "✅  📬  Message delivered: \"message:7\" to env-topic [partition 0]\n",
      "✅  📬  Message delivered: \"message:8\" to env-topic [partition 1]\n",
      "✅  📬  Message delivered: \"message:9\" to env-topic [partition 1]\n",
      "✅  📬  Message delivered: \"message:10\" to env-topic [partition 0]\n",
      "✅  📬  Message delivered: \"message:11\" to env-topic [partition 0]\n",
      "✅  📬  Message delivered: \"message:12\" to env-topic [partition 0]\n",
      "✅  📬  Message delivered: \"message:13\" to env-topic [partition 1]\n",
      "✅  📬  Message delivered: \"message:14\" to env-topic [partition 0]\n",
      "✅  📬  Message delivered: \"message:15\" to env-topic [partition 1]\n",
      "✅  📬  Message delivered: \"message:16\" to env-topic [partition 0]\n",
      "✅  📬  Message delivered: \"message:17\" to env-topic [partition 1]\n",
      "✅  📬  Message delivered: \"message:18\" to env-topic [partition 1]\n",
      "✅  📬  Message delivered: \"message:19\" to env-topic [partition 0]\n",
      "✅  📬  Message delivered: \"message:20\" to env-topic [partition 1]\n",
      "✅  📬  Message delivered: \"message:21\" to env-topic [partition 0]\n",
      "✅  📬  Message delivered: \"message:22\" to env-topic [partition 1]\n",
      "✅  📬  Message delivered: \"message:23\" to env-topic [partition 1]\n",
      "✅  📬  Message delivered: \"message:24\" to env-topic [partition 1]\n",
      "✅  📬  Message delivered: \"message:25\" to env-topic [partition 1]\n",
      "✅  📬  Message delivered: \"message:26\" to env-topic [partition 0]\n",
      "✅  📬  Message delivered: \"message:27\" to env-topic [partition 0]\n",
      "✅  📬  Message delivered: \"message:28\" to env-topic [partition 1]\n",
      "✅  📬  Message delivered: \"message:29\" to env-topic [partition 1]\n",
      "✅  📬  Message delivered: \"message:30\" to env-topic [partition 1]\n",
      "✅  📬  Message delivered: \"message:31\" to env-topic [partition 1]\n",
      "✅  📬  Message delivered: \"message:32\" to env-topic [partition 1]\n",
      "✅  📬  Message delivered: \"message:33\" to env-topic [partition 1]\n",
      "✅  📬  Message delivered: \"message:34\" to env-topic [partition 0]\n",
      "✅  📬  Message delivered: \"message:35\" to env-topic [partition 0]\n",
      "✅  📬  Message delivered: \"message:36\" to env-topic [partition 1]\n",
      "✅  📬  Message delivered: \"message:37\" to env-topic [partition 0]\n",
      "✅  📬  Message delivered: \"message:38\" to env-topic [partition 0]\n",
      "✅  📬  Message delivered: \"message:39\" to env-topic [partition 1]\n",
      "✅  📬  Message delivered: \"message:40\" to env-topic [partition 0]\n",
      "✅  📬  Message delivered: \"message:41\" to env-topic [partition 1]\n",
      "✅  📬  Message delivered: \"message:42\" to env-topic [partition 1]\n",
      "✅  📬  Message delivered: \"message:43\" to env-topic [partition 0]\n",
      "✅  📬  Message delivered: \"message:44\" to env-topic [partition 1]\n",
      "✅  📬  Message delivered: \"message:45\" to env-topic [partition 0]\n",
      "✅  📬  Message delivered: \"message:46\" to env-topic [partition 0]\n",
      "✅  📬  Message delivered: \"message:47\" to env-topic [partition 0]\n",
      "✅  📬  Message delivered: \"message:48\" to env-topic [partition 1]\n",
      "✅  📬  Message delivered: \"message:49\" to env-topic [partition 1]\n"
     ]
    }
   ],
   "source": [
    "# produce 10 messages\n",
    "for i in range(50):\n",
    "    # Trigger any available delivery report callbacks from previous produce() calls\n",
    "    producer.poll(0)\n",
    "    \n",
    "    data = f\"message:{i}\"\n",
    "    producer.produce('env-topic', partition=random.randint(0, 1), key='key', value=data.encode('utf-8'), callback=delivery_report)\n",
    "    time.sleep(0.5)\n",
    "r=producer.flush(timeout=5)\n",
    "if r>0:\n",
    "    print('❌ Message delivery failed ({} message(s) still remain, did we timeout sending perhaps?)\\n'.format(r))"
   ]
  },
  {
   "cell_type": "code",
   "execution_count": 209,
   "id": "51195152-5496-48d4-933e-646d1c874aca",
   "metadata": {},
   "outputs": [
    {
     "name": "stdout",
     "output_type": "stream",
     "text": [
      "✅  📬  Message delivered: \"message:0\" to env-topic [partition 1]\n",
      "✅  📬  Message delivered: \"message:1\" to env-topic [partition 1]\n",
      "✅  📬  Message delivered: \"message:2\" to env-topic [partition 1]\n",
      "✅  📬  Message delivered: \"message:3\" to env-topic [partition 1]\n",
      "✅  📬  Message delivered: \"message:4\" to env-topic [partition 1]\n",
      "✅  📬  Message delivered: \"message:5\" to env-topic [partition 1]\n",
      "✅  📬  Message delivered: \"message:6\" to env-topic [partition 1]\n",
      "✅  📬  Message delivered: \"message:7\" to env-topic [partition 1]\n",
      "✅  📬  Message delivered: \"message:8\" to env-topic [partition 1]\n",
      "✅  📬  Message delivered: \"message:9\" to env-topic [partition 1]\n",
      "✅  📬  Message delivered: \"message:10\" to env-topic [partition 1]\n",
      "✅  📬  Message delivered: \"message:11\" to env-topic [partition 1]\n",
      "✅  📬  Message delivered: \"message:12\" to env-topic [partition 1]\n",
      "✅  📬  Message delivered: \"message:13\" to env-topic [partition 1]\n",
      "✅  📬  Message delivered: \"message:14\" to env-topic [partition 1]\n",
      "✅  📬  Message delivered: \"message:15\" to env-topic [partition 1]\n",
      "✅  📬  Message delivered: \"message:16\" to env-topic [partition 1]\n",
      "✅  📬  Message delivered: \"message:17\" to env-topic [partition 1]\n",
      "✅  📬  Message delivered: \"message:18\" to env-topic [partition 1]\n",
      "✅  📬  Message delivered: \"message:19\" to env-topic [partition 1]\n",
      "✅  📬  Message delivered: \"message:20\" to env-topic [partition 1]\n",
      "✅  📬  Message delivered: \"message:21\" to env-topic [partition 1]\n",
      "✅  📬  Message delivered: \"message:22\" to env-topic [partition 1]\n",
      "✅  📬  Message delivered: \"message:23\" to env-topic [partition 1]\n",
      "✅  📬  Message delivered: \"message:24\" to env-topic [partition 1]\n",
      "✅  📬  Message delivered: \"message:25\" to env-topic [partition 1]\n",
      "✅  📬  Message delivered: \"message:26\" to env-topic [partition 1]\n",
      "✅  📬  Message delivered: \"message:27\" to env-topic [partition 1]\n",
      "✅  📬  Message delivered: \"message:28\" to env-topic [partition 1]\n",
      "✅  📬  Message delivered: \"message:29\" to env-topic [partition 1]\n"
     ]
    }
   ],
   "source": [
    "# produce 10 messages\n",
    "for i in range(30):\n",
    "    # Trigger any available delivery report callbacks from previous produce() calls\n",
    "    producer.poll(0)\n",
    "    \n",
    "    data = f\"message:{i}\"\n",
    "    producer.produce('env-topic', key='key', value=data.encode('utf-8'), callback=delivery_report)\n",
    "    time.sleep(0.2)\n",
    "r=producer.flush(timeout=5)\n",
    "if r>0:\n",
    "    print('❌ Message delivery failed ({} message(s) still remain, did we timeout sending perhaps?)\\n'.format(r))"
   ]
  }
 ],
 "metadata": {
  "kernelspec": {
   "display_name": "Python 3 (ipykernel)",
   "language": "python",
   "name": "python3"
  },
  "language_info": {
   "codemirror_mode": {
    "name": "ipython",
    "version": 3
   },
   "file_extension": ".py",
   "mimetype": "text/x-python",
   "name": "python",
   "nbconvert_exporter": "python",
   "pygments_lexer": "ipython3",
   "version": "3.10.6"
  }
 },
 "nbformat": 4,
 "nbformat_minor": 5
}

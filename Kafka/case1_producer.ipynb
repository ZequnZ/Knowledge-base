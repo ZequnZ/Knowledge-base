{
 "cells": [
  {
   "cell_type": "code",
   "execution_count": 8,
   "id": "7eb6c264-cfcf-474e-a770-fbf0f9809bc0",
   "metadata": {},
   "outputs": [],
   "source": [
    "import random\n",
    "import time\n",
    "from confluent_kafka import Consumer\n",
    "from confluent_kafka import Producer\n",
    "\n",
    "bootstrap_server='localhost:9092'\n",
    "topic = 'topic1'\n",
    "\n",
    "def delivery_report(err, msg):\n",
    "    \"\"\" Called once for each message produced to indicate delivery result.\n",
    "        Triggered by poll() or flush(). \"\"\"\n",
    "    if err is not None:\n",
    "        print('❌ Message delivery failed: {}'.format(err))\n",
    "    else:\n",
    "        print('✅  📬  Message delivered: \"{}\" to {} [partition {}]'.format(msg.value().decode('utf-8'),msg.topic(), msg.partition()))\n",
    "\n"
   ]
  },
  {
   "cell_type": "code",
   "execution_count": 9,
   "id": "1f3fde74-34ba-4262-8a3c-375b9b461985",
   "metadata": {},
   "outputs": [],
   "source": [
    "producer = Producer({'bootstrap.servers': bootstrap_server})"
   ]
  },
  {
   "cell_type": "code",
   "execution_count": 10,
   "id": "2957ebd1-3513-43a4-bc3c-1aaa4dba98f4",
   "metadata": {},
   "outputs": [
    {
     "name": "stdout",
     "output_type": "stream",
     "text": [
      "✅  📬  Message delivered: \"message:0\" to topic1 [partition 0]\n",
      "✅  📬  Message delivered: \"message:1\" to topic1 [partition 1]\n",
      "✅  📬  Message delivered: \"message:2\" to topic1 [partition 0]\n",
      "✅  📬  Message delivered: \"message:3\" to topic1 [partition 1]\n",
      "✅  📬  Message delivered: \"message:4\" to topic1 [partition 0]\n",
      "✅  📬  Message delivered: \"message:5\" to topic1 [partition 1]\n",
      "✅  📬  Message delivered: \"message:6\" to topic1 [partition 0]\n",
      "✅  📬  Message delivered: \"message:7\" to topic1 [partition 0]\n",
      "✅  📬  Message delivered: \"message:8\" to topic1 [partition 0]\n",
      "✅  📬  Message delivered: \"message:9\" to topic1 [partition 0]\n"
     ]
    }
   ],
   "source": [
    "# produce 10 messages\n",
    "for i in range(10):\n",
    "    # Trigger any available delivery report callbacks from previous produce() calls\n",
    "    producer.poll(0)\n",
    "    \n",
    "    data = f\"message:{i}\"\n",
    "    producer.produce(topic, partition=random.randint(0, 1), key='key', value=data.encode('utf-8'), callback=delivery_report)\n",
    "    time.sleep(0.1)\n",
    "r=producer.flush(timeout=5)\n",
    "if r>0:\n",
    "    print('❌ Message delivery failed ({} message(s) still remain, did we timeout sending perhaps?)\\n'.format(r))"
   ]
  }
 ],
 "metadata": {
  "kernelspec": {
   "display_name": "Python 3 (ipykernel)",
   "language": "python",
   "name": "python3"
  },
  "language_info": {
   "codemirror_mode": {
    "name": "ipython",
    "version": 3
   },
   "file_extension": ".py",
   "mimetype": "text/x-python",
   "name": "python",
   "nbconvert_exporter": "python",
   "pygments_lexer": "ipython3",
   "version": "3.10.6"
  }
 },
 "nbformat": 4,
 "nbformat_minor": 5
}

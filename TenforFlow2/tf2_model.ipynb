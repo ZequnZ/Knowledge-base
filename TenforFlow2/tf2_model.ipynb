{
 "cells": [
  {
   "cell_type": "markdown",
   "id": "a32ca60d-6751-477b-98af-4f7faa007d0e",
   "metadata": {},
   "source": [
    "# TensorFlow 2 basic setup"
   ]
  },
  {
   "cell_type": "markdown",
   "id": "1b6bebcb-337e-40c9-b452-8452e4377804",
   "metadata": {},
   "source": [
    "In this notebook, I would like to implement a basic framework of model development, \n",
    "using *tf.Module* and *keras*."
   ]
  },
  {
   "cell_type": "code",
   "execution_count": 37,
   "id": "90826006-0231-45f3-a905-70656fc422ae",
   "metadata": {},
   "outputs": [],
   "source": [
    "import tensorflow_datasets as tfds\n",
    "import tensorflow as tf\n",
    "from tensorflow.keras import layers"
   ]
  },
  {
   "cell_type": "markdown",
   "id": "91b10507-f598-4532-8697-46b8e46e4948",
   "metadata": {},
   "source": [
    "## Dataset"
   ]
  },
  {
   "cell_type": "code",
   "execution_count": 49,
   "id": "f0e42f9e-5a06-47db-95d6-ccc21e8e3ef7",
   "metadata": {},
   "outputs": [],
   "source": [
    "# Load dataset\n",
    "data_train, data_test = tfds.load('mnist', split=['train','test'],\n",
    "                                  shuffle_files=True, as_supervised=True,\n",
    "                                 batch_size=-1)\n",
    "\n",
    "# Convert data and label into numpy array\n",
    "data_train, label_train = data_train[0].numpy(), data_train[1].numpy()\n",
    "data_test, label_test = data_test[0].numpy(), data_test[1].numpy()\n",
    "\n",
    "# Preprocessing\n",
    "data_train = data_train/255\n",
    "data_test = data_test/255"
   ]
  },
  {
   "cell_type": "markdown",
   "id": "bfac6f98-4d99-41b6-916e-c3faf2f9783f",
   "metadata": {},
   "source": [
    "## Build a model using Keras functional API"
   ]
  },
  {
   "cell_type": "code",
   "execution_count": 50,
   "id": "848adac8-88eb-4479-a036-54cd3dd02fc0",
   "metadata": {},
   "outputs": [],
   "source": [
    "def bulid_model_keras_functional(name=None):\n",
    "\n",
    "    input_ = layers.Input(shape=[28,28,1], name='input')\n",
    "    flat = layers.Flatten(name='flat')(input_)\n",
    "    dense1 = layers.Dense(128, activation='relu',name='dense1')(flat)\n",
    "    dense2 = layers.Dense(64, activation='relu',name='dense2')(dense1)\n",
    "    output = layers.Dense(10, activation='softmax',name='output')(dense2)\n",
    "\n",
    "    return tf.keras.models.Model(inputs=[input_], outputs=[output],name=name)\n"
   ]
  },
  {
   "cell_type": "code",
   "execution_count": 85,
   "id": "4dbf66b2-ecb5-44a5-97f0-06ba8eda8562",
   "metadata": {
    "scrolled": true
   },
   "outputs": [
    {
     "name": "stdout",
     "output_type": "stream",
     "text": [
      "Model: \"model_11\"\n",
      "_________________________________________________________________\n",
      " Layer (type)                Output Shape              Param #   \n",
      "=================================================================\n",
      " input (InputLayer)          [(None, 28, 28, 1)]       0         \n",
      "                                                                 \n",
      " flat (Flatten)              (None, 784)               0         \n",
      "                                                                 \n",
      " dense1 (Dense)              (None, 128)               100480    \n",
      "                                                                 \n",
      " dense2 (Dense)              (None, 64)                8256      \n",
      "                                                                 \n",
      " output (Dense)              (None, 10)                650       \n",
      "                                                                 \n",
      "=================================================================\n",
      "Total params: 109386 (427.29 KB)\n",
      "Trainable params: 109386 (427.29 KB)\n",
      "Non-trainable params: 0 (0.00 Byte)\n",
      "_________________________________________________________________\n"
     ]
    }
   ],
   "source": [
    "# model building\n",
    "model = bulid_model_keras_functional()\n",
    "model.summary()"
   ]
  },
  {
   "cell_type": "code",
   "execution_count": 158,
   "id": "3168465b-8e37-4f66-9bc2-881b33578be1",
   "metadata": {},
   "outputs": [
    {
     "name": "stdout",
     "output_type": "stream",
     "text": [
      "Epoch 1/10\n",
      "1/1 [==============================] - 1s 695ms/step - loss: 2.3975 - sparse_categorical_crossentropy: 2.3975 - sparse_categorical_accuracy: 0.1093 - val_loss: 2.1145 - val_sparse_categorical_crossentropy: 2.1145 - val_sparse_categorical_accuracy: 0.2649\n",
      "Epoch 2/10\n",
      "1/1 [==============================] - 0s 127ms/step - loss: 2.1141 - sparse_categorical_crossentropy: 2.1141 - sparse_categorical_accuracy: 0.2722 - val_loss: 1.8852 - val_sparse_categorical_crossentropy: 1.8852 - val_sparse_categorical_accuracy: 0.5134\n",
      "Epoch 3/10\n",
      "1/1 [==============================] - 0s 117ms/step - loss: 1.8912 - sparse_categorical_crossentropy: 1.8912 - sparse_categorical_accuracy: 0.5145 - val_loss: 1.6591 - val_sparse_categorical_crossentropy: 1.6591 - val_sparse_categorical_accuracy: 0.6487\n",
      "Epoch 4/10\n",
      "1/1 [==============================] - 0s 115ms/step - loss: 1.6686 - sparse_categorical_crossentropy: 1.6686 - sparse_categorical_accuracy: 0.6473 - val_loss: 1.4683 - val_sparse_categorical_crossentropy: 1.4683 - val_sparse_categorical_accuracy: 0.6975\n",
      "Epoch 5/10\n",
      "1/1 [==============================] - 0s 113ms/step - loss: 1.4841 - sparse_categorical_crossentropy: 1.4841 - sparse_categorical_accuracy: 0.6893 - val_loss: 1.3519 - val_sparse_categorical_crossentropy: 1.3519 - val_sparse_categorical_accuracy: 0.6884\n",
      "Epoch 6/10\n",
      "1/1 [==============================] - 0s 115ms/step - loss: 1.3624 - sparse_categorical_crossentropy: 1.3624 - sparse_categorical_accuracy: 0.6857 - val_loss: 1.2252 - val_sparse_categorical_crossentropy: 1.2252 - val_sparse_categorical_accuracy: 0.7302\n",
      "Epoch 7/10\n",
      "1/1 [==============================] - 0s 114ms/step - loss: 1.2480 - sparse_categorical_crossentropy: 1.2480 - sparse_categorical_accuracy: 0.7192 - val_loss: 1.1174 - val_sparse_categorical_crossentropy: 1.1174 - val_sparse_categorical_accuracy: 0.7477\n",
      "Epoch 8/10\n",
      "1/1 [==============================] - 0s 115ms/step - loss: 1.1284 - sparse_categorical_crossentropy: 1.1284 - sparse_categorical_accuracy: 0.7402 - val_loss: 1.0060 - val_sparse_categorical_crossentropy: 1.0060 - val_sparse_categorical_accuracy: 0.7992\n",
      "Epoch 9/10\n",
      "1/1 [==============================] - 0s 120ms/step - loss: 1.0315 - sparse_categorical_crossentropy: 1.0315 - sparse_categorical_accuracy: 0.7837 - val_loss: 0.9389 - val_sparse_categorical_crossentropy: 0.9389 - val_sparse_categorical_accuracy: 0.7989\n",
      "Epoch 10/10\n",
      "1/1 [==============================] - 0s 113ms/step - loss: 0.9509 - sparse_categorical_crossentropy: 0.9509 - sparse_categorical_accuracy: 0.7890 - val_loss: 0.8615 - val_sparse_categorical_crossentropy: 0.8615 - val_sparse_categorical_accuracy: 0.8350\n"
     ]
    }
   ],
   "source": [
    "model = bulid_model_keras_functional()\n",
    "\n",
    "# training\n",
    "model.compile(\n",
    "    loss='sparse_categorical_crossentropy',\n",
    "    optimizer=tf.keras.optimizers.legacy.RMSprop(),\n",
    "    metrics=['sparse_categorical_crossentropy','sparse_categorical_accuracy'],\n",
    ")\n",
    "\n",
    "history = model.fit(data_train, label_train, validation_data=(data_test,label_test),\n",
    "                    batch_size=60000, epochs=10, shuffle=False, verbose=1)"
   ]
  },
  {
   "cell_type": "code",
   "execution_count": 159,
   "id": "a48412b6-5f00-4997-810d-a74d5a516808",
   "metadata": {
    "scrolled": true
   },
   "outputs": [
    {
     "name": "stdout",
     "output_type": "stream",
     "text": [
      "Epoch 1/10\n",
      "1/1 [==============================] - 1s 645ms/step - loss: 2.3787 - sparse_categorical_crossentropy: 2.3787 - sparse_categorical_accuracy: 0.0590 - val_loss: 2.0919 - val_sparse_categorical_crossentropy: 2.0919 - val_sparse_categorical_accuracy: 0.3519\n",
      "Epoch 2/10\n",
      "1/1 [==============================] - 0s 134ms/step - loss: 2.0936 - sparse_categorical_crossentropy: 2.0936 - sparse_categorical_accuracy: 0.3595 - val_loss: 1.8640 - val_sparse_categorical_crossentropy: 1.8640 - val_sparse_categorical_accuracy: 0.4962\n",
      "Epoch 3/10\n",
      "1/1 [==============================] - 0s 117ms/step - loss: 1.8707 - sparse_categorical_crossentropy: 1.8707 - sparse_categorical_accuracy: 0.4956 - val_loss: 1.6705 - val_sparse_categorical_crossentropy: 1.6705 - val_sparse_categorical_accuracy: 0.5650\n",
      "Epoch 4/10\n",
      "1/1 [==============================] - 0s 116ms/step - loss: 1.6739 - sparse_categorical_crossentropy: 1.6739 - sparse_categorical_accuracy: 0.5756 - val_loss: 1.5107 - val_sparse_categorical_crossentropy: 1.5107 - val_sparse_categorical_accuracy: 0.6498\n",
      "Epoch 5/10\n",
      "1/1 [==============================] - 0s 116ms/step - loss: 1.5231 - sparse_categorical_crossentropy: 1.5231 - sparse_categorical_accuracy: 0.6482 - val_loss: 1.4167 - val_sparse_categorical_crossentropy: 1.4167 - val_sparse_categorical_accuracy: 0.5991\n",
      "Epoch 6/10\n",
      "1/1 [==============================] - 0s 116ms/step - loss: 1.4190 - sparse_categorical_crossentropy: 1.4190 - sparse_categorical_accuracy: 0.6031 - val_loss: 1.2727 - val_sparse_categorical_crossentropy: 1.2727 - val_sparse_categorical_accuracy: 0.7258\n",
      "Epoch 7/10\n",
      "1/1 [==============================] - 0s 114ms/step - loss: 1.2883 - sparse_categorical_crossentropy: 1.2883 - sparse_categorical_accuracy: 0.7205 - val_loss: 1.1498 - val_sparse_categorical_crossentropy: 1.1498 - val_sparse_categorical_accuracy: 0.7317\n",
      "Epoch 8/10\n",
      "1/1 [==============================] - 0s 116ms/step - loss: 1.1582 - sparse_categorical_crossentropy: 1.1582 - sparse_categorical_accuracy: 0.7279 - val_loss: 1.0437 - val_sparse_categorical_crossentropy: 1.0437 - val_sparse_categorical_accuracy: 0.7930\n",
      "Epoch 9/10\n",
      "1/1 [==============================] - 0s 107ms/step - loss: 1.0616 - sparse_categorical_crossentropy: 1.0616 - sparse_categorical_accuracy: 0.7861 - val_loss: 0.9721 - val_sparse_categorical_crossentropy: 0.9721 - val_sparse_categorical_accuracy: 0.7699\n",
      "Epoch 10/10\n",
      "1/1 [==============================] - 0s 115ms/step - loss: 0.9819 - sparse_categorical_crossentropy: 0.9819 - sparse_categorical_accuracy: 0.7668 - val_loss: 0.8982 - val_sparse_categorical_crossentropy: 0.8982 - val_sparse_categorical_accuracy: 0.8190\n"
     ]
    }
   ],
   "source": [
    "model = bulid_model_keras_functional()\n",
    "\n",
    "# training\n",
    "model.compile(\n",
    "    loss='sparse_categorical_crossentropy',\n",
    "    optimizer=tf.keras.optimizers.legacy.RMSprop(),\n",
    "    metrics=['sparse_categorical_crossentropy','sparse_categorical_accuracy'],\n",
    ")\n",
    "\n",
    "history = model.fit(data_train, label_train, validation_data=(data_test,label_test),\n",
    "                    batch_size=60000, epochs=10, shuffle=True, verbose=1)"
   ]
  },
  {
   "cell_type": "markdown",
   "id": "4f93e3b4-90ba-4f20-b774-427bf291c8ce",
   "metadata": {},
   "source": [
    "### Train the model using Gradient tape"
   ]
  },
  {
   "cell_type": "code",
   "execution_count": 87,
   "id": "1e939a7e-d0c7-4629-bbdf-f143c6929b17",
   "metadata": {},
   "outputs": [
    {
     "name": "stdout",
     "output_type": "stream",
     "text": [
      "Step: 1\n",
      "Training Loss: 2.0964486598968506, Accuracy: 0.36356666684150696\n",
      "Val Loss: 2.0900580883026123, Accuracy: 0.364385724067688\n",
      "Step: 2\n",
      "Training Loss: 1.8530442714691162, Accuracy: 0.4502153992652893\n",
      "Val Loss: 1.8434109687805176, Accuracy: 0.45765000581741333\n",
      "Step: 3\n",
      "Training Loss: 1.624595046043396, Accuracy: 0.5078999996185303\n",
      "Val Loss: 1.6104457378387451, Accuracy: 0.513533353805542\n",
      "Step: 4\n",
      "Training Loss: 1.4611223936080933, Accuracy: 0.5393074154853821\n",
      "Val Loss: 1.4485867023468018, Accuracy: 0.5425035953521729\n",
      "Step: 5\n",
      "Training Loss: 1.35591721534729, Accuracy: 0.5665705800056458\n",
      "Val Loss: 1.339763879776001, Accuracy: 0.5698428750038147\n",
      "Step: 6\n",
      "Training Loss: 1.2168372869491577, Accuracy: 0.5875316858291626\n",
      "Val Loss: 1.201808214187622, Accuracy: 0.5900999903678894\n",
      "Step: 7\n",
      "Training Loss: 1.087450385093689, Accuracy: 0.6144333481788635\n",
      "Val Loss: 1.0692230463027954, Accuracy: 0.6180469393730164\n",
      "Step: 8\n",
      "Training Loss: 0.9919915199279785, Accuracy: 0.6355018019676208\n",
      "Val Loss: 0.9722931385040283, Accuracy: 0.6382232308387756\n",
      "Step: 9\n",
      "Training Loss: 0.9371575713157654, Accuracy: 0.6534886956214905\n",
      "Val Loss: 0.9210611581802368, Accuracy: 0.6558206081390381\n",
      "Step: 10\n",
      "Training Loss: 0.9040349125862122, Accuracy: 0.6665072441101074\n",
      "Val Loss: 0.8823763728141785, Accuracy: 0.6682771444320679\n"
     ]
    }
   ],
   "source": [
    "model2 = bulid_model_keras_functional()\n",
    "epochs=10\n",
    "loss = tf.keras.losses.SparseCategoricalCrossentropy()\n",
    "accuracy = tf.keras.metrics.SparseCategoricalAccuracy()\n",
    "optimizer = tf.keras.optimizers.legacy.RMSprop()\n",
    "\n",
    "for e in range(epochs):\n",
    "\n",
    "    with tf.GradientTape() as tape:\n",
    "        y_pred = model2(data_train)\n",
    "        loss_value = loss(label_train, y_pred)\n",
    "        # print(\"Step: {}, Initial Loss: {}\".format(optimizer.iterations.numpy(),\n",
    "        #                                   loss_value.numpy()))\n",
    "        \n",
    "    grads = tape.gradient(loss_value, model2.trainable_variables)\n",
    "\n",
    "    optimizer.apply_gradients(zip(grads, model2.trainable_variables))\n",
    "\n",
    "\n",
    "    print(\"Step: {}\".format(optimizer.iterations.numpy()))\n",
    "    print(\"Training Loss: {}, Accuracy: {}\".format(loss(label_train, model2(data_train)).numpy(), accuracy(label_train, model2(data_train)).numpy()))\n",
    "    print(\"Val Loss: {}, Accuracy: {}\".format(loss(label_test, model2(data_test)).numpy(), accuracy(label_test, model2(data_test)).numpy()))\n",
    "        \n",
    "    # print(\"Step: {}, Loss: {}\".format(optimizer.iterations.numpy(),\n",
    "    #                                       loss(label_train, model2(data_train)).numpy()))"
   ]
  },
  {
   "cell_type": "markdown",
   "id": "6c1e004e-4b3e-4f23-9274-6302e8a8ca99",
   "metadata": {},
   "source": [
    "## Build a model using tf.keras.layer"
   ]
  },
  {
   "cell_type": "code",
   "execution_count": 160,
   "id": "99d2befe-1f44-4fa4-8c7f-4520c6bcc491",
   "metadata": {},
   "outputs": [],
   "source": [
    "class ModelKerasLayer(tf.keras.layers.Layer):\n",
    "\n",
    "    def __init__(self):\n",
    "        super().__init__()\n",
    "\n",
    "    def build(self, input):\n",
    "        # self.input = layers.Input(shape=[28,28,1], name='input')\n",
    "        # self.flat = layers.Flatten(name='flat')\n",
    "        self.dense1 = tf.Variable(tf.random.normal([784, 128],stddev=0.1), name='dense1')\n",
    "        self.bias1 = tf.Variable(tf.zeros([128]), name='b1')\n",
    "        self.dense2 = tf.Variable(tf.random.normal([128,64],stddev=0.1), name='dense2')\n",
    "        self.bias2 = tf.Variable(tf.zeros([64]), name='b2')\n",
    "        self.dense3 = tf.Variable(tf.random.normal([64,10],stddev=0.1), name='dense3')\n",
    "        self.bias3 = tf.Variable(tf.zeros([10]), name='b3')\n",
    "        \n",
    "        # self.dense1 = layers.Dense(128, activation='relu',name='dense1')\n",
    "        # self.dense2 = layers.Dense(64, activation='relu',name='dense2')\n",
    "        # self.output = layers.Dense(10, activation='softmax',name='output')\n",
    "        \n",
    "    def call(self, input):\n",
    "        flat_input = layers.Flatten()(input)\n",
    "        output_d1 = tf.keras.activations.relu(tf.matmul(flat_input,self.dense1) + self.bias1)\n",
    "        output_d2 = tf.keras.activations.relu(tf.matmul(output_d1,self.dense2) + self.bias2)\n",
    "        output_d3 = tf.matmul(output_d2,self.dense3) + self.bias3\n",
    "        return tf.nn.softmax(output_d3)\n",
    "        # return tf.keras.activations.softmax(output_d3)\n",
    "        return output_d3\n"
   ]
  },
  {
   "cell_type": "code",
   "execution_count": 161,
   "id": "819797b7-e10e-4e75-86d5-d39cbdef6556",
   "metadata": {},
   "outputs": [
    {
     "data": {
      "text/plain": [
       "<tf.Tensor: shape=(3, 10), dtype=float32, numpy=\n",
       "array([[0.07279766, 0.16578269, 0.17470877, 0.13109253, 0.11420494,\n",
       "        0.05171773, 0.04314727, 0.07552552, 0.06847826, 0.10254459],\n",
       "       [0.08055943, 0.18254331, 0.14771058, 0.09612502, 0.11575445,\n",
       "        0.05314843, 0.04808422, 0.07273257, 0.08116436, 0.12217763],\n",
       "       [0.07576714, 0.16737936, 0.22198503, 0.09159083, 0.11512569,\n",
       "        0.03125234, 0.03503455, 0.09289027, 0.06404123, 0.10493358]],\n",
       "      dtype=float32)>"
      ]
     },
     "execution_count": 161,
     "metadata": {},
     "output_type": "execute_result"
    }
   ],
   "source": [
    "modelkl = ModelKerasLayer()\n",
    "modelkl(data_train[:3,:,:,:])"
   ]
  },
  {
   "cell_type": "markdown",
   "id": "fdcdcf99-a45e-4c80-bf1d-590b59ae90cb",
   "metadata": {},
   "source": [
    "### Train the model using Gradient tape"
   ]
  },
  {
   "cell_type": "code",
   "execution_count": 163,
   "id": "e9af0cca-8a2c-462d-bf3c-e12a6c14367e",
   "metadata": {},
   "outputs": [
    {
     "name": "stdout",
     "output_type": "stream",
     "text": [
      "Step: 1\n",
      "Training Loss: 2.1773428916931152, Accuracy: 0.23493333160877228\n",
      "Val Loss: 2.1734559535980225, Accuracy: 0.23471428453922272\n",
      "Step: 2\n",
      "Training Loss: 2.0106985569000244, Accuracy: 0.3255692422389984\n",
      "Val Loss: 2.0018320083618164, Accuracy: 0.3330928683280945\n",
      "Step: 3\n",
      "Training Loss: 1.844391942024231, Accuracy: 0.397599995136261\n",
      "Val Loss: 1.8344064950942993, Accuracy: 0.4047999978065491\n",
      "Step: 4\n",
      "Training Loss: 1.6777935028076172, Accuracy: 0.4576740860939026\n",
      "Val Loss: 1.6633347272872925, Accuracy: 0.46434643864631653\n",
      "Step: 5\n",
      "Training Loss: 1.5218833684921265, Accuracy: 0.4985441267490387\n",
      "Val Loss: 1.507598876953125, Accuracy: 0.5032914280891418\n",
      "Step: 6\n",
      "Training Loss: 1.3919932842254639, Accuracy: 0.5320170521736145\n",
      "Val Loss: 1.3714207410812378, Accuracy: 0.5363237857818604\n",
      "Step: 7\n",
      "Training Loss: 1.2854193449020386, Accuracy: 0.5551791787147522\n",
      "Val Loss: 1.269489049911499, Accuracy: 0.5578693747520447\n",
      "Step: 8\n",
      "Training Loss: 1.1827666759490967, Accuracy: 0.5773981809616089\n",
      "Val Loss: 1.1594709157943726, Accuracy: 0.58045893907547\n",
      "Step: 9\n",
      "Training Loss: 1.0791234970092773, Accuracy: 0.5972887277603149\n",
      "Val Loss: 1.0599236488342285, Accuracy: 0.5998238325119019\n",
      "Step: 10\n",
      "Training Loss: 0.9958987832069397, Accuracy: 0.6156333088874817\n",
      "Val Loss: 0.9717361330986023, Accuracy: 0.618157148361206\n",
      "Step: 11\n",
      "Training Loss: 0.9228209853172302, Accuracy: 0.6320750117301941\n",
      "Val Loss: 0.9014124870300293, Accuracy: 0.6342766284942627\n",
      "Step: 12\n",
      "Training Loss: 0.8639455437660217, Accuracy: 0.6468072533607483\n",
      "Val Loss: 0.8396929502487183, Accuracy: 0.6488106846809387\n",
      "Step: 13\n",
      "Training Loss: 0.8131799697875977, Accuracy: 0.6596633195877075\n",
      "Val Loss: 0.7908588647842407, Accuracy: 0.6614252924919128\n",
      "Step: 14\n",
      "Training Loss: 0.7738578915596008, Accuracy: 0.6711391806602478\n",
      "Val Loss: 0.7498259544372559, Accuracy: 0.6727173328399658\n",
      "Step: 15\n",
      "Training Loss: 0.7459416389465332, Accuracy: 0.680759608745575\n",
      "Val Loss: 0.7236372828483582, Accuracy: 0.6820724010467529\n",
      "Step: 16\n",
      "Training Loss: 0.7225381135940552, Accuracy: 0.6891927719116211\n",
      "Val Loss: 0.6997561454772949, Accuracy: 0.6903785467147827\n",
      "Step: 17\n",
      "Training Loss: 0.6982935070991516, Accuracy: 0.6967559456825256\n",
      "Val Loss: 0.6761828064918518, Accuracy: 0.6978101134300232\n",
      "Step: 18\n",
      "Training Loss: 0.6627486944198608, Accuracy: 0.7041112184524536\n",
      "Val Loss: 0.640494167804718, Accuracy: 0.7051737904548645\n",
      "Step: 19\n",
      "Training Loss: 0.6359639167785645, Accuracy: 0.7110818028450012\n",
      "Val Loss: 0.6144980192184448, Accuracy: 0.7120992541313171\n",
      "Step: 20\n",
      "Training Loss: 0.6137688755989075, Accuracy: 0.717700719833374\n",
      "Val Loss: 0.5915897488594055, Accuracy: 0.7186364531517029\n"
     ]
    }
   ],
   "source": [
    "modelkl = ModelKerasLayer()\n",
    "epochs=20\n",
    "loss = tf.keras.losses.SparseCategoricalCrossentropy()\n",
    "accuracy = tf.keras.metrics.SparseCategoricalAccuracy()\n",
    "optimizer = tf.keras.optimizers.legacy.RMSprop(learning_rate=0.001)\n",
    "\n",
    "for e in range(epochs):\n",
    "\n",
    "    with tf.GradientTape() as tape:\n",
    "        y_pred = modelkl(data_train)\n",
    "        loss_value = loss(label_train, y_pred)\n",
    "        # print(\"Step: {}, Initial Loss: {}\".format(optimizer.iterations.numpy(),\n",
    "        #                                   loss_value.numpy()))\n",
    "        \n",
    "    grads = tape.gradient(loss_value, modelkl.trainable_variables)\n",
    "\n",
    "    optimizer.apply_gradients(zip(grads, modelkl.trainable_variables))\n",
    "\n",
    "\n",
    "    print(\"Step: {}\".format(optimizer.iterations.numpy()))\n",
    "    print(\"Training Loss: {}, Accuracy: {}\".format(loss(label_train, modelkl(data_train)).numpy(), accuracy(label_train, modelkl(data_train)).numpy()))\n",
    "    print(\"Val Loss: {}, Accuracy: {}\".format(loss(label_test, modelkl(data_test)).numpy(), accuracy(label_test, modelkl(data_test)).numpy()))\n",
    "        \n",
    "    # print(\"Step: {}, Loss: {}\".format(optimizer.iterations.numpy(),\n",
    "    #                                       loss(label_train, model2(data_train)).numpy()))"
   ]
  },
  {
   "cell_type": "markdown",
   "id": "4bdff7bc-df6e-4446-8a77-ef94128d9faa",
   "metadata": {},
   "source": [
    "## Build a model using tf.Module"
   ]
  },
  {
   "cell_type": "code",
   "execution_count": 164,
   "id": "fca3c6d6-5f90-49fc-bed9-92b2f5f30779",
   "metadata": {},
   "outputs": [],
   "source": [
    "class SimpleModule(tf.Module):\n",
    "  def __init__(self, name=None):\n",
    "    super().__init__(name=name)\n",
    "    self.dense1 = tf.Variable(tf.random.normal([784, 128],stddev=0.1), name='dense1')\n",
    "    self.bias1 = tf.Variable(tf.zeros([128]), name='b1')\n",
    "    self.dense2 = tf.Variable(tf.random.normal([128,64],stddev=0.1), name='dense2')\n",
    "    self.bias2 = tf.Variable(tf.zeros([64]), name='b2')\n",
    "    self.dense3 = tf.Variable(tf.random.normal([64,10],stddev=0.1), name='dense3')\n",
    "    self.bias3 = tf.Variable(tf.zeros([10]), name='b3')\n",
    "    \n",
    "  def __call__(self, input):\n",
    "      \n",
    "    flat_input = layers.Flatten()(input)\n",
    "    output_d1 = tf.keras.activations.relu(tf.matmul(flat_input,self.dense1) + self.bias1)\n",
    "    output_d2 = tf.keras.activations.relu(tf.matmul(output_d1,self.dense2) + self.bias2)\n",
    "    output_d3 = tf.matmul(output_d2,self.dense3) + self.bias3\n",
    "    return tf.nn.softmax(output_d3)\n"
   ]
  },
  {
   "cell_type": "code",
   "execution_count": 165,
   "id": "0b18fe01-236c-464d-9694-7d4fcdc1f275",
   "metadata": {},
   "outputs": [
    {
     "name": "stdout",
     "output_type": "stream",
     "text": [
      "Step: 1\n",
      "Training Loss: 2.123445987701416, Accuracy: 0.29649999737739563\n",
      "Val Loss: 2.11830997467041, Accuracy: 0.29750001430511475\n",
      "Step: 2\n",
      "Training Loss: 1.9512200355529785, Accuracy: 0.3685307800769806\n",
      "Val Loss: 1.9438292980194092, Accuracy: 0.3748857080936432\n",
      "Step: 3\n",
      "Training Loss: 1.7751579284667969, Accuracy: 0.4346350133419037\n",
      "Val Loss: 1.7652899026870728, Accuracy: 0.4418904781341553\n",
      "Step: 4\n",
      "Training Loss: 1.5992164611816406, Accuracy: 0.48531851172447205\n",
      "Val Loss: 1.586988091468811, Accuracy: 0.4912142753601074\n",
      "Step: 5\n",
      "Training Loss: 1.4339470863342285, Accuracy: 0.5287264585494995\n",
      "Val Loss: 1.4181851148605347, Accuracy: 0.5342543125152588\n",
      "Step: 6\n",
      "Training Loss: 1.2878201007843018, Accuracy: 0.5631975531578064\n",
      "Val Loss: 1.269445538520813, Accuracy: 0.567559540271759\n",
      "Step: 7\n",
      "Training Loss: 1.1723593473434448, Accuracy: 0.590904176235199\n",
      "Val Loss: 1.1512410640716553, Accuracy: 0.5945183634757996\n",
      "Step: 8\n",
      "Training Loss: 1.0780192613601685, Accuracy: 0.6129836440086365\n",
      "Val Loss: 1.056062936782837, Accuracy: 0.6158999800682068\n",
      "Step: 9\n",
      "Training Loss: 0.9999446868896484, Accuracy: 0.6314387321472168\n",
      "Val Loss: 0.9779075980186462, Accuracy: 0.6338745951652527\n",
      "Step: 10\n",
      "Training Loss: 0.9308019280433655, Accuracy: 0.6469637751579285\n",
      "Val Loss: 0.9064841866493225, Accuracy: 0.6491000056266785\n"
     ]
    }
   ],
   "source": [
    "modelm = SimpleModule()\n",
    "epochs=10\n",
    "loss = tf.keras.losses.SparseCategoricalCrossentropy()\n",
    "accuracy = tf.keras.metrics.SparseCategoricalAccuracy()\n",
    "optimizer = tf.keras.optimizers.legacy.RMSprop(learning_rate=0.001)\n",
    "\n",
    "for e in range(epochs):\n",
    "\n",
    "    with tf.GradientTape() as tape:\n",
    "        y_pred = modelm(data_train)\n",
    "        loss_value = loss(label_train, y_pred)\n",
    "        # print(\"Step: {}, Initial Loss: {}\".format(optimizer.iterations.numpy(),\n",
    "        #                                   loss_value.numpy()))\n",
    "        \n",
    "    grads = tape.gradient(loss_value, modelm.trainable_variables)\n",
    "\n",
    "    optimizer.apply_gradients(zip(grads, modelm.trainable_variables))\n",
    "\n",
    "\n",
    "    print(\"Step: {}\".format(optimizer.iterations.numpy()))\n",
    "    print(\"Training Loss: {}, Accuracy: {}\".format(loss(label_train, modelm(data_train)).numpy(), accuracy(label_train, modelm(data_train)).numpy()))\n",
    "    print(\"Val Loss: {}, Accuracy: {}\".format(loss(label_test, modelm(data_test)).numpy(), accuracy(label_test, modelm(data_test)).numpy()))\n",
    "        \n",
    "    # print(\"Step: {}, Loss: {}\".format(optimizer.iterations.numpy(),\n",
    "    #                                       loss(label_train, model2(data_train)).numpy()))"
   ]
  },
  {
   "cell_type": "code",
   "execution_count": 279,
   "id": "57dd147c-a724-4d84-9240-f141d9f1267a",
   "metadata": {},
   "outputs": [
    {
     "data": {
      "text/plain": [
       "<tf.Tensor: shape=(), dtype=float32, numpy=1.2628644>"
      ]
     },
     "execution_count": 279,
     "metadata": {},
     "output_type": "execute_result"
    }
   ],
   "source": [
    "loss = tf.keras.losses.SparseCategoricalCrossentropy(from_logits=False)\n",
    "loss([1,2],[[0.1,0.2,0.7], [0.1,0.5,0.4]])"
   ]
  },
  {
   "cell_type": "code",
   "execution_count": 280,
   "id": "93433ab1-4187-47f6-8c63-1568c5f97df5",
   "metadata": {},
   "outputs": [
    {
     "data": {
      "text/plain": [
       "1.2628643221541276"
      ]
     },
     "execution_count": 280,
     "metadata": {},
     "output_type": "execute_result"
    }
   ],
   "source": [
    "-(np.log(0.2)+np.log(0.4))/2"
   ]
  },
  {
   "cell_type": "code",
   "execution_count": 169,
   "id": "dc316b9e-c78c-41bf-979a-afbc55352e7f",
   "metadata": {},
   "outputs": [],
   "source": [
    "import numpy as np"
   ]
  },
  {
   "cell_type": "code",
   "execution_count": 275,
   "id": "1aa3380f-3fd5-453c-a217-9d098b4b4aca",
   "metadata": {},
   "outputs": [
    {
     "data": {
      "text/plain": [
       "<tf.Tensor: shape=(), dtype=float32, numpy=0.55144465>"
      ]
     },
     "execution_count": 275,
     "metadata": {},
     "output_type": "execute_result"
    }
   ],
   "source": [
    "loss([1],[[1.0,2.0,1.0]])"
   ]
  },
  {
   "cell_type": "code",
   "execution_count": 230,
   "id": "fd3f3555-bb7f-440a-bf65-f910b803f090",
   "metadata": {},
   "outputs": [
    {
     "data": {
      "text/plain": [
       "1.2237754556221159"
      ]
     },
     "execution_count": 230,
     "metadata": {},
     "output_type": "execute_result"
    }
   ],
   "source": [
    "-np.log(0.29411764)"
   ]
  },
  {
   "cell_type": "code",
   "execution_count": 183,
   "id": "8bcd1180-6b7d-4368-89f9-cc7133ce45a6",
   "metadata": {},
   "outputs": [
    {
     "data": {
      "text/plain": [
       "<tf.Tensor: shape=(), dtype=float32, numpy=1.1512924>"
      ]
     },
     "execution_count": 183,
     "metadata": {},
     "output_type": "execute_result"
    }
   ],
   "source": [
    "loss([1,2],[[0.2,0.4,1.4], [0.1,0.5,0.4]])"
   ]
  },
  {
   "cell_type": "code",
   "execution_count": 186,
   "id": "acdf2d57-b247-4767-a7b0-24d08c27922a",
   "metadata": {},
   "outputs": [
    {
     "data": {
      "text/plain": [
       "1.2628643221541276"
      ]
     },
     "execution_count": 186,
     "metadata": {},
     "output_type": "execute_result"
    }
   ],
   "source": [
    "-(np.log(0.4/2)+np.log(0.4))/2"
   ]
  },
  {
   "cell_type": "code",
   "execution_count": 196,
   "id": "f75ada36-5c6b-4b4d-836f-6a2b47c9247b",
   "metadata": {},
   "outputs": [
    {
     "data": {
      "text/plain": [
       "1.4350845252893225"
      ]
     },
     "execution_count": 196,
     "metadata": {},
     "output_type": "execute_result"
    }
   ],
   "source": [
    "-np.log(0.5/(0.2+1.4+0.5))"
   ]
  },
  {
   "cell_type": "code",
   "execution_count": 232,
   "id": "01919248-914d-40d7-8da4-6214d2fdeba2",
   "metadata": {},
   "outputs": [
    {
     "data": {
      "text/plain": [
       "0.3125"
      ]
     },
     "execution_count": 232,
     "metadata": {},
     "output_type": "execute_result"
    }
   ],
   "source": [
    "0.5/(0.2+1.4)"
   ]
  },
  {
   "cell_type": "code",
   "execution_count": 276,
   "id": "1c14600f-6990-4abd-9aa9-977dd84cf968",
   "metadata": {},
   "outputs": [
    {
     "data": {
      "text/plain": [
       "-0.6931471805599453"
      ]
     },
     "execution_count": 276,
     "metadata": {},
     "output_type": "execute_result"
    }
   ],
   "source": [
    "-np.log(2)"
   ]
  },
  {
   "cell_type": "code",
   "execution_count": 284,
   "id": "d998a382-9bb6-4597-85c9-4123353b5fec",
   "metadata": {},
   "outputs": [],
   "source": [
    "a = tf.reshape(tf.constant(range(12)),[2,2,3])"
   ]
  },
  {
   "cell_type": "code",
   "execution_count": 288,
   "id": "d57427e9-5aa2-49dc-93c0-7f0e40177dd3",
   "metadata": {},
   "outputs": [
    {
     "data": {
      "text/plain": [
       "<tf.Tensor: shape=(2, 1, 3), dtype=int32, numpy=\n",
       "array([[[ 3,  4,  5]],\n",
       "\n",
       "       [[ 9, 10, 11]]], dtype=int32)>"
      ]
     },
     "execution_count": 288,
     "metadata": {},
     "output_type": "execute_result"
    }
   ],
   "source": [
    "a[:, 1, None]"
   ]
  },
  {
   "cell_type": "code",
   "execution_count": 289,
   "id": "6fa74ce4-3bd7-421d-bddf-edfcae728ac4",
   "metadata": {},
   "outputs": [
    {
     "data": {
      "text/plain": [
       "<tf.Tensor: shape=(2, 3), dtype=int32, numpy=\n",
       "array([[ 3,  4,  5],\n",
       "       [ 9, 10, 11]], dtype=int32)>"
      ]
     },
     "execution_count": 289,
     "metadata": {},
     "output_type": "execute_result"
    }
   ],
   "source": [
    "a[:, 1, :]"
   ]
  },
  {
   "cell_type": "code",
   "execution_count": 290,
   "id": "e410733b-41da-42b7-a606-9c796069ade6",
   "metadata": {},
   "outputs": [
    {
     "data": {
      "text/plain": [
       "<tf.Tensor: shape=(2, 3), dtype=int32, numpy=\n",
       "array([[ 3,  4,  5],\n",
       "       [ 9, 10, 11]], dtype=int32)>"
      ]
     },
     "execution_count": 290,
     "metadata": {},
     "output_type": "execute_result"
    }
   ],
   "source": [
    "a[:, 1]"
   ]
  },
  {
   "cell_type": "code",
   "execution_count": 328,
   "id": "0eb943cf-8ae3-4209-ad4a-c88c494f71a7",
   "metadata": {},
   "outputs": [
    {
     "data": {
      "text/plain": [
       "<tf.Tensor: shape=(3, 1, 2), dtype=int32, numpy=\n",
       "array([[[ 2,  3]],\n",
       "\n",
       "       [[ 6,  7]],\n",
       "\n",
       "       [[10, 11]]], dtype=int32)>"
      ]
     },
     "execution_count": 328,
     "metadata": {},
     "output_type": "execute_result"
    }
   ],
   "source": [
    "b = tf.reshape(tf.constant(range(12)),[3,2,2])\n",
    "b[:, 1, None]"
   ]
  },
  {
   "cell_type": "code",
   "execution_count": 330,
   "id": "89822027-f8b9-4e93-be53-0fe556145e3f",
   "metadata": {},
   "outputs": [
    {
     "data": {
      "text/plain": [
       "<tf.Tensor: shape=(3, 2), dtype=int32, numpy=\n",
       "array([[0, 1],\n",
       "       [4, 5],\n",
       "       [8, 9]], dtype=int32)>"
      ]
     },
     "execution_count": 330,
     "metadata": {},
     "output_type": "execute_result"
    }
   ],
   "source": [
    "b[:, 0]"
   ]
  },
  {
   "cell_type": "code",
   "execution_count": 295,
   "id": "d4b33bc8-26c5-475a-8951-f4dd547c6b4e",
   "metadata": {},
   "outputs": [
    {
     "data": {
      "text/plain": [
       "[<tf.Tensor: shape=(3,), dtype=int32, numpy=array([10, 10, 10], dtype=int32)>]"
      ]
     },
     "execution_count": 295,
     "metadata": {},
     "output_type": "execute_result"
    }
   ],
   "source": [
    "[tf.ones(3, tf.int32) * 10]"
   ]
  },
  {
   "cell_type": "code",
   "execution_count": 296,
   "id": "9bcba379-5bae-4c4e-95d5-e18a05774bb9",
   "metadata": {},
   "outputs": [
    {
     "data": {
      "text/plain": [
       "<tf.Tensor: shape=(10, 10), dtype=int32, numpy=\n",
       "array([[ 0, 10, 20, 30, 40, 50, 60, 70, 80, 90],\n",
       "       [ 1, 11, 21, 31, 41, 51, 61, 71, 81, 91],\n",
       "       [ 2, 12, 22, 32, 42, 52, 62, 72, 82, 92],\n",
       "       [ 3, 13, 23, 33, 43, 53, 63, 73, 83, 93],\n",
       "       [ 4, 14, 24, 34, 44, 54, 64, 74, 84, 94],\n",
       "       [ 5, 15, 25, 35, 45, 55, 65, 75, 85, 95],\n",
       "       [ 6, 16, 26, 36, 46, 56, 66, 76, 86, 96],\n",
       "       [ 7, 17, 27, 37, 47, 57, 67, 77, 87, 97],\n",
       "       [ 8, 18, 28, 38, 48, 58, 68, 78, 88, 98],\n",
       "       [ 9, 19, 29, 39, 49, 59, 69, 79, 89, 99]], dtype=int32)>"
      ]
     },
     "execution_count": 296,
     "metadata": {},
     "output_type": "execute_result"
    }
   ],
   "source": [
    "output = tf.Variable([[i for i in range(10)]])\n",
    "output = tf.broadcast_to(output, [10, 10])\n",
    "output*=10\n",
    "output+= tf.reshape(tf.Variable([[i for i in range(10)]]),[10,1])\n",
    "output"
   ]
  },
  {
   "cell_type": "code",
   "execution_count": 297,
   "id": "b8e01b50-d336-4cb8-a21a-b10aa1b22a5a",
   "metadata": {},
   "outputs": [
    {
     "data": {
      "text/plain": [
       "<tf.Variable 'Variable:0' shape=(1, 10) dtype=int32, numpy=array([[0, 1, 2, 3, 4, 5, 6, 7, 8, 9]], dtype=int32)>"
      ]
     },
     "execution_count": 297,
     "metadata": {},
     "output_type": "execute_result"
    }
   ],
   "source": [
    "c = tf.Variable([[i for i in range(10)]])\n",
    "c"
   ]
  },
  {
   "cell_type": "code",
   "execution_count": 298,
   "id": "6241addc-3e87-414d-b7f3-24713f83d663",
   "metadata": {},
   "outputs": [
    {
     "data": {
      "text/plain": [
       "<tf.Tensor: shape=(10, 10), dtype=int32, numpy=\n",
       "array([[  0,  11,  22,  33,  44,  55,  66,  77,  88,  99],\n",
       "       [  1,  12,  23,  34,  45,  56,  67,  78,  89, 100],\n",
       "       [  2,  13,  24,  35,  46,  57,  68,  79,  90, 101],\n",
       "       [  3,  14,  25,  36,  47,  58,  69,  80,  91, 102],\n",
       "       [  4,  15,  26,  37,  48,  59,  70,  81,  92, 103],\n",
       "       [  5,  16,  27,  38,  49,  60,  71,  82,  93, 104],\n",
       "       [  6,  17,  28,  39,  50,  61,  72,  83,  94, 105],\n",
       "       [  7,  18,  29,  40,  51,  62,  73,  84,  95, 106],\n",
       "       [  8,  19,  30,  41,  52,  63,  74,  85,  96, 107],\n",
       "       [  9,  20,  31,  42,  53,  64,  75,  86,  97, 108]], dtype=int32)>"
      ]
     },
     "execution_count": 298,
     "metadata": {},
     "output_type": "execute_result"
    }
   ],
   "source": [
    "output+c"
   ]
  },
  {
   "cell_type": "code",
   "execution_count": 309,
   "id": "11d1dbbf-9bb7-42fe-a6d6-cccdad84d1b2",
   "metadata": {},
   "outputs": [],
   "source": [
    "a = tf.constant([1,2,3])\n",
    "b = []\n",
    "b.append(a)"
   ]
  },
  {
   "cell_type": "code",
   "execution_count": 310,
   "id": "7c6b646b-55f5-48ba-b287-08431b8ff9b5",
   "metadata": {},
   "outputs": [],
   "source": [
    "b.append(a+3)"
   ]
  },
  {
   "cell_type": "code",
   "execution_count": 311,
   "id": "d4408f6c-95f2-41d3-9978-484fd832bec8",
   "metadata": {},
   "outputs": [
    {
     "data": {
      "text/plain": [
       "[<tf.Tensor: shape=(3,), dtype=int32, numpy=array([1, 2, 3], dtype=int32)>,\n",
       " <tf.Tensor: shape=(3,), dtype=int32, numpy=array([4, 5, 6], dtype=int32)>]"
      ]
     },
     "execution_count": 311,
     "metadata": {},
     "output_type": "execute_result"
    }
   ],
   "source": [
    "b"
   ]
  },
  {
   "cell_type": "code",
   "execution_count": 303,
   "id": "02951d9c-e8f2-4b50-8187-bdad86a27e71",
   "metadata": {},
   "outputs": [
    {
     "data": {
      "text/plain": [
       "list"
      ]
     },
     "execution_count": 303,
     "metadata": {},
     "output_type": "execute_result"
    }
   ],
   "source": [
    "type(b)"
   ]
  },
  {
   "cell_type": "code",
   "execution_count": 312,
   "id": "4a79f6b4-f7ce-4231-a187-23431b1d9dd3",
   "metadata": {},
   "outputs": [
    {
     "data": {
      "text/plain": [
       "<tf.Tensor: shape=(2, 3), dtype=int32, numpy=\n",
       "array([[1, 2, 3],\n",
       "       [4, 5, 6]], dtype=int32)>"
      ]
     },
     "execution_count": 312,
     "metadata": {},
     "output_type": "execute_result"
    }
   ],
   "source": [
    "c = tf.stack(b)\n",
    "c"
   ]
  },
  {
   "cell_type": "code",
   "execution_count": 315,
   "id": "dc07efe4-00c5-4b61-aaff-5960fe0b6805",
   "metadata": {},
   "outputs": [
    {
     "data": {
      "text/plain": [
       "<tf.Tensor: shape=(3,), dtype=int32, numpy=array([4, 5, 6], dtype=int32)>"
      ]
     },
     "execution_count": 315,
     "metadata": {},
     "output_type": "execute_result"
    }
   ],
   "source": [
    "c[-1,:]"
   ]
  },
  {
   "cell_type": "code",
   "execution_count": 321,
   "id": "a8bd4167-780d-4fd5-9047-4f024202446d",
   "metadata": {},
   "outputs": [
    {
     "data": {
      "text/plain": [
       "<tf.Tensor: shape=(3, 5), dtype=float32, numpy=\n",
       "array([[0., 1., 0., 0., 0.],\n",
       "       [0., 1., 0., 0., 0.],\n",
       "       [0., 1., 0., 0., 0.]], dtype=float32)>"
      ]
     },
     "execution_count": 321,
     "metadata": {},
     "output_type": "execute_result"
    }
   ],
   "source": [
    "tf.one_hot(tf.fill([3],1),5)"
   ]
  },
  {
   "cell_type": "code",
   "execution_count": 320,
   "id": "2da8f594-2587-411d-93b9-61997eb20c53",
   "metadata": {},
   "outputs": [
    {
     "data": {
      "text/plain": [
       "<tf.Tensor: shape=(3,), dtype=int32, numpy=array([1, 1, 1], dtype=int32)>"
      ]
     },
     "execution_count": 320,
     "metadata": {},
     "output_type": "execute_result"
    }
   ],
   "source": [
    "tf.fill([3],1)"
   ]
  },
  {
   "cell_type": "code",
   "execution_count": 335,
   "id": "eed97384-2660-4570-a1b5-f83135f72fdc",
   "metadata": {},
   "outputs": [],
   "source": [
    "d = tf.reshape(tf.constant(range(6)),[3,2])\n",
    "e =[d,d,d,d]"
   ]
  },
  {
   "cell_type": "code",
   "execution_count": 336,
   "id": "f8f638d4-41ff-483d-90a3-416664726206",
   "metadata": {},
   "outputs": [
    {
     "data": {
      "text/plain": [
       "<tf.Tensor: shape=(4, 3, 2), dtype=int32, numpy=\n",
       "array([[[0, 1],\n",
       "        [2, 3],\n",
       "        [4, 5]],\n",
       "\n",
       "       [[0, 1],\n",
       "        [2, 3],\n",
       "        [4, 5]],\n",
       "\n",
       "       [[0, 1],\n",
       "        [2, 3],\n",
       "        [4, 5]],\n",
       "\n",
       "       [[0, 1],\n",
       "        [2, 3],\n",
       "        [4, 5]]], dtype=int32)>"
      ]
     },
     "execution_count": 336,
     "metadata": {},
     "output_type": "execute_result"
    }
   ],
   "source": [
    "tf.stack(e)"
   ]
  },
  {
   "cell_type": "code",
   "execution_count": 338,
   "id": "56826d45-2e32-47b9-96f8-3c1364bb869c",
   "metadata": {},
   "outputs": [
    {
     "data": {
      "text/plain": [
       "<tf.Tensor: shape=(3, 4, 2), dtype=int32, numpy=\n",
       "array([[[0, 1],\n",
       "        [0, 1],\n",
       "        [0, 1],\n",
       "        [0, 1]],\n",
       "\n",
       "       [[2, 3],\n",
       "        [2, 3],\n",
       "        [2, 3],\n",
       "        [2, 3]],\n",
       "\n",
       "       [[4, 5],\n",
       "        [4, 5],\n",
       "        [4, 5],\n",
       "        [4, 5]]], dtype=int32)>"
      ]
     },
     "execution_count": 338,
     "metadata": {},
     "output_type": "execute_result"
    }
   ],
   "source": [
    "kk = tf.stack(e,axis=1)\n",
    "kk"
   ]
  },
  {
   "cell_type": "code",
   "execution_count": 345,
   "id": "1e20d553-b7bf-430d-acff-ee7f0a53a96c",
   "metadata": {},
   "outputs": [
    {
     "data": {
      "text/plain": [
       "<tf.Tensor: shape=(3, 2), dtype=int32, numpy=\n",
       "array([[0, 1],\n",
       "       [2, 3],\n",
       "       [4, 5]], dtype=int32)>"
      ]
     },
     "execution_count": 345,
     "metadata": {},
     "output_type": "execute_result"
    }
   ],
   "source": [
    "kk[:,-1,:]"
   ]
  },
  {
   "cell_type": "code",
   "execution_count": null,
   "id": "f14e85aa-9d77-4b7d-90e6-757379080fb3",
   "metadata": {},
   "outputs": [],
   "source": [
    "tf.one_hot(tf.fill([batch_size], self.out_voc.bos_ix), len(self.out_voc)) + 1e-30)"
   ]
  },
  {
   "cell_type": "code",
   "execution_count": 346,
   "id": "6876664f-1d37-4967-89ba-b7fae1a173f8",
   "metadata": {},
   "outputs": [
    {
     "data": {
      "text/plain": [
       "<tf.Tensor: shape=(3,), dtype=int32, numpy=array([1, 1, 1], dtype=int32)>"
      ]
     },
     "execution_count": 346,
     "metadata": {},
     "output_type": "execute_result"
    }
   ],
   "source": [
    "tf.fill([3], 1)"
   ]
  },
  {
   "cell_type": "code",
   "execution_count": 350,
   "id": "95599c22-8da4-4ac5-81fe-3ad566793990",
   "metadata": {},
   "outputs": [
    {
     "data": {
      "text/plain": [
       "<tf.Tensor: shape=(3, 5), dtype=float32, numpy=\n",
       "array([[1.e-30, 1.e+00, 1.e-30, 1.e-30, 1.e-30],\n",
       "       [1.e-30, 1.e+00, 1.e-30, 1.e-30, 1.e-30],\n",
       "       [1.e-30, 1.e+00, 1.e-30, 1.e-30, 1.e-30]], dtype=float32)>"
      ]
     },
     "execution_count": 350,
     "metadata": {},
     "output_type": "execute_result"
    }
   ],
   "source": [
    "tf.one_hot(tf.fill([3], 1), 5)+ 1e-30"
   ]
  },
  {
   "cell_type": "code",
   "execution_count": 354,
   "id": "3028b291-83ab-4771-93cc-d9439ac2ebd6",
   "metadata": {},
   "outputs": [
    {
     "data": {
      "text/plain": [
       "<tf.Tensor: shape=(3, 5), dtype=float32, numpy=\n",
       "array([[-69.07755,   0.     , -69.07755, -69.07755, -69.07755],\n",
       "       [-69.07755,   0.     , -69.07755, -69.07755, -69.07755],\n",
       "       [-69.07755,   0.     , -69.07755, -69.07755, -69.07755]],\n",
       "      dtype=float32)>"
      ]
     },
     "execution_count": 354,
     "metadata": {},
     "output_type": "execute_result"
    }
   ],
   "source": [
    "ee = tf.math.log(tf.one_hot(tf.fill([3], 1), 5)+ 1e-30)\n",
    "ee"
   ]
  },
  {
   "cell_type": "code",
   "execution_count": 352,
   "id": "5d42820e-7830-4ca3-864b-65a4f86131e0",
   "metadata": {},
   "outputs": [
    {
     "data": {
      "text/plain": [
       "<tf.Tensor: shape=(3,), dtype=int32, numpy=array([1, 1, 1], dtype=int32)>"
      ]
     },
     "execution_count": 352,
     "metadata": {},
     "output_type": "execute_result"
    }
   ],
   "source": [
    "tf.argmax(tf.math.log(tf.one_hot(tf.fill([3], 1), 5)+ 1e-30), axis=-1, output_type=tf.int32)"
   ]
  },
  {
   "cell_type": "code",
   "execution_count": 355,
   "id": "a235f178-89b2-408d-a9fe-0336d4a518fe",
   "metadata": {},
   "outputs": [
    {
     "data": {
      "text/plain": [
       "<tf.Tensor: shape=(3, 5), dtype=float32, numpy=\n",
       "array([[9.999999e-31, 1.000000e+00, 9.999999e-31, 9.999999e-31,\n",
       "        9.999999e-31],\n",
       "       [9.999999e-31, 1.000000e+00, 9.999999e-31, 9.999999e-31,\n",
       "        9.999999e-31],\n",
       "       [9.999999e-31, 1.000000e+00, 1.000000e-30, 1.000000e-30,\n",
       "        1.000000e-30]], dtype=float32)>"
      ]
     },
     "execution_count": 355,
     "metadata": {},
     "output_type": "execute_result"
    }
   ],
   "source": [
    "tf.nn.softmax(ee)"
   ]
  },
  {
   "cell_type": "code",
   "execution_count": 359,
   "id": "76e70d72-e1b9-4e1a-bf31-6c5ae9608b4f",
   "metadata": {},
   "outputs": [
    {
     "data": {
      "text/plain": [
       "True"
      ]
     },
     "execution_count": 359,
     "metadata": {},
     "output_type": "execute_result"
    }
   ],
   "source": [
    "tf.nn.softmax(ee).numpy()[0,1] == 1"
   ]
  },
  {
   "cell_type": "code",
   "execution_count": 360,
   "id": "0785dfd5-0b46-4604-88e1-38640b5b9f3f",
   "metadata": {},
   "outputs": [],
   "source": [
    "w1 = tf.Variable(tf.random.normal((3, 2)), name='w')\n",
    "b1 = tf.Variable(tf.zeros(2, dtype=tf.float32), name='b')\n",
    "x = [[1., 2., 3.]]\n",
    "\n",
    "with tf.GradientTape(persistent=True) as tape:\n",
    "  y = x @ w1 + b1\n",
    "  loss = tf.reduce_mean(y**2)"
   ]
  },
  {
   "cell_type": "code",
   "execution_count": 362,
   "id": "93ea7b81-af68-4703-a62b-0b2bef7b8c0c",
   "metadata": {},
   "outputs": [],
   "source": [
    "[dl_dw, dl_db] = tape.gradient(loss, [w1, b1])"
   ]
  },
  {
   "cell_type": "code",
   "execution_count": 363,
   "id": "f08ec627-b49a-4edc-8fc3-072e8d4c71e8",
   "metadata": {},
   "outputs": [
    {
     "data": {
      "text/plain": [
       "<tf.Tensor: shape=(2,), dtype=float32, numpy=array([ 3.9153435, -4.8815207], dtype=float32)>"
      ]
     },
     "execution_count": 363,
     "metadata": {},
     "output_type": "execute_result"
    }
   ],
   "source": [
    "my_vars = {\n",
    "    'w': w1,\n",
    "    'b': b1\n",
    "}\n",
    "\n",
    "grad = tape.gradient(loss, my_vars)\n",
    "grad['b']"
   ]
  },
  {
   "cell_type": "code",
   "execution_count": 364,
   "id": "b5766428-d6a3-4bfd-94f5-5e3e73c27527",
   "metadata": {},
   "outputs": [
    {
     "data": {
      "text/plain": [
       "<tf.Tensor: shape=(1, 2), dtype=float32, numpy=array([[0., 0.]], dtype=float32)>"
      ]
     },
     "execution_count": 364,
     "metadata": {},
     "output_type": "execute_result"
    }
   ],
   "source": [
    "tf.zeros([1,2],dtype=tf.float32)"
   ]
  },
  {
   "cell_type": "code",
   "execution_count": null,
   "id": "6695381d-ca38-4839-b31d-fc08011191b5",
   "metadata": {},
   "outputs": [],
   "source": [
    "linear_enc = tf.matmul(enc,self.w_enc) # [batch,ninp,hidden_size]\n",
    "linear_dec = tf.reshape(tf.matmul(dec,self.w_dec),[dec.shape[0], 1, self.hid_size]) # [batch,1,hidden_size]\n",
    "\n",
    "# [batch,ninp]\n",
    "logits = tf.reshape(tf.matmul(self.activ(linear_enc+linear_dec), self.w_out),[enc.shape[0],enc.shape[1]])"
   ]
  },
  {
   "cell_type": "code",
   "execution_count": 390,
   "id": "5f5c4332-f780-4f56-ad4a-4e23f48dc06d",
   "metadata": {},
   "outputs": [
    {
     "data": {
      "text/plain": [
       "<tf.Tensor: shape=(3, 1, 3), dtype=int32, numpy=\n",
       "array([[[1, 2, 3]],\n",
       "\n",
       "       [[1, 2, 3]],\n",
       "\n",
       "       [[1, 2, 3]]], dtype=int32)>"
      ]
     },
     "execution_count": 390,
     "metadata": {},
     "output_type": "execute_result"
    }
   ],
   "source": [
    "c = tf.reshape(tf.constant([[1,2,3]]*3),[3,1,3])\n",
    "c"
   ]
  },
  {
   "cell_type": "code",
   "execution_count": 374,
   "id": "576b9304-cfeb-4afd-b1b7-848e23e015e5",
   "metadata": {},
   "outputs": [
    {
     "data": {
      "text/plain": [
       "<tf.Tensor: shape=(3, 2, 3), dtype=int32, numpy=\n",
       "array([[[ 0,  1,  2],\n",
       "        [ 3,  4,  5]],\n",
       "\n",
       "       [[ 6,  7,  8],\n",
       "        [ 9, 10, 11]],\n",
       "\n",
       "       [[12, 13, 14],\n",
       "        [15, 16, 17]]], dtype=int32)>"
      ]
     },
     "execution_count": 374,
     "metadata": {},
     "output_type": "execute_result"
    }
   ],
   "source": [
    "d = tf.reshape(tf.constant(range(18)),[3,2,3])\n",
    "d"
   ]
  },
  {
   "cell_type": "code",
   "execution_count": 375,
   "id": "8baad991-0d0b-4f76-bf6f-39ac18a57f72",
   "metadata": {},
   "outputs": [
    {
     "data": {
      "text/plain": [
       "<tf.Tensor: shape=(3, 2, 3), dtype=int32, numpy=\n",
       "array([[[ 1,  3,  5],\n",
       "        [ 4,  6,  8]],\n",
       "\n",
       "       [[ 7,  9, 11],\n",
       "        [10, 12, 14]],\n",
       "\n",
       "       [[13, 15, 17],\n",
       "        [16, 18, 20]]], dtype=int32)>"
      ]
     },
     "execution_count": 375,
     "metadata": {},
     "output_type": "execute_result"
    }
   ],
   "source": [
    "c+d"
   ]
  },
  {
   "cell_type": "code",
   "execution_count": 380,
   "id": "6242568c-76fe-42df-aa01-c94c1be26e47",
   "metadata": {},
   "outputs": [
    {
     "data": {
      "text/plain": [
       "<tf.Tensor: shape=(3, 3), dtype=int32, numpy=\n",
       "array([[ 1,  3,  5],\n",
       "       [ 7,  9, 11],\n",
       "       [13, 15, 17]], dtype=int32)>"
      ]
     },
     "execution_count": 380,
     "metadata": {},
     "output_type": "execute_result"
    }
   ],
   "source": [
    "(c+d)[:,0,:]"
   ]
  },
  {
   "cell_type": "code",
   "execution_count": 382,
   "id": "07c5ad7f-254d-4795-a6e6-c3ea35af4861",
   "metadata": {},
   "outputs": [
    {
     "data": {
      "text/plain": [
       "<tf.Tensor: shape=(3, 3), dtype=int32, numpy=\n",
       "array([[ 4,  6,  8],\n",
       "       [10, 12, 14],\n",
       "       [16, 18, 20]], dtype=int32)>"
      ]
     },
     "execution_count": 382,
     "metadata": {},
     "output_type": "execute_result"
    }
   ],
   "source": [
    "(c+d)[:,1,:]"
   ]
  },
  {
   "cell_type": "code",
   "execution_count": 391,
   "id": "2629719b-ebd4-4866-b6b3-f908462c1963",
   "metadata": {},
   "outputs": [],
   "source": [
    "t1 = [[1, 2, 3], [4, 5, 6]] # 2*3\n",
    "t2 = [[7, 8, 9], [10, 11, 12]] # 2*3"
   ]
  },
  {
   "cell_type": "code",
   "execution_count": 393,
   "id": "1c69d21a-0168-46ab-a4f6-bad84f1a6300",
   "metadata": {},
   "outputs": [
    {
     "data": {
      "text/plain": [
       "<tf.Tensor: shape=(2, 6), dtype=int32, numpy=\n",
       "array([[ 1,  2,  3,  7,  8,  9],\n",
       "       [ 4,  5,  6, 10, 11, 12]], dtype=int32)>"
      ]
     },
     "execution_count": 393,
     "metadata": {},
     "output_type": "execute_result"
    }
   ],
   "source": [
    "tf.concat([t1, t2], -1)"
   ]
  },
  {
   "cell_type": "code",
   "execution_count": 435,
   "id": "7041e623-67be-4d6f-9b00-3445dc5f9a3f",
   "metadata": {},
   "outputs": [],
   "source": [
    "gru = tf.keras.layers.GRUCell(5, name='enc_gru')"
   ]
  },
  {
   "cell_type": "code",
   "execution_count": 440,
   "id": "1ad4ec7f-23a3-40dd-9574-225752515c95",
   "metadata": {},
   "outputs": [],
   "source": [
    "input = tf.Variable(tf.ones([3,10]))\n",
    "state = tf.Variable(tf.zeros([3,5]))"
   ]
  },
  {
   "cell_type": "code",
   "execution_count": 443,
   "id": "d434d471-bb80-4dd1-ab17-68be15612a88",
   "metadata": {},
   "outputs": [],
   "source": [
    "output, state_ = gru(input, state)"
   ]
  },
  {
   "cell_type": "code",
   "execution_count": 444,
   "id": "8aead95c-61ee-4aa1-9a7b-d8c19b39b426",
   "metadata": {},
   "outputs": [
    {
     "data": {
      "text/plain": [
       "(TensorShape([3, 5]), TensorShape([3, 5]))"
      ]
     },
     "execution_count": 444,
     "metadata": {},
     "output_type": "execute_result"
    }
   ],
   "source": [
    "output.shape, state_.shape"
   ]
  },
  {
   "cell_type": "code",
   "execution_count": 447,
   "id": "51164194-6f54-4e92-8d59-5d63087a30b1",
   "metadata": {},
   "outputs": [
    {
     "data": {
      "text/plain": [
       "<tf.Tensor: shape=(5,), dtype=float32, numpy=\n",
       "array([-0.08688324, -0.38587573,  0.3107743 , -0.3868887 ,  0.18288043],\n",
       "      dtype=float32)>"
      ]
     },
     "execution_count": 447,
     "metadata": {},
     "output_type": "execute_result"
    }
   ],
   "source": [
    "output[0,:]"
   ]
  },
  {
   "cell_type": "code",
   "execution_count": 448,
   "id": "2fe814fc-033c-4fd1-a1e8-c66c0528e896",
   "metadata": {},
   "outputs": [
    {
     "data": {
      "text/plain": [
       "<tf.Tensor: shape=(5,), dtype=float32, numpy=\n",
       "array([-0.08688324, -0.38587573,  0.3107743 , -0.3868887 ,  0.18288043],\n",
       "      dtype=float32)>"
      ]
     },
     "execution_count": 448,
     "metadata": {},
     "output_type": "execute_result"
    }
   ],
   "source": [
    "state_[0,:]"
   ]
  },
  {
   "cell_type": "code",
   "execution_count": 413,
   "id": "61eb57a9-1254-498f-bcc9-95316ea8aaf7",
   "metadata": {},
   "outputs": [],
   "source": [
    "o1,s1 = gru(input, state_)"
   ]
  },
  {
   "cell_type": "code",
   "execution_count": 414,
   "id": "7be2ca17-d32b-458c-9827-721eb42c013c",
   "metadata": {},
   "outputs": [
    {
     "data": {
      "text/plain": [
       "<tf.Tensor: shape=(3, 5), dtype=float32, numpy=\n",
       "array([[ 0.35364175,  0.41628957,  0.49529314, -0.0158013 ,  0.09351439],\n",
       "       [ 0.35364175,  0.41628957,  0.49529314, -0.0158013 ,  0.09351439],\n",
       "       [ 0.35364175,  0.41628957,  0.49529314, -0.0158013 ,  0.09351438]],\n",
       "      dtype=float32)>"
      ]
     },
     "execution_count": 414,
     "metadata": {},
     "output_type": "execute_result"
    }
   ],
   "source": [
    "o1"
   ]
  },
  {
   "cell_type": "code",
   "execution_count": 415,
   "id": "f3296771-19ef-4033-9918-4e1f90cbc5f7",
   "metadata": {},
   "outputs": [
    {
     "data": {
      "text/plain": [
       "<tf.Tensor: shape=(3, 5), dtype=float32, numpy=\n",
       "array([[ 0.35364175,  0.41628957,  0.49529314, -0.0158013 ,  0.09351439],\n",
       "       [ 0.35364175,  0.41628957,  0.49529314, -0.0158013 ,  0.09351439],\n",
       "       [ 0.35364175,  0.41628957,  0.49529314, -0.0158013 ,  0.09351438]],\n",
       "      dtype=float32)>"
      ]
     },
     "execution_count": 415,
     "metadata": {},
     "output_type": "execute_result"
    }
   ],
   "source": [
    "s1"
   ]
  },
  {
   "cell_type": "code",
   "execution_count": 442,
   "id": "ad825d31-3e55-435f-bbc8-773a28ddce9f",
   "metadata": {},
   "outputs": [
    {
     "ename": "InvalidArgumentError",
     "evalue": "Exception encountered when calling layer 'enc_gru' (type GRUCell).\n\n{{function_node __wrapped__MatMul_device_/job:localhost/replica:0/task:0/device:CPU:0}} Matrix size-incompatible: In[0]: [3,5], In[1]: [10,15] [Op:MatMul] name: \n\nCall arguments received by layer 'enc_gru' (type GRUCell):\n  • inputs=tf.Tensor(shape=(3, 5), dtype=float32)\n  • states=<tf.Variable 'Variable:0' shape=(3, 5) dtype=float32, numpy=\narray([[0., 0., 0., 0., 0.],\n       [0., 0., 0., 0., 0.],\n       [0., 0., 0., 0., 0.]], dtype=float32)>\n  • training=None",
     "output_type": "error",
     "traceback": [
      "\u001b[0;31m---------------------------------------------------------------------------\u001b[0m",
      "\u001b[0;31mInvalidArgumentError\u001b[0m                      Traceback (most recent call last)",
      "Cell \u001b[0;32mIn[442], line 1\u001b[0m\n\u001b[0;32m----> 1\u001b[0m output, state_ \u001b[38;5;241m=\u001b[39m \u001b[43mgru\u001b[49m\u001b[43m(\u001b[49m\u001b[43moutput\u001b[49m\u001b[43m,\u001b[49m\u001b[43m \u001b[49m\u001b[43mstate\u001b[49m\u001b[43m)\u001b[49m\n",
      "File \u001b[0;32m~/.pyenv/versions/3.10.6/envs/basicenv/lib/python3.10/site-packages/keras/src/utils/traceback_utils.py:70\u001b[0m, in \u001b[0;36mfilter_traceback.<locals>.error_handler\u001b[0;34m(*args, **kwargs)\u001b[0m\n\u001b[1;32m     67\u001b[0m     filtered_tb \u001b[38;5;241m=\u001b[39m _process_traceback_frames(e\u001b[38;5;241m.\u001b[39m__traceback__)\n\u001b[1;32m     68\u001b[0m     \u001b[38;5;66;03m# To get the full stack trace, call:\u001b[39;00m\n\u001b[1;32m     69\u001b[0m     \u001b[38;5;66;03m# `tf.debugging.disable_traceback_filtering()`\u001b[39;00m\n\u001b[0;32m---> 70\u001b[0m     \u001b[38;5;28;01mraise\u001b[39;00m e\u001b[38;5;241m.\u001b[39mwith_traceback(filtered_tb) \u001b[38;5;28;01mfrom\u001b[39;00m \u001b[38;5;28;01mNone\u001b[39;00m\n\u001b[1;32m     71\u001b[0m \u001b[38;5;28;01mfinally\u001b[39;00m:\n\u001b[1;32m     72\u001b[0m     \u001b[38;5;28;01mdel\u001b[39;00m filtered_tb\n",
      "File \u001b[0;32m~/.pyenv/versions/3.10.6/envs/basicenv/lib/python3.10/site-packages/keras/src/backend.py:2465\u001b[0m, in \u001b[0;36mdot\u001b[0;34m(x, y)\u001b[0m\n\u001b[1;32m   2463\u001b[0m     out \u001b[38;5;241m=\u001b[39m tf\u001b[38;5;241m.\u001b[39msparse\u001b[38;5;241m.\u001b[39msparse_dense_matmul(x, y)\n\u001b[1;32m   2464\u001b[0m \u001b[38;5;28;01melse\u001b[39;00m:\n\u001b[0;32m-> 2465\u001b[0m     out \u001b[38;5;241m=\u001b[39m \u001b[43mtf\u001b[49m\u001b[38;5;241;43m.\u001b[39;49m\u001b[43mmatmul\u001b[49m\u001b[43m(\u001b[49m\u001b[43mx\u001b[49m\u001b[43m,\u001b[49m\u001b[43m \u001b[49m\u001b[43my\u001b[49m\u001b[43m)\u001b[49m\n\u001b[1;32m   2466\u001b[0m \u001b[38;5;28;01mreturn\u001b[39;00m out\n",
      "\u001b[0;31mInvalidArgumentError\u001b[0m: Exception encountered when calling layer 'enc_gru' (type GRUCell).\n\n{{function_node __wrapped__MatMul_device_/job:localhost/replica:0/task:0/device:CPU:0}} Matrix size-incompatible: In[0]: [3,5], In[1]: [10,15] [Op:MatMul] name: \n\nCall arguments received by layer 'enc_gru' (type GRUCell):\n  • inputs=tf.Tensor(shape=(3, 5), dtype=float32)\n  • states=<tf.Variable 'Variable:0' shape=(3, 5) dtype=float32, numpy=\narray([[0., 0., 0., 0., 0.],\n       [0., 0., 0., 0., 0.],\n       [0., 0., 0., 0., 0.]], dtype=float32)>\n  • training=None"
     ]
    }
   ],
   "source": [
    "output, state_ = gru(output, state)"
   ]
  },
  {
   "cell_type": "code",
   "execution_count": 445,
   "id": "8df81979-ad74-4ef4-a61b-8e558487424c",
   "metadata": {},
   "outputs": [],
   "source": [
    "input = tf.Variable(tf.ones([3,10]))"
   ]
  },
  {
   "cell_type": "code",
   "execution_count": 446,
   "id": "32fbd8b3-db7b-4463-a858-43ab274a88bc",
   "metadata": {},
   "outputs": [],
   "source": [
    "output, state_ = gru(input, state)"
   ]
  },
  {
   "cell_type": "code",
   "execution_count": 450,
   "id": "206dba9b-7a0c-4617-b721-c36e164b388a",
   "metadata": {},
   "outputs": [
    {
     "data": {
      "text/plain": [
       "[PhysicalDevice(name='/physical_device:CPU:0', device_type='CPU')]"
      ]
     },
     "execution_count": 450,
     "metadata": {},
     "output_type": "execute_result"
    }
   ],
   "source": [
    "tf.config.list_physical_devices('CPU') "
   ]
  },
  {
   "cell_type": "code",
   "execution_count": 451,
   "id": "86420284-46f4-4c21-a799-560b428fc127",
   "metadata": {},
   "outputs": [
    {
     "data": {
      "text/plain": [
       "[PhysicalDevice(name='/physical_device:CPU:0', device_type='CPU')]"
      ]
     },
     "execution_count": 451,
     "metadata": {},
     "output_type": "execute_result"
    }
   ],
   "source": [
    "tf.config.list_physical_devices()"
   ]
  },
  {
   "cell_type": "code",
   "execution_count": null,
   "id": "fc16e89e-dc72-459a-bd19-33e048bf2fc9",
   "metadata": {},
   "outputs": [],
   "source": []
  }
 ],
 "metadata": {
  "kernelspec": {
   "display_name": "Python 3 (ipykernel)",
   "language": "python",
   "name": "python3"
  },
  "language_info": {
   "codemirror_mode": {
    "name": "ipython",
    "version": 3
   },
   "file_extension": ".py",
   "mimetype": "text/x-python",
   "name": "python",
   "nbconvert_exporter": "python",
   "pygments_lexer": "ipython3",
   "version": "3.10.6"
  }
 },
 "nbformat": 4,
 "nbformat_minor": 5
}

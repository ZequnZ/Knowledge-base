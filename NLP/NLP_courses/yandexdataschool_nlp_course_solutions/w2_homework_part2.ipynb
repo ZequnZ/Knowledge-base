{
 "cells": [
  {
   "cell_type": "markdown",
   "metadata": {},
   "source": [
    "### Salary prediction, episode II: make it actually work (4 points)\n",
    "\n",
    "Your main task is to use some of the tricks you've learned on the network and analyze if you can improve __validation MAE__. Try __at least 3 options__ from the list below for a passing grade. Write a short report about what you have tried. More ideas = more bonus points. \n",
    "\n",
    "__Please be serious:__ \" plot learning curves in MAE/epoch, compare models based on optimal performance, test one change at a time. You know the drill :)\n",
    "\n",
    "You can use either __pytorch__ or __tensorflow__ or any other framework (e.g. pure __keras__). Feel free to adapt the seminar code for your needs. For tensorflow version, consider `seminar_tf2.ipynb` as a starting point.\n"
   ]
  },
  {
   "cell_type": "code",
   "execution_count": 1,
   "metadata": {},
   "outputs": [],
   "source": [
    "from collections import Counter\n",
    "from sklearn.feature_extraction import DictVectorizer\n",
    "from sklearn.model_selection import train_test_split\n",
    "import nltk\n",
    "import tensorflow as ts\n",
    "from tensorflow.keras import layers\n",
    "import numpy as np\n",
    "import pandas as pd\n",
    "import matplotlib.pyplot as plt\n",
    "%matplotlib inline\n"
   ]
  },
  {
   "cell_type": "code",
   "execution_count": 2,
   "metadata": {},
   "outputs": [],
   "source": [
    "data = pd.read_csv(\"./resources/Train_rev1.csv\", index_col=None)\n",
    "data.shape\n",
    "\n",
    "data['Log1pSalary'] = np.log1p(data['SalaryNormalized']).astype('float32')\n",
    "text_columns = [\"Title\", \"FullDescription\"]\n",
    "categorical_columns = [\"Category\", \"Company\", \"LocationNormalized\", \"ContractType\", \"ContractTime\"]\n",
    "target_column = \"Log1pSalary\"\n",
    "\n",
    "data[categorical_columns] = data[categorical_columns].fillna('NaN') # cast missing values to string \"NaN\"\n",
    "\n",
    "\n",
    "tokenizer = nltk.tokenize.WordPunctTokenizer()\n",
    "data['Title'] = data['Title'].apply(lambda x: (' ').join(tokenizer.tokenize(str(x).lower())))\n",
    "data['FullDescription'] = data['FullDescription'].apply(lambda x: (' ').join(tokenizer.tokenize(str(x).lower())))\n",
    "\n"
   ]
  },
  {
   "cell_type": "code",
   "execution_count": 3,
   "metadata": {},
   "outputs": [
    {
     "name": "stdout",
     "output_type": "stream",
     "text": [
      "Vocabulary size: 34158\n"
     ]
    }
   ],
   "source": [
    "token_counts = Counter()\n",
    "for title in data['Title']:\n",
    "    token_counts.update(Counter(tokenizer.tokenize(title)))\n",
    "for title in data['FullDescription']:\n",
    "    token_counts.update(Counter(tokenizer.tokenize(title)))\n",
    "    \n",
    "min_count = 10\n",
    "# tokens from token_counts keys that had at least min_count occurrences throughout the dataset\n",
    "tokens = [key for key in token_counts.keys() if token_counts[key]>=min_count]\n",
    "\n",
    "# Add a special tokens for unknown and empty words\n",
    "UNK, PAD = \"UNK\", \"PAD\"\n",
    "tokens = [UNK, PAD] + sorted(tokens)\n",
    "print(\"Vocabulary size:\", len(tokens))\n",
    "\n",
    "token_to_id = {key:index for index,key in enumerate(tokens)}\n"
   ]
  },
  {
   "cell_type": "code",
   "execution_count": 4,
   "metadata": {},
   "outputs": [],
   "source": [
    "UNK_IX, PAD_IX = map(token_to_id.get, [UNK, PAD])\n",
    "\n",
    "def as_matrix(sequences, max_len=None):\n",
    "    \"\"\" Convert a list of tokens into a matrix with padding \"\"\"\n",
    "    if isinstance(sequences[0], str):\n",
    "        sequences = list(map(str.split, sequences)) # split each element in sequence by \" \"(space)\n",
    "        \n",
    "    max_len = min(max(map(len, sequences)), max_len or float('inf')) # get the maximum sequence length\n",
    "    \n",
    "    matrix = np.full((len(sequences), max_len), np.int32(PAD_IX)) # Create a matrix #sequence * max_len with default value:pad\n",
    "    for i,seq in enumerate(sequences):\n",
    "        row_ix = [token_to_id.get(word, UNK_IX) for word in seq[:max_len]] # For each seq, replace the word into index\n",
    "        matrix[i, :len(row_ix)] = row_ix # Update the matrix\n",
    "    \n",
    "    return matrix"
   ]
  },
  {
   "cell_type": "code",
   "execution_count": 5,
   "metadata": {},
   "outputs": [
    {
     "data": {
      "text/plain": [
       "DictVectorizer(dtype=<class 'numpy.float32'>, sparse=False)"
      ]
     },
     "execution_count": 5,
     "metadata": {},
     "output_type": "execute_result"
    }
   ],
   "source": [
    "# we only consider top-1k most frequent companies to minimize memory usage\n",
    "top_companies, top_counts = zip(*Counter(data['Company']).most_common(1000))\n",
    "recognized_companies = set(top_companies)\n",
    "data[\"Company\"] = data[\"Company\"].apply(lambda comp: comp if comp in recognized_companies else \"Other\")\n",
    "\n",
    "categorical_vectorizer = DictVectorizer(dtype=np.float32, sparse=False)\n",
    "categorical_vectorizer.fit(data[categorical_columns].apply(dict, axis=1))"
   ]
  },
  {
   "cell_type": "code",
   "execution_count": 6,
   "metadata": {},
   "outputs": [
    {
     "name": "stdout",
     "output_type": "stream",
     "text": [
      "Train size =  195814\n",
      "Validation size =  48954\n"
     ]
    }
   ],
   "source": [
    "data_train, data_val = train_test_split(data, test_size=0.2, random_state=42)\n",
    "data_train.index = range(len(data_train))\n",
    "data_val.index = range(len(data_val))\n",
    "\n",
    "print(\"Train size = \", len(data_train))\n",
    "print(\"Validation size = \", len(data_val))"
   ]
  },
  {
   "cell_type": "code",
   "execution_count": 7,
   "metadata": {},
   "outputs": [],
   "source": [
    "def make_batch(data, max_len=None, word_dropout=0):\n",
    "    \"\"\"\n",
    "    Creates a keras-friendly dict from the batch data.\n",
    "    :param word_dropout: replaces token index with UNK_IX with this probability\n",
    "    :returns: a dict with {'title' : int64[batch, title_max_len]\n",
    "    \"\"\"\n",
    "    batch = {}\n",
    "    batch[\"Title\"] = as_matrix(data[\"Title\"].values, max_len)\n",
    "    batch[\"FullDescription\"] = as_matrix(data[\"FullDescription\"].values, max_len)\n",
    "    batch['Categorical'] = categorical_vectorizer.transform(data[categorical_columns].apply(dict, axis=1))\n",
    "    \n",
    "    if word_dropout != 0:\n",
    "        batch[\"FullDescription\"] = apply_word_dropout(batch[\"FullDescription\"], 1. - word_dropout)\n",
    "    \n",
    "    if target_column in data.columns:\n",
    "        batch[target_column] = data[target_column].values\n",
    "    \n",
    "    return batch\n",
    "\n",
    "def apply_word_dropout(matrix, keep_prop, replace_with=UNK_IX, pad_ix=PAD_IX,):\n",
    "    dropout_mask = np.random.choice(2, np.shape(matrix), p=[keep_prop, 1 - keep_prop])\n",
    "    dropout_mask &= matrix != pad_ix\n",
    "    return np.choose(dropout_mask, [matrix, np.full_like(matrix, replace_with)])"
   ]
  },
  {
   "cell_type": "code",
   "execution_count": 31,
   "metadata": {},
   "outputs": [],
   "source": [
    "def build_model(n_tokens=len(tokens), n_cat_features=len(categorical_vectorizer.vocabulary_), hid_size=64):\n",
    "    \"\"\" Build a model that maps three data sources to a single linear output: predicted log1p(salary) \"\"\"\n",
    "    \n",
    "    l_title = layers.Input(shape=[None], name=\"Title\")\n",
    "    l_descr = layers.Input(shape=[None], name=\"FullDescription\")\n",
    "    l_categ = layers.Input(shape=[n_cat_features], name=\"Categorical\")\n",
    "    \n",
    "    # Build your monster!\n",
    "    \n",
    "    # <YOUR CODE>\n",
    "    #title\n",
    "    title_emb = layers.Embedding(n_tokens, 8)(l_title) # batch*input -> batch*input*8\n",
    "    title_con1 = layers.Conv1D(filters=16, kernel_size=3, activation='relu',padding='same')(title_emb) #batch*input*8-> batch*input*16 [padding=valid: batch*input-2*(kernel_size//2)*filter / padding=same: batch*input*filter]\n",
    "    title_pool1 = layers.GlobalMaxPooling1D(data_format=\"channels_last\")(title_con1) #batch*input*16 -> batch*input/8*16\n",
    "#     title_flatten = layers.Flatten(data_format='channels_last')(title_pool1)\n",
    "    \n",
    "    #descr\n",
    "    descr_emb = layers.Embedding(n_tokens, 8)(l_descr)# batch*input -> batch*input*8\n",
    "    descr_con1 = layers.Conv1D(filters=16, kernel_size=3, activation='relu',padding='same')(descr_emb)\n",
    "    descr_pool1 = layers.GlobalMaxPooling1D(data_format=\"channels_last\")(descr_con1)\n",
    "    \n",
    "    #categ\n",
    "    categ_d1 = layers.Dense(units=64, activation='relu')(l_categ)\n",
    "    categ_d2 = layers.Dense(units=128, activation='relu')(categ_d1)\n",
    "    \n",
    "    concat = layers.Concatenate(axis=1)([title_pool1, descr_pool1, categ_d2])\n",
    "    dense1 = layers.Dense(units=64, activation='relu')(concat)\n",
    "    dense2 = layers.Dense(units=32, activation='relu')(dense1)\n",
    "    dense3 = layers.Dense(units=16, activation='relu')(dense2)\n",
    "    \n",
    "    output_layer = layers.Dense(units=1, activation='relu')(dense3)\n",
    "    # end of your code\n",
    "    \n",
    "    model = ts.keras.models.Model(inputs=[l_title, l_descr, l_categ], outputs=[output_layer])\n",
    "    model.compile('adam', 'mean_squared_error', metrics=['mean_absolute_error'])\n",
    "    return model\n",
    "\n",
    "def iterate_minibatches(data, batch_size=256, shuffle=True, cycle=False, **kwargs):\n",
    "    \"\"\" iterates minibatches of data in random order \"\"\"\n",
    "    while True:\n",
    "        indices = np.arange(len(data))\n",
    "        if shuffle:\n",
    "            indices = np.random.permutation(indices)\n",
    "\n",
    "        for start in range(0, len(indices), batch_size):\n",
    "            batch = make_batch(data.iloc[indices[start : start + batch_size]], **kwargs)\n",
    "            target = batch.pop(target_column)\n",
    "            yield batch, target\n",
    "        \n",
    "        if not cycle: break\n",
    "            \n",
    "def print_metrics(model, data, batch_size=batch_size, name=\"\", **kw):\n",
    "    squared_error = abs_error = num_samples = 0.0\n",
    "    for batch_x, batch_y in iterate_minibatches(data, batch_size=batch_size, shuffle=False, **kw):\n",
    "        batch_pred = model.predict(batch_x)[:, 0]\n",
    "        squared_error += np.sum(np.square(batch_pred - batch_y))\n",
    "        abs_error += np.sum(np.abs(batch_pred - batch_y))\n",
    "        num_samples += len(batch_y)\n",
    "    print(\"%s results:\" % (name or \"\"))\n",
    "    print(\"Mean square error: %.5f\" % (squared_error / num_samples))\n",
    "    print(\"Mean absolute error: %.5f\" % (abs_error / num_samples))\n",
    "    return squared_error, abs_error\n",
    "            \n",
    "def draw_model_loss(history):\n",
    "\n",
    "    mae = history.history['mean_absolute_error']\n",
    "    val_mae = history.history['val_mean_absolute_error']\n",
    "    loss = history.history['loss']\n",
    "    val_loss = history.history['val_loss']\n",
    "\n",
    "    epochs = range(len(mae))\n",
    "\n",
    "    plt.plot(epochs, mae, 'r', label='Training MAE')\n",
    "    plt.plot(epochs, val_mae, 'b', label='Validation MAE')\n",
    "    plt.title('Training and validation MAE')\n",
    "\n",
    "    plt.figure()\n",
    "    plt.plot(epochs, loss, 'r', label='Training Loss')\n",
    "    plt.plot(epochs, val_loss, 'b', label='Validation Loss')\n",
    "    plt.title('Training and validation loss')\n",
    "    plt.legend()\n",
    "\n",
    "    plt.show()"
   ]
  },
  {
   "cell_type": "markdown",
   "metadata": {},
   "source": [
    "# Base model"
   ]
  },
  {
   "cell_type": "code",
   "execution_count": 9,
   "metadata": {},
   "outputs": [
    {
     "name": "stderr",
     "output_type": "stream",
     "text": [
      "/Users/zequnzhou/.pyenv/versions/sudoku382/lib/python3.8/site-packages/tensorflow/python/keras/engine/training.py:1844: UserWarning: `Model.fit_generator` is deprecated and will be removed in a future version. Please use `Model.fit`, which supports generators.\n",
      "  warnings.warn('`Model.fit_generator` is deprecated and '\n"
     ]
    },
    {
     "name": "stdout",
     "output_type": "stream",
     "text": [
      "Epoch 1/10\n",
      "100/100 [==============================] - 19s 179ms/step - loss: 53.9839 - mean_absolute_error: 6.1300 - val_loss: 0.2405 - val_mean_absolute_error: 0.3827\n",
      "Epoch 2/10\n",
      "100/100 [==============================] - 15s 153ms/step - loss: 0.2046 - mean_absolute_error: 0.3528 - val_loss: 0.1469 - val_mean_absolute_error: 0.2969\n",
      "Epoch 3/10\n",
      "100/100 [==============================] - 16s 161ms/step - loss: 0.1444 - mean_absolute_error: 0.2928 - val_loss: 0.1227 - val_mean_absolute_error: 0.2686\n",
      "Epoch 4/10\n",
      "100/100 [==============================] - 18s 178ms/step - loss: 0.1229 - mean_absolute_error: 0.2689 - val_loss: 0.1104 - val_mean_absolute_error: 0.2524\n",
      "Epoch 5/10\n",
      "100/100 [==============================] - 16s 161ms/step - loss: 0.1085 - mean_absolute_error: 0.2491 - val_loss: 0.1031 - val_mean_absolute_error: 0.2431\n",
      "Epoch 6/10\n",
      "100/100 [==============================] - 16s 164ms/step - loss: 0.1066 - mean_absolute_error: 0.2447 - val_loss: 0.0982 - val_mean_absolute_error: 0.2370\n",
      "Epoch 7/10\n",
      "100/100 [==============================] - 17s 169ms/step - loss: 0.0972 - mean_absolute_error: 0.2333 - val_loss: 0.0937 - val_mean_absolute_error: 0.2302\n",
      "Epoch 8/10\n",
      "100/100 [==============================] - 16s 162ms/step - loss: 0.0950 - mean_absolute_error: 0.2315 - val_loss: 0.0902 - val_mean_absolute_error: 0.2257\n",
      "Epoch 9/10\n",
      "100/100 [==============================] - 17s 170ms/step - loss: 0.0886 - mean_absolute_error: 0.2207 - val_loss: 0.0878 - val_mean_absolute_error: 0.2226\n",
      "Epoch 10/10\n",
      "100/100 [==============================] - 19s 186ms/step - loss: 0.0846 - mean_absolute_error: 0.2174 - val_loss: 0.0864 - val_mean_absolute_error: 0.2205\n"
     ]
    }
   ],
   "source": [
    "batch_size = 256\n",
    "epochs = 10            # definitely too small\n",
    "steps_per_epoch = 100  # for full pass over data: (len(data_train) - 1) // batch_size + 1\n",
    "\n",
    "model = build_model()\n",
    "\n",
    "base_history = model.fit_generator(iterate_minibatches(data_train, batch_size, cycle=True, word_dropout=0.05), \n",
    "                    epochs=epochs, steps_per_epoch=steps_per_epoch,\n",
    "                    \n",
    "                    validation_data=iterate_minibatches(data_val, batch_size, cycle=True),\n",
    "                    validation_steps=data_val.shape[0] // batch_size\n",
    "                   )"
   ]
  },
  {
   "cell_type": "code",
   "execution_count": 33,
   "metadata": {},
   "outputs": [
    {
     "name": "stdout",
     "output_type": "stream",
     "text": [
      "Train results:\n",
      "Mean square error: 0.07850\n",
      "Mean absolute error: 0.20890\n",
      "Val results:\n",
      "Mean square error: 0.08645\n",
      "Mean absolute error: 0.22049\n"
     ]
    },
    {
     "data": {
      "text/plain": [
       "(4232.186327457428, 10794.015025138855)"
      ]
     },
     "execution_count": 33,
     "metadata": {},
     "output_type": "execute_result"
    }
   ],
   "source": [
    "print_metrics(model, data_train, name='Train')\n",
    "print_metrics(model, data_val, name='Val');"
   ]
  },
  {
   "cell_type": "code",
   "execution_count": 17,
   "metadata": {},
   "outputs": [
    {
     "data": {
      "image/png": "[encoded data removed]",
      "text/plain": [
       "<Figure size 432x288 with 1 Axes>"
      ]
     },
     "metadata": {
      "needs_background": "light"
     },
     "output_type": "display_data"
    },
    {
     "data": {
      "image/png": "[encoded data removed]",
      "text/plain": [
       "<Figure size 432x288 with 1 Axes>"
      ]
     },
     "metadata": {
      "needs_background": "light"
     },
     "output_type": "display_data"
    }
   ],
   "source": [
    "draw_model_loss(base_history)"
   ]
  },
  {
   "cell_type": "markdown",
   "metadata": {},
   "source": [
    "---"
   ]
  },
  {
   "cell_type": "markdown",
   "metadata": {},
   "source": [
    "# A) CNN architecture \n",
    "\n",
    "1. Apply `Dropout` layer  \n",
    "2. Apply `BatchNormalization` layer"
   ]
  },
  {
   "cell_type": "code",
   "execution_count": 52,
   "metadata": {},
   "outputs": [],
   "source": [
    "def build_model_a(n_tokens=len(tokens), n_cat_features=len(categorical_vectorizer.vocabulary_), hid_size=64, dropout_rate=0):\n",
    "    \"\"\" Build a model that maps three data sources to a single linear output: predicted log1p(salary) \"\"\"\n",
    "    \n",
    "    l_title = layers.Input(shape=[None], name=\"Title\")\n",
    "    l_descr = layers.Input(shape=[None], name=\"FullDescription\")\n",
    "    l_categ = layers.Input(shape=[n_cat_features], name=\"Categorical\")\n",
    "    \n",
    "    # Build your monster!\n",
    "    \n",
    "    #title\n",
    "    title_emb = layers.Embedding(n_tokens, 8)(l_title) # batch*input -> batch*input*8\n",
    "    title_con1 = layers.Conv1D(filters=16, kernel_size=3, activation='relu',padding='same')(title_emb) #batch*input*8-> batch*input*16 [padding=valid: batch*input-2*(kernel_size//2)*filter / padding=same: batch*input*filter]\n",
    "    title_bn1 = layers.BatchNormalization()(title_con1)\n",
    "    title_pool1 = layers.GlobalMaxPooling1D(data_format=\"channels_last\")(title_bn1) #batch*input*16 -> batch*input/8*16\n",
    "    # para conv\n",
    "    title_con2 = layers.Conv1D(filters=16, kernel_size=2, activation='relu',padding='same')(title_emb) #batch*input*8-> batch*input*16 [padding=valid: batch*input-2*(kernel_size//2)*filter / padding=same: batch*input*filter]\n",
    "    title_bn2 = layers.BatchNormalization()(title_con2)\n",
    "    title_pool2 = layers.GlobalMaxPooling1D(data_format=\"channels_last\")(title_bn2)\n",
    "    \n",
    "    #descr\n",
    "    descr_emb = layers.Embedding(n_tokens, 8)(l_descr)# batch*input -> batch*input*8\n",
    "    descr_con1 = layers.Conv1D(filters=16, kernel_size=3, activation='relu',padding='same')(descr_emb)\n",
    "    descr_bn1 = layers.BatchNormalization()(descr_con1)\n",
    "    descr_pool1 = layers.GlobalMaxPooling1D(data_format=\"channels_last\")(descr_bn1)\n",
    "    # parallel con\n",
    "    descr_con2 = layers.Conv1D(filters=16, kernel_size=2, activation='relu',padding='same')(descr_emb) #batch*input*8-> batch*input*16\n",
    "    descr_bn2 = layers.BatchNormalization()(descr_con2)\n",
    "    descr_pool2 = layers.GlobalMaxPooling1D(data_format=\"channels_last\")(descr_bn2)\n",
    "    \n",
    "    #categ\n",
    "    categ_d1 = layers.Dense(units=1024, activation='relu')(l_categ)\n",
    "    categ_dropout1 = layers.Dropout(dropout_rate)(categ_d1)\n",
    "    categ_d2 = layers.Dense(units=512, activation='relu')(categ_dropout1)\n",
    "    categ_dropout2 = layers.Dropout(dropout_rate)(categ_d2)\n",
    "    categ_d3 = layers.Dense(units=256, activation='relu')(categ_dropout2)\n",
    "    \n",
    "    concat = layers.Concatenate(axis=1)([title_pool1, title_pool2, descr_pool1, descr_pool2, categ_d2])\n",
    "    dense1 = layers.Dense(units=256, activation='relu')(concat)\n",
    "    dropout1 = layers.Dropout(dropout_rate)(dense1)\n",
    "    dense2 = layers.Dense(units=256, activation='relu')(dropout1)\n",
    "    dropout2 = layers.Dropout(dropout_rate)(dense2)\n",
    "    dense3 = layers.Dense(units=128, activation='relu')(dropout2)\n",
    "    dropout3 = layers.Dropout(dropout_rate)(dense3)\n",
    "    dense4 = layers.Dense(units=64, activation='relu')(dropout3)\n",
    "    dropout4 = layers.Dropout(dropout_rate)(dense4)\n",
    "    dense5 = layers.Dense(units=32, activation='relu')(dropout4)\n",
    "    dense6 = layers.Dense(units=16, activation='relu')(dense5)\n",
    "    \n",
    "    output_layer = layers.Dense(units=1, activation='relu')(dense6)\n",
    "    # end of your code\n",
    "    \n",
    "    model = ts.keras.models.Model(inputs=[l_title, l_descr, l_categ], outputs=[output_layer])\n",
    "    model.compile('adam', 'mean_squared_error', metrics=['mean_absolute_error'])\n",
    "    return model"
   ]
  },
  {
   "cell_type": "code",
   "execution_count": 46,
   "metadata": {
    "collapsed": true,
    "jupyter": {
     "outputs_hidden": true
    },
    "tags": []
   },
   "outputs": [
    {
     "name": "stdout",
     "output_type": "stream",
     "text": [
      "{'dropout_rate': 0.1}\n",
      "<function build_model_a at 0x139bb00d0>\n",
      "Epoch 1/10\n",
      "100/100 [==============================] - 17s 164ms/step - loss: 61.5104 - mean_absolute_error: 6.8349 - accuracy: 0.0000e+00 - val_loss: 0.9169 - val_mean_absolute_error: 0.8274 - val_accuracy: 0.0000e+00\n",
      "Epoch 2/10\n",
      "100/100 [==============================] - 18s 179ms/step - loss: 2.3314 - mean_absolute_error: 1.2061 - accuracy: 0.0000e+00 - val_loss: 0.9956 - val_mean_absolute_error: 0.9097 - val_accuracy: 0.0000e+00\n",
      "Epoch 3/10\n",
      "100/100 [==============================] - 21s 209ms/step - loss: 1.5269 - mean_absolute_error: 0.9729 - accuracy: 0.0000e+00 - val_loss: 1.1441 - val_mean_absolute_error: 1.0002 - val_accuracy: 0.0000e+00\n",
      "Epoch 4/10\n",
      "100/100 [==============================] - 20s 197ms/step - loss: 0.9926 - mean_absolute_error: 0.7799 - accuracy: 0.0000e+00 - val_loss: 1.2587 - val_mean_absolute_error: 1.0657 - val_accuracy: 0.0000e+00\n",
      "Epoch 5/10\n",
      "100/100 [==============================] - 19s 191ms/step - loss: 0.8039 - mean_absolute_error: 0.7016 - accuracy: 0.0000e+00 - val_loss: 1.1121 - val_mean_absolute_error: 1.0004 - val_accuracy: 0.0000e+00\n",
      "Epoch 6/10\n",
      "100/100 [==============================] - 19s 187ms/step - loss: 0.7142 - mean_absolute_error: 0.6554 - accuracy: 0.0000e+00 - val_loss: 1.5816 - val_mean_absolute_error: 1.2147 - val_accuracy: 0.0000e+00\n",
      "Epoch 7/10\n",
      "100/100 [==============================] - 20s 199ms/step - loss: 0.6230 - mean_absolute_error: 0.6101 - accuracy: 0.0000e+00 - val_loss: 1.5115 - val_mean_absolute_error: 1.1891 - val_accuracy: 0.0000e+00\n",
      "Epoch 8/10\n",
      "100/100 [==============================] - 19s 195ms/step - loss: 0.5630 - mean_absolute_error: 0.5798 - accuracy: 0.0000e+00 - val_loss: 1.4811 - val_mean_absolute_error: 1.1768 - val_accuracy: 0.0000e+00\n",
      "Epoch 9/10\n",
      "100/100 [==============================] - 21s 216ms/step - loss: 0.5278 - mean_absolute_error: 0.5587 - accuracy: 0.0000e+00 - val_loss: 2.1430 - val_mean_absolute_error: 1.4315 - val_accuracy: 0.0000e+00\n",
      "Epoch 10/10\n",
      "100/100 [==============================] - 19s 194ms/step - loss: 0.5036 - mean_absolute_error: 0.5433 - accuracy: 0.0000e+00 - val_loss: 2.0972 - val_mean_absolute_error: 1.4162 - val_accuracy: 0.0000e+00\n",
      "Train results:\n",
      "Mean square error: 2.09172\n",
      "Mean absolute error: 1.41472\n",
      "Val results:\n",
      "Mean square error: 2.09822\n",
      "Mean absolute error: 1.41659\n"
     ]
    },
    {
     "data": {
      "image/png": "[encoded data removed]",
      "text/plain": [
       "<Figure size 432x288 with 1 Axes>"
      ]
     },
     "metadata": {
      "needs_background": "light"
     },
     "output_type": "display_data"
    },
    {
     "data": {
      "image/png": "[encoded data removed]",
      "text/plain": [
       "<Figure size 432x288 with 1 Axes>"
      ]
     },
     "metadata": {
      "needs_background": "light"
     },
     "output_type": "display_data"
    }
   ],
   "source": [
    "# Apply dropout\n",
    "run_model(build_model_a, dropout_rate=0.1)"
   ]
  },
  {
   "cell_type": "code",
   "execution_count": 48,
   "metadata": {
    "collapsed": true,
    "jupyter": {
     "outputs_hidden": true
    },
    "tags": []
   },
   "outputs": [
    {
     "name": "stdout",
     "output_type": "stream",
     "text": [
      "{'dropout_rate': 0.1}\n",
      "<function build_model_a at 0x139fd6550>\n",
      "Epoch 1/10\n",
      "100/100 [==============================] - 24s 230ms/step - loss: 18.7607 - mean_absolute_error: 3.0841 - val_loss: 59.8551 - val_mean_absolute_error: 7.7224\n",
      "Epoch 2/10\n",
      "100/100 [==============================] - 33s 333ms/step - loss: 1.1581 - mean_absolute_error: 0.8532 - val_loss: 54.1842 - val_mean_absolute_error: 7.3471\n",
      "Epoch 3/10\n",
      "100/100 [==============================] - 28s 286ms/step - loss: 0.8109 - mean_absolute_error: 0.7156 - val_loss: 49.8330 - val_mean_absolute_error: 7.0464\n",
      "Epoch 4/10\n",
      "100/100 [==============================] - 24s 238ms/step - loss: 0.8185 - mean_absolute_error: 0.7190 - val_loss: 39.8611 - val_mean_absolute_error: 6.3001\n",
      "Epoch 5/10\n",
      "100/100 [==============================] - 24s 240ms/step - loss: 0.6212 - mean_absolute_error: 0.6228 - val_loss: 30.3367 - val_mean_absolute_error: 5.4945\n",
      "Epoch 6/10\n",
      "100/100 [==============================] - 25s 249ms/step - loss: 0.5055 - mean_absolute_error: 0.5610 - val_loss: 20.5157 - val_mean_absolute_error: 4.5153\n",
      "Epoch 7/10\n",
      "100/100 [==============================] - 29s 288ms/step - loss: 0.5094 - mean_absolute_error: 0.5658 - val_loss: 12.3031 - val_mean_absolute_error: 3.4906\n",
      "Epoch 8/10\n",
      "100/100 [==============================] - 26s 259ms/step - loss: 0.4772 - mean_absolute_error: 0.5466 - val_loss: 9.5160 - val_mean_absolute_error: 3.0660\n",
      "Epoch 9/10\n",
      "100/100 [==============================] - 26s 263ms/step - loss: 0.4167 - mean_absolute_error: 0.5077 - val_loss: 6.5076 - val_mean_absolute_error: 2.5290\n",
      "Epoch 10/10\n",
      "100/100 [==============================] - 27s 271ms/step - loss: 0.4302 - mean_absolute_error: 0.5185 - val_loss: 7.1317 - val_mean_absolute_error: 2.6503\n",
      "Train results:\n",
      "Mean square error: 7.10155\n",
      "Mean absolute error: 2.64614\n",
      "Val results:\n",
      "Mean square error: 7.13406\n",
      "Mean absolute error: 2.65078\n"
     ]
    },
    {
     "data": {
      "image/png": "[encoded data removed]",
      "text/plain": [
       "<Figure size 432x288 with 1 Axes>"
      ]
     },
     "metadata": {
      "needs_background": "light"
     },
     "output_type": "display_data"
    },
    {
     "data": {
      "image/png": "[encoded data removed]",
      "text/plain": [
       "<Figure size 432x288 with 1 Axes>"
      ]
     },
     "metadata": {
      "needs_background": "light"
     },
     "output_type": "display_data"
    }
   ],
   "source": [
    "# Apply dropout + BN + more dense layers\n",
    "run_model(build_model_a, dropout_rate=0.1)"
   ]
  },
  {
   "cell_type": "code",
   "execution_count": 50,
   "metadata": {
    "collapsed": true,
    "jupyter": {
     "outputs_hidden": true
    },
    "tags": []
   },
   "outputs": [
    {
     "name": "stdout",
     "output_type": "stream",
     "text": [
      "{'dropout_rate': 0.1}\n",
      "<function build_model_a at 0x13a1780d0>\n",
      "Epoch 1/10\n",
      "100/100 [==============================] - 33s 309ms/step - loss: 20.6402 - mean_absolute_error: 3.2191 - val_loss: 68.6544 - val_mean_absolute_error: 8.2731\n",
      "Epoch 2/10\n",
      "100/100 [==============================] - 32s 316ms/step - loss: 1.0597 - mean_absolute_error: 0.8128 - val_loss: 62.5165 - val_mean_absolute_error: 7.8942\n",
      "Epoch 3/10\n",
      "100/100 [==============================] - 35s 349ms/step - loss: 0.9113 - mean_absolute_error: 0.7548 - val_loss: 52.5389 - val_mean_absolute_error: 7.2350\n",
      "Epoch 4/10\n",
      "100/100 [==============================] - 37s 373ms/step - loss: 0.7599 - mean_absolute_error: 0.6926 - val_loss: 48.2539 - val_mean_absolute_error: 6.9340\n",
      "Epoch 5/10\n",
      "100/100 [==============================] - 40s 397ms/step - loss: 0.6240 - mean_absolute_error: 0.6246 - val_loss: 36.6009 - val_mean_absolute_error: 6.0375\n",
      "Epoch 6/10\n",
      "100/100 [==============================] - 40s 406ms/step - loss: 0.5259 - mean_absolute_error: 0.5699 - val_loss: 23.3100 - val_mean_absolute_error: 4.8143\n",
      "Epoch 7/10\n",
      "100/100 [==============================] - 43s 432ms/step - loss: 0.5994 - mean_absolute_error: 0.6162 - val_loss: 16.0195 - val_mean_absolute_error: 3.9873\n",
      "Epoch 8/10\n",
      "100/100 [==============================] - 37s 368ms/step - loss: 0.4473 - mean_absolute_error: 0.5242 - val_loss: 10.0342 - val_mean_absolute_error: 3.1494\n",
      "Epoch 9/10\n",
      "100/100 [==============================] - 43s 430ms/step - loss: 0.3887 - mean_absolute_error: 0.4889 - val_loss: 7.3428 - val_mean_absolute_error: 2.6898\n",
      "Epoch 10/10\n",
      "100/100 [==============================] - 36s 363ms/step - loss: 0.4674 - mean_absolute_error: 0.5409 - val_loss: 5.2704 - val_mean_absolute_error: 2.2724\n",
      "Train results:\n",
      "Mean square error: 5.24552\n",
      "Mean absolute error: 2.26885\n",
      "Val results:\n",
      "Mean square error: 5.27004\n",
      "Mean absolute error: 2.27238\n"
     ]
    },
    {
     "data": {
      "image/png": "[encoded data removed]",
      "text/plain": [
       "<Figure size 432x288 with 1 Axes>"
      ]
     },
     "metadata": {
      "needs_background": "light"
     },
     "output_type": "display_data"
    },
    {
     "data": {
      "image/png": "[encoded data removed]",
      "text/plain": [
       "<Figure size 432x288 with 1 Axes>"
      ]
     },
     "metadata": {
      "needs_background": "light"
     },
     "output_type": "display_data"
    }
   ],
   "source": [
    "# Apply dropout + BN + more dense layers + parallel conv\n",
    "run_model(build_model_a, dropout_rate=0.1)"
   ]
  },
  {
   "cell_type": "code",
   "execution_count": 54,
   "metadata": {
    "collapsed": true,
    "jupyter": {
     "outputs_hidden": true
    },
    "tags": []
   },
   "outputs": [
    {
     "name": "stdout",
     "output_type": "stream",
     "text": [
      "{'dropout_rate': 0.1}\n",
      "<function build_model_a at 0x139da6550>\n",
      "Model: \"model_7\"\n",
      "__________________________________________________________________________________________________\n",
      "Layer (type)                    Output Shape         Param #     Connected to                     \n",
      "==================================================================================================\n",
      "Title (InputLayer)              [(None, None)]       0                                            \n",
      "__________________________________________________________________________________________________\n",
      "FullDescription (InputLayer)    [(None, None)]       0                                            \n",
      "__________________________________________________________________________________________________\n",
      "embedding_14 (Embedding)        (None, None, 8)      273264      Title[0][0]                      \n",
      "__________________________________________________________________________________________________\n",
      "embedding_15 (Embedding)        (None, None, 8)      273264      FullDescription[0][0]            \n",
      "__________________________________________________________________________________________________\n",
      "Categorical (InputLayer)        [(None, 3768)]       0                                            \n",
      "__________________________________________________________________________________________________\n",
      "conv1d_15 (Conv1D)              (None, None, 16)     400         embedding_14[0][0]               \n",
      "__________________________________________________________________________________________________\n",
      "conv1d_16 (Conv1D)              (None, None, 16)     272         embedding_14[0][0]               \n",
      "__________________________________________________________________________________________________\n",
      "conv1d_17 (Conv1D)              (None, None, 16)     400         embedding_15[0][0]               \n",
      "__________________________________________________________________________________________________\n",
      "conv1d_18 (Conv1D)              (None, None, 16)     272         embedding_15[0][0]               \n",
      "__________________________________________________________________________________________________\n",
      "dense_50 (Dense)                (None, 1024)         3859456     Categorical[0][0]                \n",
      "__________________________________________________________________________________________________\n",
      "batch_normalization_5 (BatchNor (None, None, 16)     64          conv1d_15[0][0]                  \n",
      "__________________________________________________________________________________________________\n",
      "batch_normalization_6 (BatchNor (None, None, 16)     64          conv1d_16[0][0]                  \n",
      "__________________________________________________________________________________________________\n",
      "batch_normalization_7 (BatchNor (None, None, 16)     64          conv1d_17[0][0]                  \n",
      "__________________________________________________________________________________________________\n",
      "batch_normalization_8 (BatchNor (None, None, 16)     64          conv1d_18[0][0]                  \n",
      "__________________________________________________________________________________________________\n",
      "dropout_28 (Dropout)            (None, 1024)         0           dense_50[0][0]                   \n",
      "__________________________________________________________________________________________________\n",
      "global_max_pooling1d_15 (Global (None, 16)           0           batch_normalization_5[0][0]      \n",
      "__________________________________________________________________________________________________\n",
      "global_max_pooling1d_16 (Global (None, 16)           0           batch_normalization_6[0][0]      \n",
      "__________________________________________________________________________________________________\n",
      "global_max_pooling1d_17 (Global (None, 16)           0           batch_normalization_7[0][0]      \n",
      "__________________________________________________________________________________________________\n",
      "global_max_pooling1d_18 (Global (None, 16)           0           batch_normalization_8[0][0]      \n",
      "__________________________________________________________________________________________________\n",
      "dense_51 (Dense)                (None, 512)          524800      dropout_28[0][0]                 \n",
      "__________________________________________________________________________________________________\n",
      "concatenate_7 (Concatenate)     (None, 576)          0           global_max_pooling1d_15[0][0]    \n",
      "                                                                 global_max_pooling1d_16[0][0]    \n",
      "                                                                 global_max_pooling1d_17[0][0]    \n",
      "                                                                 global_max_pooling1d_18[0][0]    \n",
      "                                                                 dense_51[0][0]                   \n",
      "__________________________________________________________________________________________________\n",
      "dense_53 (Dense)                (None, 256)          147712      concatenate_7[0][0]              \n",
      "__________________________________________________________________________________________________\n",
      "dropout_30 (Dropout)            (None, 256)          0           dense_53[0][0]                   \n",
      "__________________________________________________________________________________________________\n",
      "dense_54 (Dense)                (None, 256)          65792       dropout_30[0][0]                 \n",
      "__________________________________________________________________________________________________\n",
      "dropout_31 (Dropout)            (None, 256)          0           dense_54[0][0]                   \n",
      "__________________________________________________________________________________________________\n",
      "dense_55 (Dense)                (None, 128)          32896       dropout_31[0][0]                 \n",
      "__________________________________________________________________________________________________\n",
      "dropout_32 (Dropout)            (None, 128)          0           dense_55[0][0]                   \n",
      "__________________________________________________________________________________________________\n",
      "dense_56 (Dense)                (None, 64)           8256        dropout_32[0][0]                 \n",
      "__________________________________________________________________________________________________\n",
      "dropout_33 (Dropout)            (None, 64)           0           dense_56[0][0]                   \n",
      "__________________________________________________________________________________________________\n",
      "dense_57 (Dense)                (None, 32)           2080        dropout_33[0][0]                 \n",
      "__________________________________________________________________________________________________\n",
      "dense_58 (Dense)                (None, 16)           528         dense_57[0][0]                   \n",
      "__________________________________________________________________________________________________\n",
      "dense_59 (Dense)                (None, 1)            17          dense_58[0][0]                   \n",
      "==================================================================================================\n",
      "Total params: 5,189,665\n",
      "Trainable params: 5,189,537\n",
      "Non-trainable params: 128\n",
      "__________________________________________________________________________________________________\n",
      "Epoch 1/10\n",
      "100/100 [==============================] - 41s 402ms/step - loss: 24.0882 - mean_absolute_error: 3.5068 - val_loss: 61.4913 - val_mean_absolute_error: 7.8272\n",
      "Epoch 2/10\n",
      "100/100 [==============================] - 42s 422ms/step - loss: 1.0233 - mean_absolute_error: 0.8038 - val_loss: 56.4375 - val_mean_absolute_error: 7.4989\n",
      "Epoch 3/10\n",
      "100/100 [==============================] - 40s 397ms/step - loss: 0.7728 - mean_absolute_error: 0.6965 - val_loss: 51.8370 - val_mean_absolute_error: 7.1865\n",
      "Epoch 4/10\n",
      "100/100 [==============================] - 36s 359ms/step - loss: 0.6420 - mean_absolute_error: 0.6333 - val_loss: 44.3474 - val_mean_absolute_error: 6.6465\n",
      "Epoch 5/10\n",
      "100/100 [==============================] - 42s 416ms/step - loss: 0.5887 - mean_absolute_error: 0.6054 - val_loss: 34.0886 - val_mean_absolute_error: 5.8258\n",
      "Epoch 6/10\n",
      "100/100 [==============================] - 55s 557ms/step - loss: 0.5370 - mean_absolute_error: 0.5780 - val_loss: 20.4004 - val_mean_absolute_error: 4.5020\n",
      "Epoch 7/10\n",
      "100/100 [==============================] - 51s 511ms/step - loss: 0.5874 - mean_absolute_error: 0.6087 - val_loss: 14.9921 - val_mean_absolute_error: 3.8563\n",
      "Epoch 8/10\n",
      "100/100 [==============================] - 46s 464ms/step - loss: 0.4936 - mean_absolute_error: 0.5542 - val_loss: 9.6793 - val_mean_absolute_error: 3.0924\n",
      "Epoch 9/10\n",
      "100/100 [==============================] - 38s 384ms/step - loss: 0.4209 - mean_absolute_error: 0.5109 - val_loss: 7.9667 - val_mean_absolute_error: 2.8030\n",
      "Epoch 10/10\n",
      "100/100 [==============================] - 38s 384ms/step - loss: 0.4406 - mean_absolute_error: 0.5238 - val_loss: 5.9628 - val_mean_absolute_error: 2.4194\n",
      "Train results:\n",
      "Mean square error: 5.94716\n",
      "Mean absolute error: 2.41787\n",
      "Val results:\n",
      "Mean square error: 5.96516\n",
      "Mean absolute error: 2.41993\n"
     ]
    },
    {
     "data": {
      "image/png": "[encoded data removed]",
      "text/plain": [
       "<Figure size 432x288 with 1 Axes>"
      ]
     },
     "metadata": {
      "needs_background": "light"
     },
     "output_type": "display_data"
    },
    {
     "data": {
      "image/png": "[encoded data removed]",
      "text/plain": [
       "<Figure size 432x288 with 1 Axes>"
      ]
     },
     "metadata": {
      "needs_background": "light"
     },
     "output_type": "display_data"
    }
   ],
   "source": [
    "# Apply dropout + BN + more dense layers + parallel conv\n",
    "run_model(build_model_a, dropout_rate=0.1)"
   ]
  },
  {
   "cell_type": "code",
   "execution_count": 53,
   "metadata": {},
   "outputs": [],
   "source": [
    "def run_model(build_model_func, **kwargs):\n",
    "    print(kwargs)\n",
    "    print(build_model_func)\n",
    "\n",
    "    batch_size = 256\n",
    "    epochs = 10            # definitely too small\n",
    "    steps_per_epoch = 100  # for full pass over data: (len(data_train) - 1) // batch_size + 1\n",
    "\n",
    "    model = build_model_func(**kwargs)\n",
    "    model.summary()\n",
    "\n",
    "    history = model.fit(iterate_minibatches(data_train, batch_size, cycle=True, word_dropout=0.05), \n",
    "                        epochs=epochs, steps_per_epoch=steps_per_epoch,\n",
    "\n",
    "                        validation_data=iterate_minibatches(data_val, batch_size, cycle=True),\n",
    "                        validation_steps=data_val.shape[0] // batch_size\n",
    "                       )\n",
    "    print_metrics(model, data_train, name='Train')\n",
    "    print_metrics(model, data_val, name='Val')\n",
    "    draw_model_loss(history)"
   ]
  },
  {
   "cell_type": "markdown",
   "metadata": {},
   "source": [
    "# D) RNN"
   ]
  },
  {
   "cell_type": "code",
   "execution_count": 59,
   "metadata": {},
   "outputs": [],
   "source": [
    "def build_model_d(n_tokens=len(tokens), n_cat_features=len(categorical_vectorizer.vocabulary_), hid_size=64, dropout_rate=0):\n",
    "    \"\"\" Build a model that maps three data sources to a single linear output: predicted log1p(salary) \"\"\"\n",
    "    \n",
    "    l_title = layers.Input(shape=[None], name=\"Title\")\n",
    "    l_descr = layers.Input(shape=[None], name=\"FullDescription\")\n",
    "    l_categ = layers.Input(shape=[n_cat_features], name=\"Categorical\")\n",
    "    \n",
    "    # Build your monster!\n",
    "    #title\n",
    "    title_emb = layers.Embedding(n_tokens, 32)(l_title) # batch*input -> batch*input*32\n",
    "    title_lstm1 = layers.LSTM(64)(title_emb)\n",
    "    title_d1 = layers.Dense(units=64, activation='relu')(title_lstm1)\n",
    "    \n",
    "    #descr\n",
    "    descr_emb = layers.Embedding(n_tokens, 32)(l_descr) # batch*input -> batch*input*32\n",
    "    descr_lstm1 = layers.LSTM(128)(descr_emb)\n",
    "    descr_d1 = layers.Dense(units=128, activation='relu')(descr_lstm1)\n",
    "    \n",
    "    #categ\n",
    "    categ_d1 = layers.Dense(units=1024, activation='relu')(l_categ)\n",
    "    categ_dropout1 = layers.Dropout(dropout_rate)(categ_d1)\n",
    "    categ_d2 = layers.Dense(units=512, activation='relu')(categ_dropout1)\n",
    "    categ_dropout2 = layers.Dropout(dropout_rate)(categ_d2)\n",
    "    categ_d3 = layers.Dense(units=256, activation='relu')(categ_dropout2)\n",
    "    \n",
    "    \n",
    "    concat = layers.Concatenate(axis=1)([title_d1, descr_d1, categ_d3])\n",
    "    dense1 = layers.Dense(units=256, activation='relu')(concat)\n",
    "    dropout1 = layers.Dropout(dropout_rate)(dense1)\n",
    "    dense2 = layers.Dense(units=256, activation='relu')(dropout1)\n",
    "    dropout2 = layers.Dropout(dropout_rate)(dense2)\n",
    "    dense3 = layers.Dense(units=128, activation='relu')(dropout2)\n",
    "    dropout3 = layers.Dropout(dropout_rate)(dense3)\n",
    "    dense4 = layers.Dense(units=64, activation='relu')(dropout3)\n",
    "    dropout4 = layers.Dropout(dropout_rate)(dense4)\n",
    "    dense5 = layers.Dense(units=32, activation='relu')(dropout4)\n",
    "    dense6 = layers.Dense(units=16, activation='relu')(dense5)\n",
    "    \n",
    "    output_layer = layers.Dense(units=1, activation='relu')(dense6)\n",
    "    # end of your code\n",
    "    \n",
    "    model = ts.keras.models.Model(inputs=[l_title, l_descr, l_categ], outputs=[output_layer])\n",
    "    model.compile('adam', 'mean_squared_error', metrics=['mean_absolute_error'])\n",
    "    return model"
   ]
  },
  {
   "cell_type": "code",
   "execution_count": 60,
   "metadata": {},
   "outputs": [
    {
     "name": "stdout",
     "output_type": "stream",
     "text": [
      "{'dropout_rate': 0.1}\n",
      "<function build_model_d at 0x13a560e50>\n",
      "Model: \"model_8\"\n",
      "__________________________________________________________________________________________________\n",
      "Layer (type)                    Output Shape         Param #     Connected to                     \n",
      "==================================================================================================\n",
      "Categorical (InputLayer)        [(None, 3768)]       0                                            \n",
      "__________________________________________________________________________________________________\n",
      "dense_69 (Dense)                (None, 1024)         3859456     Categorical[0][0]                \n",
      "__________________________________________________________________________________________________\n",
      "Title (InputLayer)              [(None, None)]       0                                            \n",
      "__________________________________________________________________________________________________\n",
      "FullDescription (InputLayer)    [(None, None)]       0                                            \n",
      "__________________________________________________________________________________________________\n",
      "dropout_36 (Dropout)            (None, 1024)         0           dense_69[0][0]                   \n",
      "__________________________________________________________________________________________________\n",
      "embedding_20 (Embedding)        (None, None, 32)     1093056     Title[0][0]                      \n",
      "__________________________________________________________________________________________________\n",
      "embedding_21 (Embedding)        (None, None, 32)     1093056     FullDescription[0][0]            \n",
      "__________________________________________________________________________________________________\n",
      "dense_70 (Dense)                (None, 512)          524800      dropout_36[0][0]                 \n",
      "__________________________________________________________________________________________________\n",
      "lstm_4 (LSTM)                   (None, 64)           24832       embedding_20[0][0]               \n",
      "__________________________________________________________________________________________________\n",
      "lstm_5 (LSTM)                   (None, 128)          82432       embedding_21[0][0]               \n",
      "__________________________________________________________________________________________________\n",
      "dropout_37 (Dropout)            (None, 512)          0           dense_70[0][0]                   \n",
      "__________________________________________________________________________________________________\n",
      "dense_67 (Dense)                (None, 64)           4160        lstm_4[0][0]                     \n",
      "__________________________________________________________________________________________________\n",
      "dense_68 (Dense)                (None, 128)          16512       lstm_5[0][0]                     \n",
      "__________________________________________________________________________________________________\n",
      "dense_71 (Dense)                (None, 256)          131328      dropout_37[0][0]                 \n",
      "__________________________________________________________________________________________________\n",
      "concatenate_9 (Concatenate)     (None, 448)          0           dense_67[0][0]                   \n",
      "                                                                 dense_68[0][0]                   \n",
      "                                                                 dense_71[0][0]                   \n",
      "__________________________________________________________________________________________________\n",
      "dense_72 (Dense)                (None, 256)          114944      concatenate_9[0][0]              \n",
      "__________________________________________________________________________________________________\n",
      "dropout_38 (Dropout)            (None, 256)          0           dense_72[0][0]                   \n",
      "__________________________________________________________________________________________________\n",
      "dense_73 (Dense)                (None, 256)          65792       dropout_38[0][0]                 \n",
      "__________________________________________________________________________________________________\n",
      "dropout_39 (Dropout)            (None, 256)          0           dense_73[0][0]                   \n",
      "__________________________________________________________________________________________________\n",
      "dense_74 (Dense)                (None, 128)          32896       dropout_39[0][0]                 \n",
      "__________________________________________________________________________________________________\n",
      "dropout_40 (Dropout)            (None, 128)          0           dense_74[0][0]                   \n",
      "__________________________________________________________________________________________________\n",
      "dense_75 (Dense)                (None, 64)           8256        dropout_40[0][0]                 \n",
      "__________________________________________________________________________________________________\n",
      "dropout_41 (Dropout)            (None, 64)           0           dense_75[0][0]                   \n",
      "__________________________________________________________________________________________________\n",
      "dense_76 (Dense)                (None, 32)           2080        dropout_41[0][0]                 \n",
      "__________________________________________________________________________________________________\n",
      "dense_77 (Dense)                (None, 16)           528         dense_76[0][0]                   \n",
      "__________________________________________________________________________________________________\n",
      "dense_78 (Dense)                (None, 1)            17          dense_77[0][0]                   \n",
      "==================================================================================================\n",
      "Total params: 7,054,145\n",
      "Trainable params: 7,054,145\n",
      "Non-trainable params: 0\n",
      "__________________________________________________________________________________________________\n",
      "Epoch 1/10\n",
      "100/100 [==============================] - 462s 5s/step - loss: 31.2421 - mean_absolute_error: 4.0930 - val_loss: 1.4796 - val_mean_absolute_error: 1.1036\n",
      "Epoch 2/10\n",
      "100/100 [==============================] - 398s 4s/step - loss: 1.2216 - mean_absolute_error: 0.8798 - val_loss: 2.9058 - val_mean_absolute_error: 1.6376\n",
      "Epoch 3/10\n",
      "100/100 [==============================] - 403s 4s/step - loss: 1.1323 - mean_absolute_error: 0.8413 - val_loss: 4.4573 - val_mean_absolute_error: 2.0615\n",
      "Epoch 4/10\n",
      "100/100 [==============================] - 367s 4s/step - loss: 0.7422 - mean_absolute_error: 0.6811 - val_loss: 3.4321 - val_mean_absolute_error: 1.8108\n",
      "Epoch 5/10\n",
      "100/100 [==============================] - 357s 4s/step - loss: 0.7098 - mean_absolute_error: 0.6672 - val_loss: 5.9830 - val_mean_absolute_error: 2.4169\n",
      "Epoch 6/10\n",
      "100/100 [==============================] - 357s 4s/step - loss: 0.5483 - mean_absolute_error: 0.5826 - val_loss: 5.5213 - val_mean_absolute_error: 2.3246\n",
      "Epoch 7/10\n",
      "100/100 [==============================] - 374s 4s/step - loss: 0.4998 - mean_absolute_error: 0.5587 - val_loss: 6.3718 - val_mean_absolute_error: 2.5021\n",
      "Epoch 8/10\n",
      "100/100 [==============================] - 365s 4s/step - loss: 0.4145 - mean_absolute_error: 0.5050 - val_loss: 6.3279 - val_mean_absolute_error: 2.4951\n",
      "Epoch 9/10\n",
      "100/100 [==============================] - 365s 4s/step - loss: 0.4304 - mean_absolute_error: 0.5148 - val_loss: 5.2920 - val_mean_absolute_error: 2.2784\n",
      "Epoch 10/10\n",
      "100/100 [==============================] - 358s 4s/step - loss: 0.4188 - mean_absolute_error: 0.5090 - val_loss: 6.8440 - val_mean_absolute_error: 2.5971\n",
      "Train results:\n",
      "Mean square error: 6.80982\n",
      "Mean absolute error: 2.59108\n",
      "Val results:\n",
      "Mean square error: 6.84988\n",
      "Mean absolute error: 2.59825\n"
     ]
    },
    {
     "data": {
      "image/png": "[encoded data removed]",
      "text/plain": [
       "<Figure size 432x288 with 1 Axes>"
      ]
     },
     "metadata": {
      "needs_background": "light"
     },
     "output_type": "display_data"
    },
    {
     "data": {
      "image/png": "[encoded data removed]",
      "text/plain": [
       "<Figure size 432x288 with 1 Axes>"
      ]
     },
     "metadata": {
      "needs_background": "light"
     },
     "output_type": "display_data"
    }
   ],
   "source": [
    "# Apply basic RNN\n",
    "run_model(build_model_d, dropout_rate=0.1)"
   ]
  },
  {
   "cell_type": "code",
   "execution_count": null,
   "metadata": {},
   "outputs": [],
   "source": []
  },
  {
   "cell_type": "code",
   "execution_count": null,
   "metadata": {},
   "outputs": [],
   "source": [
    "# < A whole lot of your code > - models, charts, analysis"
   ]
  },
  {
   "cell_type": "markdown",
   "metadata": {},
   "source": [
    "### A short report\n",
    "\n",
    "Please tell us what you did and how did it work.\n",
    "\n",
    "`<YOUR_TEXT_HERE>`, i guess..."
   ]
  },
  {
   "cell_type": "markdown",
   "metadata": {},
   "source": [
    "## Recommended options\n",
    "\n",
    "#### A) CNN architecture\n",
    "\n",
    "All the tricks you know about dense and convolutional neural networks apply here as well.\n",
    "* Dropout. Nuff said.\n",
    "* Batch Norm. This time it's `nn.BatchNorm*`/`L.BatchNormalization`\n",
    "* Parallel convolution layers. The idea is that you apply several nn.Conv1d to the same embeddings and concatenate output channels.\n",
    "* More layers, more neurons, ya know...\n",
    "\n",
    "\n",
    "#### B) Play with pooling\n",
    "\n",
    "There's more than one way to perform pooling:\n",
    "* Max over time (independently for each feature)\n",
    "* Average over time (excluding PAD)\n",
    "* Softmax-pooling:\n",
    "$$ out_{i, t} = \\sum_t {h_{i,t} \\cdot {{e ^ {h_{i, t}}} \\over \\sum_\\tau e ^ {h_{j, \\tau}} } }$$\n",
    "\n",
    "* Attentive pooling\n",
    "$$ out_{i, t} = \\sum_t {h_{i,t} \\cdot Attn(h_t)}$$\n",
    "\n",
    ", where $$ Attn(h_t) = {{e ^ {NN_{attn}(h_t)}} \\over \\sum_\\tau e ^ {NN_{attn}(h_\\tau)}}  $$\n",
    "and $NN_{attn}$ is a dense layer.\n",
    "\n",
    "The optimal score is usually achieved by concatenating several different poolings, including several attentive pooling with different $NN_{attn}$ (aka multi-headed attention).\n",
    "\n",
    "The catch is that keras layers do not inlude those toys. You will have to [write your own keras layer](https://keras.io/layers/writing-your-own-keras-layers/). Or use pure tensorflow, it might even be easier :)\n",
    "\n",
    "#### C) Fun with words\n",
    "\n",
    "It's not always a good idea to train embeddings from scratch. Here's a few tricks:\n",
    "\n",
    "* Use a pre-trained embeddings from `gensim.downloader.load`. See last lecture.\n",
    "* Start with pre-trained embeddings, then fine-tune them with gradient descent. You may or may not download pre-trained embeddings from [here](http://nlp.stanford.edu/data/glove.6B.zip) and follow this [manual](https://keras.io/examples/nlp/pretrained_word_embeddings/) to initialize your Keras embedding layer with downloaded weights.\n",
    "* Use the same embedding matrix in title and desc vectorizer\n",
    "\n",
    "\n",
    "#### D) Going recurrent\n",
    "\n",
    "We've already learned that recurrent networks can do cool stuff in sequence modelling. Turns out, they're not useless for classification as well. With some tricks of course..\n",
    "\n",
    "* Like convolutional layers, LSTM should be pooled into a fixed-size vector with some of the poolings.\n",
    "* Since you know all the text in advance, use bidirectional RNN\n",
    "  * Run one LSTM from left to right\n",
    "  * Run another in parallel from right to left \n",
    "  * Concatenate their output sequences along unit axis (dim=-1)\n",
    "\n",
    "* It might be good idea to mix convolutions and recurrent layers differently for title and description\n",
    "\n",
    "\n",
    "#### E) Optimizing seriously\n",
    "\n",
    "* You don't necessarily need 100 epochs. Use early stopping. If you've never done this before, take a look at [early stopping callback(keras)](https://keras.io/callbacks/#earlystopping) or in [pytorch(lightning)](https://pytorch-lightning.readthedocs.io/en/latest/common/early_stopping.html).\n",
    "  * In short, train until you notice that validation\n",
    "  * Maintain the best-on-validation snapshot via `model.save(file_name)`\n",
    "  * Plotting learning curves is usually a good idea\n",
    "  \n",
    "Good luck! And may the force be with you!"
   ]
  },
  {
   "cell_type": "code",
   "execution_count": null,
   "metadata": {},
   "outputs": [],
   "source": []
  }
 ],
 "metadata": {
  "kernelspec": {
   "display_name": "sudoku382",
   "language": "python",
   "name": "sudoku382"
  },
  "language_info": {
   "codemirror_mode": {
    "name": "ipython",
    "version": 3
   },
   "file_extension": ".py",
   "mimetype": "text/x-python",
   "name": "python",
   "nbconvert_exporter": "python",
   "pygments_lexer": "ipython3",
   "version": "3.8.2"
  }
 },
 "nbformat": 4,
 "nbformat_minor": 4
}

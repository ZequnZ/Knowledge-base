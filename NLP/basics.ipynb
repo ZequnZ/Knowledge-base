{
 "cells": [
  {
   "cell_type": "markdown",
   "id": "defensive-pacific",
   "metadata": {},
   "source": [
    "# Basic knowledge"
   ]
  },
  {
   "cell_type": "code",
   "execution_count": null,
   "id": "sunrise-decrease",
   "metadata": {},
   "outputs": [],
   "source": []
  },
  {
   "cell_type": "markdown",
   "id": "desirable-meaning",
   "metadata": {},
   "source": [
    "## Bag-of-words model\n",
    "\n",
    "ref:   \n",
    "[link](https://www.bookstack.cn/read/duoergun0729-nlp/%E8%AF%8D%E8%A2%8B%E6%A8%A1%E5%9E%8B%E5%92%8CTFIDF%E6%A8%A1%E5%9E%8B.md)  \n",
    "[sklearn text-feature-extraction](https://scikit-learn.org/stable/modules/feature_extraction.html#text-feature-extraction)"
   ]
  },
  {
   "cell_type": "code",
   "execution_count": 1,
   "id": "employed-library",
   "metadata": {},
   "outputs": [],
   "source": [
    "from sklearn.feature_extraction.text import CountVectorizer"
   ]
  },
  {
   "cell_type": "code",
   "execution_count": 23,
   "id": "assigned-granny",
   "metadata": {},
   "outputs": [
    {
     "name": "stdout",
     "output_type": "stream",
     "text": [
      "[[0 1 1 0 1 0 0 0 0 1 0 1]\n",
      " [0 1 0 0 1 0 0 0 2 1 0 1]\n",
      " [1 0 0 0 0 0 0 1 0 1 1 0]\n",
      " [0 1 1 0 1 0 0 0 0 1 0 1]\n",
      " [0 1 1 0 0 1 0 0 0 1 0 0]\n",
      " [0 1 1 1 0 0 1 0 0 1 0 0]]\n"
     ]
    },
    {
     "data": {
      "text/plain": [
       "{'this': 11,\n",
       " 'is': 4,\n",
       " 'the': 9,\n",
       " 'first': 2,\n",
       " 'document': 1,\n",
       " 'second': 8,\n",
       " 'and': 0,\n",
       " 'third': 10,\n",
       " 'one': 7,\n",
       " 'like': 5,\n",
       " 'he': 3,\n",
       " 'likes': 6}"
      ]
     },
     "execution_count": 23,
     "metadata": {},
     "output_type": "execute_result"
    }
   ],
   "source": [
    "corpus = [\n",
    "    'This is the first document.',\n",
    "    'This is the second second document.',\n",
    "    'And the third one.',\n",
    "    'Is this the first document?',\n",
    "    'I like the first document.',\n",
    "    'He likes the first document.',\n",
    "]\n",
    "\n",
    "vectorizer = CountVectorizer(min_df=1)\n",
    "X = vectorizer.fit_transform(corpus)\n",
    "\n",
    "print(X.toarray())\n",
    "vectorizer.vocabulary_\n"
   ]
  },
  {
   "cell_type": "code",
   "execution_count": 18,
   "id": "freelance-angle",
   "metadata": {},
   "outputs": [
    {
     "name": "stdout",
     "output_type": "stream",
     "text": [
      "[[1 0 0 0]\n",
      " [1 0 0 2]\n",
      " [0 0 0 0]\n",
      " [1 0 0 0]\n",
      " [1 1 0 0]\n",
      " [1 0 1 0]]\n",
      "{'document': 0, 'second': 3, 'like': 1, 'likes': 2}\n"
     ]
    },
    {
     "data": {
      "text/plain": [
       "['document', 'like', 'likes', 'second']"
      ]
     },
     "execution_count": 18,
     "metadata": {},
     "output_type": "execute_result"
    }
   ],
   "source": [
    "vectorizer2 = CountVectorizer(min_df=1, stop_words='english')\n",
    "X = vectorizer2.fit_transform(corpus)\n",
    "\n",
    "print(X.toarray())\n",
    "print(vectorizer2.vocabulary_)\n",
    "vectorizer2.get_feature_names()"
   ]
  },
  {
   "cell_type": "code",
   "execution_count": 21,
   "id": "fatal-encounter",
   "metadata": {
    "collapsed": true,
    "jupyter": {
     "outputs_hidden": true
    },
    "tags": []
   },
   "outputs": [
    {
     "name": "stdout",
     "output_type": "stream",
     "text": [
      "Package                  Version\n",
      "------------------------ -----------\n",
      "absl-py                  0.11.0\n",
      "anyio                    2.1.0\n",
      "appdirs                  1.4.4\n",
      "appnope                  0.1.2\n",
      "APScheduler              3.6.3\n",
      "argon2-cffi              20.1.0\n",
      "astunparse               1.6.3\n",
      "async-generator          1.10\n",
      "attrs                    20.3.0\n",
      "Babel                    2.9.0\n",
      "backcall                 0.2.0\n",
      "backports.zoneinfo       0.2.1\n",
      "black                    20.8b1\n",
      "bleach                   3.3.0\n",
      "boto3                    1.24.81\n",
      "botocore                 1.27.81\n",
      "CacheControl             0.12.6\n",
      "cachetools               4.2.2\n",
      "cachy                    0.3.0\n",
      "certifi                  2020.12.5\n",
      "cffi                     1.14.5\n",
      "chardet                  4.0.0\n",
      "cleo                     0.8.1\n",
      "click                    7.1.2\n",
      "clikit                   0.6.2\n",
      "crashtest                0.3.1\n",
      "cycler                   0.10.0\n",
      "decorator                4.4.2\n",
      "defusedxml               0.6.0\n",
      "dill                     0.3.3\n",
      "distlib                  0.3.1\n",
      "entrypoints              0.3\n",
      "filelock                 3.0.12\n",
      "flatbuffers              1.12\n",
      "future                   0.18.2\n",
      "gast                     0.3.3\n",
      "google-auth              1.27.1\n",
      "google-auth-oauthlib     0.4.3\n",
      "google-pasta             0.2.0\n",
      "googleapis-common-protos 1.53.0\n",
      "grpcio                   1.32.0\n",
      "h5py                     2.10.0\n",
      "html2text                2020.1.16\n",
      "html5lib                 1.1\n",
      "idna                     2.10\n",
      "imageio                  2.9.0\n",
      "importlib-resources      5.1.2\n",
      "ipykernel                5.5.0\n",
      "ipython                  7.20.0\n",
      "ipython-genutils         0.2.0\n",
      "ipywidgets               7.6.3\n",
      "jedi                     0.18.0\n",
      "Jinja2                   2.11.3\n",
      "jmespath                 1.0.1\n",
      "joblib                   1.0.1\n",
      "json5                    0.9.5\n",
      "jsonschema               3.2.0\n",
      "jupyter-client           6.1.11\n",
      "jupyter-core             4.7.1\n",
      "jupyter-server           1.4.0\n",
      "jupyterlab               3.0.8\n",
      "jupyterlab-pygments      0.1.2\n",
      "jupyterlab-server        2.3.0\n",
      "jupyterlab-widgets       1.0.0\n",
      "Keras-Preprocessing      1.1.2\n",
      "keyring                  21.8.0\n",
      "kiwisolver               1.3.1\n",
      "lockfile                 0.12.2\n",
      "Markdown                 3.3.4\n",
      "MarkupSafe               1.1.1\n",
      "matplotlib               3.3.4\n",
      "mistune                  0.8.4\n",
      "msgpack                  1.0.2\n",
      "mypy-extensions          0.4.3\n",
      "nb-black                 1.0.7\n",
      "nbclassic                0.2.6\n",
      "nbclient                 0.5.2\n",
      "nbconvert                6.0.7\n",
      "nbformat                 5.1.2\n",
      "nest-asyncio             1.5.1\n",
      "networkx                 2.5\n",
      "notebook                 6.2.0\n",
      "numpy                    1.19.2\n",
      "oauthlib                 3.1.0\n",
      "opencv-python            4.5.1.48\n",
      "opt-einsum               3.3.0\n",
      "packaging                20.9\n",
      "pandas                   1.2.3\n",
      "pandocfilters            1.4.3\n",
      "parso                    0.8.1\n",
      "pastel                   0.2.1\n",
      "pathspec                 0.8.1\n",
      "pexpect                  4.8.0\n",
      "pickleshare              0.7.5\n",
      "Pillow                   8.1.0\n",
      "pip                      21.0.1\n",
      "pkginfo                  1.7.0\n",
      "poetry                   1.1.4\n",
      "poetry-core              1.0.2\n",
      "prometheus-client        0.9.0\n",
      "promise                  2.3\n",
      "prompt-toolkit           3.0.16\n",
      "protobuf                 3.15.5\n",
      "ptyprocess               0.7.0\n",
      "pyarrow                  4.0.1\n",
      "pyasn1                   0.4.8\n",
      "pyasn1-modules           0.2.8\n",
      "pycparser                2.20\n",
      "Pygments                 2.8.0\n",
      "pylev                    1.3.0\n",
      "pyparsing                2.4.7\n",
      "pyrsistent               0.17.3\n",
      "pytesseract              0.3.7\n",
      "python-dateutil          2.8.1\n",
      "python-telegram-bot      13.14\n",
      "pytz                     2021.1\n",
      "pytz-deprecation-shim    0.1.0.post0\n",
      "PyWavelets               1.1.1\n",
      "PyYAML                   6.0\n",
      "pyzmq                    22.0.3\n",
      "regex                    2020.11.13\n",
      "requests                 2.25.1\n",
      "requests-oauthlib        1.3.0\n",
      "requests-toolbelt        0.9.1\n",
      "rsa                      4.7.2\n",
      "s3transfer               0.6.0\n",
      "scikit-image             0.18.1\n",
      "scikit-learn             0.24.1\n",
      "scipy                    1.6.1\n",
      "selective-search         0.1.2.2\n",
      "Send2Trash               1.5.0\n",
      "setuptools               41.2.0\n",
      "shellingham              1.4.0\n",
      "six                      1.15.0\n",
      "sklearn                  0.0\n",
      "sniffio                  1.2.0\n",
      "telegram                 0.0.1\n",
      "tensorboard              2.4.1\n",
      "tensorboard-plugin-wit   1.8.0\n",
      "tensorflow               2.4.1\n",
      "tensorflow-datasets      4.2.0\n",
      "tensorflow-estimator     2.4.0\n",
      "tensorflow-metadata      0.28.0\n",
      "termcolor                1.1.0\n",
      "terminado                0.9.2\n",
      "testpath                 0.4.4\n",
      "threadpoolctl            2.1.0\n",
      "tifffile                 2021.3.4\n",
      "toml                     0.10.2\n",
      "tomlkit                  0.7.0\n",
      "tornado                  6.1\n",
      "tqdm                     4.57.0\n",
      "traitlets                5.0.5\n",
      "typed-ast                1.4.2\n",
      "typing-extensions        3.7.4.3\n",
      "tzdata                   2022.6\n",
      "tzlocal                  4.2\n",
      "urllib3                  1.26.3\n",
      "virtualenv               20.4.2\n",
      "wcwidth                  0.2.5\n",
      "webencodings             0.5.1\n",
      "Werkzeug                 1.0.1\n",
      "wheel                    0.36.2\n",
      "widgetsnbextension       3.5.1\n",
      "wrapt                    1.12.1\n",
      "xgboost                  1.6.2\n",
      "\u001b[33mWARNING: You are using pip version 21.0.1; however, version 23.0 is available.\n",
      "You should consider upgrading via the '/Users/zequnzhou/.pyenv/versions/3.8.2/envs/sudoku382/bin/python3.8 -m pip install --upgrade pip' command.\u001b[0m\n"
     ]
    }
   ],
   "source": [
    "!pip list"
   ]
  },
  {
   "cell_type": "markdown",
   "id": "about-produce",
   "metadata": {},
   "source": [
    "## tf-idf"
   ]
  },
  {
   "cell_type": "code",
   "execution_count": 22,
   "id": "democratic-newton",
   "metadata": {},
   "outputs": [
    {
     "data": {
      "text/plain": [
       "TfidfTransformer(smooth_idf=False)"
      ]
     },
     "execution_count": 22,
     "metadata": {},
     "output_type": "execute_result"
    }
   ],
   "source": [
    "from sklearn.feature_extraction.text import TfidfTransformer\n",
    "transformer = TfidfTransformer(smooth_idf=False)\n",
    "transformer"
   ]
  },
  {
   "cell_type": "code",
   "execution_count": 24,
   "id": "clean-aggregate",
   "metadata": {},
   "outputs": [
    {
     "data": {
      "text/plain": [
       "array([[0, 1, 1, 0, 1, 0, 0, 0, 0, 1, 0, 1],\n",
       "       [0, 1, 0, 0, 1, 0, 0, 0, 2, 1, 0, 1],\n",
       "       [1, 0, 0, 0, 0, 0, 0, 1, 0, 1, 1, 0],\n",
       "       [0, 1, 1, 0, 1, 0, 0, 0, 0, 1, 0, 1],\n",
       "       [0, 1, 1, 0, 0, 1, 0, 0, 0, 1, 0, 0],\n",
       "       [0, 1, 1, 1, 0, 0, 1, 0, 0, 1, 0, 0]])"
      ]
     },
     "execution_count": 24,
     "metadata": {},
     "output_type": "execute_result"
    }
   ],
   "source": [
    "# Use the corpus from above again \n",
    "corpus = [\n",
    "    'This is the first document.',\n",
    "    'This is the second second document.',\n",
    "    'And the third one.',\n",
    "    'Is this the first document?',\n",
    "    'I like the first document.',\n",
    "    'He likes the first document.',\n",
    "]\n",
    "\n",
    "vectorizer = CountVectorizer(min_df=1)\n",
    "X = vectorizer.fit_transform(corpus)\n",
    "term_counts = X.toarray()\n",
    "term_counts"
   ]
  },
  {
   "cell_type": "code",
   "execution_count": 26,
   "id": "genuine-wheat",
   "metadata": {},
   "outputs": [
    {
     "data": {
      "text/plain": [
       "<6x12 sparse matrix of type '<class 'numpy.float64'>'\n",
       "\twith 28 stored elements in Compressed Sparse Row format>"
      ]
     },
     "execution_count": 26,
     "metadata": {},
     "output_type": "execute_result"
    }
   ],
   "source": [
    "tfidf = transformer.fit_transform(term_counts)\n"
   ]
  },
  {
   "cell_type": "code",
   "execution_count": 27,
   "id": "returning-young",
   "metadata": {
    "tags": []
   },
   "outputs": [
    {
     "data": {
      "text/plain": [
       "array([[0.        , 0.37190386, 0.44209453, 0.        , 0.53258605,\n",
       "        0.        , 0.        , 0.        , 0.        , 0.3145539 ,\n",
       "        0.        , 0.53258605],\n",
       "       [0.        , 0.18858203, 0.        , 0.        , 0.27005947,\n",
       "        0.        , 0.        , 0.        , 0.89057951, 0.15950148,\n",
       "        0.        , 0.27005947],\n",
       "       [0.56538652, 0.        , 0.        , 0.        , 0.        ,\n",
       "        0.        , 0.        , 0.56538652, 0.        , 0.20251978,\n",
       "        0.56538652, 0.        ],\n",
       "       [0.        , 0.37190386, 0.44209453, 0.        , 0.53258605,\n",
       "        0.        , 0.        , 0.        , 0.        , 0.3145539 ,\n",
       "        0.        , 0.53258605],\n",
       "       [0.        , 0.3389545 , 0.40292653, 0.        , 0.        ,\n",
       "        0.80035708, 0.        , 0.        , 0.        , 0.28668554,\n",
       "        0.        , 0.        ],\n",
       "       [0.        , 0.26463289, 0.31457796, 0.62486502, 0.        ,\n",
       "        0.        , 0.62486502, 0.        , 0.        , 0.22382481,\n",
       "        0.        , 0.        ]])"
      ]
     },
     "execution_count": 27,
     "metadata": {},
     "output_type": "execute_result"
    }
   ],
   "source": [
    "tfidf.toarray()"
   ]
  },
  {
   "cell_type": "code",
   "execution_count": 30,
   "id": "owned-tennis",
   "metadata": {},
   "outputs": [
    {
     "data": {
      "text/plain": [
       "array([2.79175947, 1.18232156, 1.40546511, 2.79175947, 1.69314718,\n",
       "       2.79175947, 2.79175947, 2.79175947, 2.79175947, 1.        ,\n",
       "       2.79175947, 1.69314718])"
      ]
     },
     "execution_count": 30,
     "metadata": {},
     "output_type": "execute_result"
    }
   ],
   "source": [
    "transformer.idf_"
   ]
  },
  {
   "cell_type": "code",
   "execution_count": null,
   "id": "lesser-kernel",
   "metadata": {},
   "outputs": [],
   "source": [
    "# New in Pandas version 1.0\n",
    "#transformer.feature_names_in_"
   ]
  },
  {
   "cell_type": "markdown",
   "id": "ea5a6c39-3a77-4a25-918e-5018a05f4ed7",
   "metadata": {},
   "source": [
    "---"
   ]
  },
  {
   "cell_type": "markdown",
   "id": "6023a338-6a50-449e-b47a-affb2dcd2b70",
   "metadata": {},
   "source": [
    "# Test tensor"
   ]
  },
  {
   "cell_type": "code",
   "execution_count": 3,
   "id": "fcdde9e5-93d4-4b87-92fe-c563267971ad",
   "metadata": {},
   "outputs": [],
   "source": [
    "import tensorflow as tf"
   ]
  },
  {
   "cell_type": "code",
   "execution_count": 8,
   "id": "34380791-904e-4030-b1da-58f1cb4ec46e",
   "metadata": {},
   "outputs": [
    {
     "data": {
      "text/plain": [
       "<tf.Tensor: shape=(1, 3), dtype=int32, numpy=array([[1, 2, 3]], dtype=int32)>"
      ]
     },
     "execution_count": 8,
     "metadata": {},
     "output_type": "execute_result"
    }
   ],
   "source": [
    "tf_con = tf.constant([[1,2,3]])\n",
    "tf_con"
   ]
  },
  {
   "cell_type": "code",
   "execution_count": 9,
   "id": "d11e4c4e-8b7d-456c-b247-acddc37fd55e",
   "metadata": {},
   "outputs": [
    {
     "name": "stdout",
     "output_type": "stream",
     "text": [
      "(1, 3) 2 <dtype: 'int32'>\n",
      "tf.Tensor([1 3], shape=(2,), dtype=int32)\n"
     ]
    }
   ],
   "source": [
    "print(tf_con.shape, tf_con.ndim, tf_con.dtype)\n",
    "print(tf.shape(tf_con))"
   ]
  },
  {
   "cell_type": "code",
   "execution_count": 10,
   "id": "e8e51382-ba7a-44e3-b6f5-54769d04e6d4",
   "metadata": {},
   "outputs": [
    {
     "data": {
      "text/plain": [
       "<tf.Tensor: shape=(1, 3), dtype=int32, numpy=array([[2, 4, 6]], dtype=int32)>"
      ]
     },
     "execution_count": 10,
     "metadata": {},
     "output_type": "execute_result"
    }
   ],
   "source": [
    "tf_con*2"
   ]
  },
  {
   "cell_type": "code",
   "execution_count": 11,
   "id": "d74009b0-4820-4159-9c90-3d576fa9a97a",
   "metadata": {},
   "outputs": [
    {
     "data": {
      "text/plain": [
       "<tf.Variable 'Variable:0' shape=(1, 3) dtype=int32, numpy=array([[1, 2, 3]], dtype=int32)>"
      ]
     },
     "execution_count": 11,
     "metadata": {},
     "output_type": "execute_result"
    }
   ],
   "source": [
    "tf_var = tf.Variable(tf_con)\n",
    "tf_var"
   ]
  },
  {
   "cell_type": "code",
   "execution_count": 12,
   "id": "b1d77367-77a3-427b-961a-bca8fad9b5d6",
   "metadata": {},
   "outputs": [
    {
     "data": {
      "text/plain": [
       "<tf.Tensor: shape=(2, 2), dtype=int32, numpy=\n",
       "array([[1, 3],\n",
       "       [2, 0]], dtype=int32)>"
      ]
     },
     "execution_count": 12,
     "metadata": {},
     "output_type": "execute_result"
    }
   ],
   "source": [
    "tf.constant([[1, 3],[2,0]])"
   ]
  },
  {
   "cell_type": "code",
   "execution_count": 18,
   "id": "867af2f1-8e56-4d79-a822-1cf5343d804e",
   "metadata": {},
   "outputs": [
    {
     "data": {
      "text/plain": [
       "array([[[ True, False, False],\n",
       "        [ True,  True,  True]],\n",
       "\n",
       "       [[ True,  True, False],\n",
       "        [False, False, False]]])"
      ]
     },
     "execution_count": 18,
     "metadata": {},
     "output_type": "execute_result"
    }
   ],
   "source": [
    "tf.sequence_mask([[1, 3],[2,0]]).numpy()"
   ]
  },
  {
   "cell_type": "code",
   "execution_count": 22,
   "id": "7efe16fd-7a58-4db4-a65f-825d20783dd3",
   "metadata": {},
   "outputs": [
    {
     "data": {
      "text/plain": [
       "<tf.Variable 'Variable:0' shape=(10,) dtype=int32, numpy=array([0, 1, 2, 3, 4, 5, 6, 7, 8, 9], dtype=int32)>"
      ]
     },
     "execution_count": 22,
     "metadata": {},
     "output_type": "execute_result"
    }
   ],
   "source": [
    "a=tf.Variable([i for i in range(10)])\n",
    "a"
   ]
  },
  {
   "cell_type": "code",
   "execution_count": 38,
   "id": "9947c30b-1f57-469e-81a8-7f657320606b",
   "metadata": {},
   "outputs": [
    {
     "data": {
      "text/plain": [
       "<tf.Tensor: shape=(10,), dtype=bool, numpy=\n",
       "array([ True,  True,  True,  True,  True, False, False, False, False,\n",
       "       False])>"
      ]
     },
     "execution_count": 38,
     "metadata": {},
     "output_type": "execute_result"
    }
   ],
   "source": [
    "b=tf.sequence_mask(5,10)\n",
    "# b = tf.cast(b,dtype=tf.int32)\n",
    "b"
   ]
  },
  {
   "cell_type": "code",
   "execution_count": 26,
   "id": "6c865b1a-10eb-48ae-a447-d2972a090827",
   "metadata": {},
   "outputs": [
    {
     "data": {
      "text/plain": [
       "<tf.Tensor: shape=(10,), dtype=int32, numpy=array([0, 1, 0, 1, 0, 0, 0, 0, 0, 0], dtype=int32)>"
      ]
     },
     "execution_count": 26,
     "metadata": {},
     "output_type": "execute_result"
    }
   ],
   "source": [
    "tf.bitwise.bitwise_and(a,b)"
   ]
  },
  {
   "cell_type": "code",
   "execution_count": 31,
   "id": "4010a6f1-7d23-42b1-8c63-92300f5ef625",
   "metadata": {},
   "outputs": [],
   "source": [
    "c = tf.Variable([100]*10)"
   ]
  },
  {
   "cell_type": "code",
   "execution_count": 41,
   "id": "9ca1ca4d-9c36-49e7-a8b3-c68420e2fcff",
   "metadata": {},
   "outputs": [
    {
     "data": {
      "text/plain": [
       "<tf.Tensor: shape=(10,), dtype=int32, numpy=array([0, 1, 2, 3, 4, 0, 0, 0, 0, 0], dtype=int32)>"
      ]
     },
     "execution_count": 41,
     "metadata": {},
     "output_type": "execute_result"
    }
   ],
   "source": [
    "tf.where(b,a,[0])"
   ]
  },
  {
   "cell_type": "code",
   "execution_count": 43,
   "id": "4754e1d4-6104-42cd-a50a-07f70c9a6779",
   "metadata": {},
   "outputs": [
    {
     "data": {
      "text/plain": [
       "<tf.Variable 'Variable:0' shape=(10,) dtype=int32, numpy=array([0, 1, 2, 3, 4, 5, 6, 7, 8, 9], dtype=int32)>"
      ]
     },
     "execution_count": 43,
     "metadata": {},
     "output_type": "execute_result"
    }
   ],
   "source": [
    "label = tf.Variable([i for i in range(10)])\n",
    "label"
   ]
  },
  {
   "cell_type": "code",
   "execution_count": 66,
   "id": "db4c347b-5c20-4352-a02c-d543ee744d5b",
   "metadata": {},
   "outputs": [
    {
     "data": {
      "text/plain": [
       "<tf.Tensor: shape=(10, 1), dtype=int32, numpy=\n",
       "array([[0],\n",
       "       [1],\n",
       "       [2],\n",
       "       [3],\n",
       "       [4],\n",
       "       [5],\n",
       "       [6],\n",
       "       [7],\n",
       "       [8],\n",
       "       [9]], dtype=int32)>"
      ]
     },
     "execution_count": 66,
     "metadata": {},
     "output_type": "execute_result"
    }
   ],
   "source": [
    "tf.reshape(tf.Variable([[i for i in range(10)]]),[10,1])"
   ]
  },
  {
   "cell_type": "code",
   "execution_count": 67,
   "id": "8f3e7b85-4621-4541-8426-9464d0af253f",
   "metadata": {},
   "outputs": [
    {
     "data": {
      "text/plain": [
       "<tf.Tensor: shape=(10, 10), dtype=int32, numpy=\n",
       "array([[ 0, 10, 20, 30, 40, 50, 60, 70, 80, 90],\n",
       "       [ 1, 11, 21, 31, 41, 51, 61, 71, 81, 91],\n",
       "       [ 2, 12, 22, 32, 42, 52, 62, 72, 82, 92],\n",
       "       [ 3, 13, 23, 33, 43, 53, 63, 73, 83, 93],\n",
       "       [ 4, 14, 24, 34, 44, 54, 64, 74, 84, 94],\n",
       "       [ 5, 15, 25, 35, 45, 55, 65, 75, 85, 95],\n",
       "       [ 6, 16, 26, 36, 46, 56, 66, 76, 86, 96],\n",
       "       [ 7, 17, 27, 37, 47, 57, 67, 77, 87, 97],\n",
       "       [ 8, 18, 28, 38, 48, 58, 68, 78, 88, 98],\n",
       "       [ 9, 19, 29, 39, 49, 59, 69, 79, 89, 99]], dtype=int32)>"
      ]
     },
     "execution_count": 67,
     "metadata": {},
     "output_type": "execute_result"
    }
   ],
   "source": [
    "output = tf.Variable([[i for i in range(10)]])\n",
    "output = tf.broadcast_to(output, [10, 10])\n",
    "output*=10\n",
    "output+= tf.reshape(tf.Variable([[i for i in range(10)]]),[10,1])\n",
    "output"
   ]
  },
  {
   "cell_type": "code",
   "execution_count": 68,
   "id": "ddaba880-8641-4666-899b-3338445a5732",
   "metadata": {},
   "outputs": [
    {
     "name": "stdout",
     "output_type": "stream",
     "text": [
      "0 tf.Tensor(0, shape=(), dtype=int32) tf.Tensor(0, shape=(), dtype=int32)\n",
      "1 tf.Tensor(1, shape=(), dtype=int32) tf.Tensor(11, shape=(), dtype=int32)\n",
      "2 tf.Tensor(2, shape=(), dtype=int32) tf.Tensor(22, shape=(), dtype=int32)\n",
      "3 tf.Tensor(3, shape=(), dtype=int32) tf.Tensor(33, shape=(), dtype=int32)\n",
      "4 tf.Tensor(4, shape=(), dtype=int32) tf.Tensor(44, shape=(), dtype=int32)\n",
      "5 tf.Tensor(5, shape=(), dtype=int32) tf.Tensor(55, shape=(), dtype=int32)\n",
      "6 tf.Tensor(6, shape=(), dtype=int32) tf.Tensor(66, shape=(), dtype=int32)\n",
      "7 tf.Tensor(7, shape=(), dtype=int32) tf.Tensor(77, shape=(), dtype=int32)\n",
      "8 tf.Tensor(8, shape=(), dtype=int32) tf.Tensor(88, shape=(), dtype=int32)\n",
      "9 tf.Tensor(9, shape=(), dtype=int32) tf.Tensor(99, shape=(), dtype=int32)\n"
     ]
    }
   ],
   "source": [
    "for row, value in enumerate(label):\n",
    "    print(row, value, output[row][value])\n",
    "    "
   ]
  },
  {
   "cell_type": "code",
   "execution_count": 84,
   "id": "74f25a69-1288-438f-b68e-14cd388ffb32",
   "metadata": {},
   "outputs": [
    {
     "data": {
      "text/plain": [
       "1.176939193690798"
      ]
     },
     "execution_count": 84,
     "metadata": {},
     "output_type": "execute_result"
    }
   ],
   "source": [
    "-(np.log(0.95)+np.log(0.1))/2"
   ]
  },
  {
   "cell_type": "code",
   "execution_count": 81,
   "id": "886cf78c-2e57-4827-b646-bd85ecf7c170",
   "metadata": {},
   "outputs": [
    {
     "data": {
      "text/plain": [
       "0.0"
      ]
     },
     "execution_count": 81,
     "metadata": {},
     "output_type": "execute_result"
    }
   ],
   "source": [
    "np.log(1)"
   ]
  },
  {
   "cell_type": "code",
   "execution_count": 82,
   "id": "90a3c04d-3d0b-4d7f-9d18-1a5f17ad3783",
   "metadata": {},
   "outputs": [],
   "source": [
    "cce = tf.keras.losses.SparseCategoricalCrossentropy()"
   ]
  },
  {
   "cell_type": "code",
   "execution_count": 83,
   "id": "53b7d17e-aca8-46c2-993a-211dd354875a",
   "metadata": {},
   "outputs": [
    {
     "data": {
      "text/plain": [
       "1.1769392"
      ]
     },
     "execution_count": 83,
     "metadata": {},
     "output_type": "execute_result"
    }
   ],
   "source": [
    "y_true = [1, 2]\n",
    "y_pred = [[0.05, 0.95, 0], [0.1, 0.8, 0.1]]\n",
    "# Using 'auto'/'sum_over_batch_size' reduction type.\n",
    "scce = tf.keras.losses.SparseCategoricalCrossentropy()\n",
    "scce(y_true, y_pred).numpy()"
   ]
  },
  {
   "cell_type": "code",
   "execution_count": 85,
   "id": "4d2b92c6-f58e-4233-b9e0-0bc956342bc0",
   "metadata": {},
   "outputs": [],
   "source": [
    "a = tf.Variable([1])"
   ]
  },
  {
   "cell_type": "code",
   "execution_count": 86,
   "id": "d8efe34c-2e40-431b-8ac2-14b5f16ca7ed",
   "metadata": {},
   "outputs": [
    {
     "name": "stdout",
     "output_type": "stream",
     "text": [
      "tf.Tensor([2], shape=(1,), dtype=int32)\n",
      "tf.Tensor([3], shape=(1,), dtype=int32)\n",
      "tf.Tensor([4], shape=(1,), dtype=int32)\n",
      "tf.Tensor([5], shape=(1,), dtype=int32)\n"
     ]
    }
   ],
   "source": [
    "for _ in range(4):\n",
    "    a = a+1\n",
    "    print(a)"
   ]
  },
  {
   "cell_type": "code",
   "execution_count": 87,
   "id": "521e6778-c15a-4bd7-b177-185ea5a2ec05",
   "metadata": {},
   "outputs": [
    {
     "name": "stdout",
     "output_type": "stream",
     "text": [
      "tf.Tensor(6.0, shape=(), dtype=float32)\n",
      "None\n",
      "None\n",
      "None\n"
     ]
    }
   ],
   "source": [
    "# A trainable variable\n",
    "x0 = tf.Variable(3.0, name='x0')\n",
    "# Not trainable\n",
    "x1 = tf.Variable(3.0, name='x1', trainable=False)\n",
    "# Not a Variable: A variable + tensor returns a tensor.\n",
    "x2 = tf.Variable(2.0, name='x2') + 1.0\n",
    "# Not a variable\n",
    "x3 = tf.constant(3.0, name='x3')\n",
    "\n",
    "with tf.GradientTape() as tape:\n",
    "  y = (x0**2) + (x1**2) + (x2**2)\n",
    "\n",
    "grad = tape.gradient(y, [x0, x1, x2, x3])\n",
    "\n",
    "for g in grad:\n",
    "  print(g)"
   ]
  },
  {
   "cell_type": "code",
   "execution_count": 88,
   "id": "bef6bd69-ea92-42f2-9c74-6476a9b3ef87",
   "metadata": {},
   "outputs": [
    {
     "data": {
      "text/plain": [
       "['x0:0']"
      ]
     },
     "execution_count": 88,
     "metadata": {},
     "output_type": "execute_result"
    }
   ],
   "source": [
    "[var.name for var in tape.watched_variables()]"
   ]
  },
  {
   "cell_type": "code",
   "execution_count": 90,
   "id": "9180fdee-cc5e-493e-b59f-271571253d84",
   "metadata": {},
   "outputs": [
    {
     "name": "stdout",
     "output_type": "stream",
     "text": [
      "tf.Tensor(20.0, shape=(), dtype=float32)\n"
     ]
    }
   ],
   "source": [
    "x = tf.constant(10,dtype=tf.float32)\n",
    "\n",
    "with tf.GradientTape() as g:\n",
    "  g.watch(x)\n",
    "  y = x * x\n",
    "\n",
    "print(g.gradient(y, x))"
   ]
  },
  {
   "cell_type": "code",
   "execution_count": 104,
   "id": "664d8c48-34d6-4f28-99f6-f2003cfead66",
   "metadata": {},
   "outputs": [
    {
     "name": "stdout",
     "output_type": "stream",
     "text": [
      "{'x1': <tf.Tensor: shape=(), dtype=float32, numpy=6.0>, 'x0': <tf.Tensor: shape=(), dtype=float32, numpy=6.0>}\n"
     ]
    }
   ],
   "source": [
    "x0 = tf.Variable(3.0)\n",
    "x1 = tf.Variable(0.0)\n",
    "\n",
    "with tf.GradientTape() as tape:\n",
    "  # Update x1 = x1 + x0.\n",
    "  # x1.assign_add(x0)\n",
    "  # The tape starts recording from x1.\n",
    "  # y = x1**2   # y = (x1 + x0)**2\n",
    "  # y = (x1 + x0)**2\n",
    "  y = x1**2 +x0**2 + 2*x0*x1\n",
    "\n",
    "# This doesn't work.\n",
    "print(tape.gradient(y, {\"x1\":x1, \"x0\":x0}))   #dy/dx0 = 2*(x1 + x0)"
   ]
  },
  {
   "cell_type": "code",
   "execution_count": 99,
   "id": "e43b19c4-2923-426f-85eb-40d8cbeb6d7d",
   "metadata": {},
   "outputs": [
    {
     "name": "stdout",
     "output_type": "stream",
     "text": [
      "{'x': <tf.Tensor: shape=(), dtype=float32, numpy=4.0>, 'y': <tf.Tensor: shape=(), dtype=float32, numpy=6.0>}\n",
      "dz/dx: tf.Tensor(4.0, shape=(), dtype=float32)\n",
      "dz/dy: tf.Tensor(6.0, shape=(), dtype=float32)\n"
     ]
    }
   ],
   "source": [
    "x = tf.Variable(2.0)\n",
    "y = tf.Variable(3.0)\n",
    "\n",
    "with tf.GradientTape() as t:\n",
    "  x_sq = x * x\n",
    "  # with t.stop_recording():\n",
    "  y_sq = y * y\n",
    "  z = x_sq + y_sq\n",
    "\n",
    "grad = t.gradient(z, {'x': x, 'y': y})\n",
    "\n",
    "print(grad)\n",
    "print('dz/dx:', grad['x'])  # 2*x => 4\n",
    "print('dz/dy:', grad['y'])"
   ]
  },
  {
   "cell_type": "code",
   "execution_count": 105,
   "id": "cef05e73-30c1-426d-ad8b-1ceecb55cad4",
   "metadata": {},
   "outputs": [
    {
     "name": "stdout",
     "output_type": "stream",
     "text": [
      "First branch, with graph: 1\n",
      "Second branch, with graph: 0\n"
     ]
    }
   ],
   "source": [
    "def simple_relu(x):\n",
    "  if tf.greater(x, 0):\n",
    "    return x\n",
    "  else:\n",
    "    return 0\n",
    "\n",
    "# `tf_simple_relu` is a TensorFlow `Function` that wraps `simple_relu`.\n",
    "tf_simple_relu = tf.function(simple_relu)\n",
    "\n",
    "print(\"First branch, with graph:\", tf_simple_relu(tf.constant(1)).numpy())\n",
    "print(\"Second branch, with graph:\", tf_simple_relu(tf.constant(-1)).numpy())"
   ]
  },
  {
   "cell_type": "code",
   "execution_count": 106,
   "id": "4ad7dbc5-5da6-42a1-9a3d-89b561ef2639",
   "metadata": {},
   "outputs": [
    {
     "name": "stdout",
     "output_type": "stream",
     "text": [
      "def tf__simple_relu(x):\n",
      "    with ag__.FunctionScope('simple_relu', 'fscope', ag__.ConversionOptions(recursive=True, user_requested=True, optional_features=(), internal_convert_user_code=True)) as fscope:\n",
      "        do_return = False\n",
      "        retval_ = ag__.UndefinedReturnValue()\n",
      "\n",
      "        def get_state():\n",
      "            return (do_return, retval_)\n",
      "\n",
      "        def set_state(vars_):\n",
      "            nonlocal do_return, retval_\n",
      "            (do_return, retval_) = vars_\n",
      "\n",
      "        def if_body():\n",
      "            nonlocal do_return, retval_\n",
      "            try:\n",
      "                do_return = True\n",
      "                retval_ = ag__.ld(x)\n",
      "            except:\n",
      "                do_return = False\n",
      "                raise\n",
      "\n",
      "        def else_body():\n",
      "            nonlocal do_return, retval_\n",
      "            try:\n",
      "                do_return = True\n",
      "                retval_ = 0\n",
      "            except:\n",
      "                do_return = False\n",
      "                raise\n",
      "        ag__.if_stmt(ag__.converted_call(ag__.ld(tf).greater, (ag__.ld(x), 0), None, fscope), if_body, else_body, get_state, set_state, ('do_return', 'retval_'), 2)\n",
      "        return fscope.ret(retval_, do_return)\n",
      "\n"
     ]
    }
   ],
   "source": [
    "print(tf.autograph.to_code(simple_relu))"
   ]
  },
  {
   "cell_type": "code",
   "execution_count": 107,
   "id": "06054881-3778-4614-8572-9111e5a8c789",
   "metadata": {
    "collapsed": true,
    "jupyter": {
     "outputs_hidden": true
    }
   },
   "outputs": [
    {
     "name": "stdout",
     "output_type": "stream",
     "text": [
      "node {\n",
      "  name: \"x\"\n",
      "  op: \"Placeholder\"\n",
      "  attr {\n",
      "    key: \"shape\"\n",
      "    value {\n",
      "      shape {\n",
      "      }\n",
      "    }\n",
      "  }\n",
      "  attr {\n",
      "    key: \"dtype\"\n",
      "    value {\n",
      "      type: DT_INT32\n",
      "    }\n",
      "  }\n",
      "  attr {\n",
      "    key: \"_user_specified_name\"\n",
      "    value {\n",
      "      s: \"x\"\n",
      "    }\n",
      "  }\n",
      "}\n",
      "node {\n",
      "  name: \"Greater/y\"\n",
      "  op: \"Const\"\n",
      "  attr {\n",
      "    key: \"value\"\n",
      "    value {\n",
      "      tensor {\n",
      "        dtype: DT_INT32\n",
      "        tensor_shape {\n",
      "        }\n",
      "        int_val: 0\n",
      "      }\n",
      "    }\n",
      "  }\n",
      "  attr {\n",
      "    key: \"dtype\"\n",
      "    value {\n",
      "      type: DT_INT32\n",
      "    }\n",
      "  }\n",
      "}\n",
      "node {\n",
      "  name: \"Greater\"\n",
      "  op: \"Greater\"\n",
      "  input: \"x\"\n",
      "  input: \"Greater/y\"\n",
      "  attr {\n",
      "    key: \"T\"\n",
      "    value {\n",
      "      type: DT_INT32\n",
      "    }\n",
      "  }\n",
      "}\n",
      "node {\n",
      "  name: \"cond\"\n",
      "  op: \"StatelessIf\"\n",
      "  input: \"Greater\"\n",
      "  input: \"x\"\n",
      "  attr {\n",
      "    key: \"then_branch\"\n",
      "    value {\n",
      "      func {\n",
      "        name: \"cond_true_1272\"\n",
      "      }\n",
      "    }\n",
      "  }\n",
      "  attr {\n",
      "    key: \"output_shapes\"\n",
      "    value {\n",
      "      list {\n",
      "        shape {\n",
      "        }\n",
      "        shape {\n",
      "        }\n",
      "      }\n",
      "    }\n",
      "  }\n",
      "  attr {\n",
      "    key: \"else_branch\"\n",
      "    value {\n",
      "      func {\n",
      "        name: \"cond_false_1273\"\n",
      "      }\n",
      "    }\n",
      "  }\n",
      "  attr {\n",
      "    key: \"_read_only_resource_inputs\"\n",
      "    value {\n",
      "      list {\n",
      "      }\n",
      "    }\n",
      "  }\n",
      "  attr {\n",
      "    key: \"_lower_using_switch_merge\"\n",
      "    value {\n",
      "      b: true\n",
      "    }\n",
      "  }\n",
      "  attr {\n",
      "    key: \"Tout\"\n",
      "    value {\n",
      "      list {\n",
      "        type: DT_BOOL\n",
      "        type: DT_INT32\n",
      "      }\n",
      "    }\n",
      "  }\n",
      "  attr {\n",
      "    key: \"Tin\"\n",
      "    value {\n",
      "      list {\n",
      "        type: DT_INT32\n",
      "      }\n",
      "    }\n",
      "  }\n",
      "  attr {\n",
      "    key: \"Tcond\"\n",
      "    value {\n",
      "      type: DT_BOOL\n",
      "    }\n",
      "  }\n",
      "}\n",
      "node {\n",
      "  name: \"cond/Identity\"\n",
      "  op: \"Identity\"\n",
      "  input: \"cond\"\n",
      "  attr {\n",
      "    key: \"T\"\n",
      "    value {\n",
      "      type: DT_BOOL\n",
      "    }\n",
      "  }\n",
      "}\n",
      "node {\n",
      "  name: \"cond/Identity_1\"\n",
      "  op: \"Identity\"\n",
      "  input: \"cond:1\"\n",
      "  attr {\n",
      "    key: \"T\"\n",
      "    value {\n",
      "      type: DT_INT32\n",
      "    }\n",
      "  }\n",
      "}\n",
      "node {\n",
      "  name: \"Identity\"\n",
      "  op: \"Identity\"\n",
      "  input: \"cond/Identity_1\"\n",
      "  attr {\n",
      "    key: \"T\"\n",
      "    value {\n",
      "      type: DT_INT32\n",
      "    }\n",
      "  }\n",
      "}\n",
      "versions {\n",
      "  producer: 1482\n",
      "  min_consumer: 12\n",
      "}\n",
      "library {\n",
      "  function {\n",
      "    signature {\n",
      "      name: \"cond_false_1273\"\n",
      "      input_arg {\n",
      "        name: \"cond_placeholder\"\n",
      "        type: DT_INT32\n",
      "      }\n",
      "      output_arg {\n",
      "        name: \"cond_identity\"\n",
      "        type: DT_BOOL\n",
      "      }\n",
      "      output_arg {\n",
      "        name: \"cond_identity_1\"\n",
      "        type: DT_INT32\n",
      "      }\n",
      "    }\n",
      "    attr {\n",
      "      key: \"_construction_context\"\n",
      "      value {\n",
      "        s: \"kEagerRuntime\"\n",
      "      }\n",
      "    }\n",
      "    arg_attr {\n",
      "      key: 0\n",
      "      value {\n",
      "        attr {\n",
      "          key: \"_output_shapes\"\n",
      "          value {\n",
      "            list {\n",
      "              shape {\n",
      "              }\n",
      "            }\n",
      "          }\n",
      "        }\n",
      "      }\n",
      "    }\n",
      "    node_def {\n",
      "      name: \"cond/Const\"\n",
      "      op: \"Const\"\n",
      "      attr {\n",
      "        key: \"value\"\n",
      "        value {\n",
      "          tensor {\n",
      "            dtype: DT_BOOL\n",
      "            tensor_shape {\n",
      "            }\n",
      "            bool_val: true\n",
      "          }\n",
      "        }\n",
      "      }\n",
      "      attr {\n",
      "        key: \"dtype\"\n",
      "        value {\n",
      "          type: DT_BOOL\n",
      "        }\n",
      "      }\n",
      "    }\n",
      "    node_def {\n",
      "      name: \"cond/Const_1\"\n",
      "      op: \"Const\"\n",
      "      attr {\n",
      "        key: \"value\"\n",
      "        value {\n",
      "          tensor {\n",
      "            dtype: DT_BOOL\n",
      "            tensor_shape {\n",
      "            }\n",
      "            bool_val: true\n",
      "          }\n",
      "        }\n",
      "      }\n",
      "      attr {\n",
      "        key: \"dtype\"\n",
      "        value {\n",
      "          type: DT_BOOL\n",
      "        }\n",
      "      }\n",
      "    }\n",
      "    node_def {\n",
      "      name: \"cond/Const_2\"\n",
      "      op: \"Const\"\n",
      "      attr {\n",
      "        key: \"value\"\n",
      "        value {\n",
      "          tensor {\n",
      "            dtype: DT_INT32\n",
      "            tensor_shape {\n",
      "            }\n",
      "            int_val: 0\n",
      "          }\n",
      "        }\n",
      "      }\n",
      "      attr {\n",
      "        key: \"dtype\"\n",
      "        value {\n",
      "          type: DT_INT32\n",
      "        }\n",
      "      }\n",
      "    }\n",
      "    node_def {\n",
      "      name: \"cond/Const_3\"\n",
      "      op: \"Const\"\n",
      "      attr {\n",
      "        key: \"value\"\n",
      "        value {\n",
      "          tensor {\n",
      "            dtype: DT_BOOL\n",
      "            tensor_shape {\n",
      "            }\n",
      "            bool_val: true\n",
      "          }\n",
      "        }\n",
      "      }\n",
      "      attr {\n",
      "        key: \"dtype\"\n",
      "        value {\n",
      "          type: DT_BOOL\n",
      "        }\n",
      "      }\n",
      "    }\n",
      "    node_def {\n",
      "      name: \"cond/Identity\"\n",
      "      op: \"Identity\"\n",
      "      input: \"cond/Const_3:output:0\"\n",
      "      attr {\n",
      "        key: \"T\"\n",
      "        value {\n",
      "          type: DT_BOOL\n",
      "        }\n",
      "      }\n",
      "    }\n",
      "    node_def {\n",
      "      name: \"cond/Const_4\"\n",
      "      op: \"Const\"\n",
      "      attr {\n",
      "        key: \"value\"\n",
      "        value {\n",
      "          tensor {\n",
      "            dtype: DT_INT32\n",
      "            tensor_shape {\n",
      "            }\n",
      "            int_val: 0\n",
      "          }\n",
      "        }\n",
      "      }\n",
      "      attr {\n",
      "        key: \"dtype\"\n",
      "        value {\n",
      "          type: DT_INT32\n",
      "        }\n",
      "      }\n",
      "    }\n",
      "    node_def {\n",
      "      name: \"cond/Identity_1\"\n",
      "      op: \"Identity\"\n",
      "      input: \"cond/Const_4:output:0\"\n",
      "      attr {\n",
      "        key: \"T\"\n",
      "        value {\n",
      "          type: DT_INT32\n",
      "        }\n",
      "      }\n",
      "    }\n",
      "    ret {\n",
      "      key: \"cond_identity\"\n",
      "      value: \"cond/Identity:output:0\"\n",
      "    }\n",
      "    ret {\n",
      "      key: \"cond_identity_1\"\n",
      "      value: \"cond/Identity_1:output:0\"\n",
      "    }\n",
      "  }\n",
      "  function {\n",
      "    signature {\n",
      "      name: \"cond_true_1272\"\n",
      "      input_arg {\n",
      "        name: \"cond_identity_1_x\"\n",
      "        type: DT_INT32\n",
      "      }\n",
      "      output_arg {\n",
      "        name: \"cond_identity\"\n",
      "        type: DT_BOOL\n",
      "      }\n",
      "      output_arg {\n",
      "        name: \"cond_identity_1\"\n",
      "        type: DT_INT32\n",
      "      }\n",
      "    }\n",
      "    attr {\n",
      "      key: \"_construction_context\"\n",
      "      value {\n",
      "        s: \"kEagerRuntime\"\n",
      "      }\n",
      "    }\n",
      "    arg_attr {\n",
      "      key: 0\n",
      "      value {\n",
      "        attr {\n",
      "          key: \"_user_specified_name\"\n",
      "          value {\n",
      "            s: \"x\"\n",
      "          }\n",
      "        }\n",
      "        attr {\n",
      "          key: \"_output_shapes\"\n",
      "          value {\n",
      "            list {\n",
      "              shape {\n",
      "              }\n",
      "            }\n",
      "          }\n",
      "        }\n",
      "      }\n",
      "    }\n",
      "    node_def {\n",
      "      name: \"cond/Const\"\n",
      "      op: \"Const\"\n",
      "      attr {\n",
      "        key: \"value\"\n",
      "        value {\n",
      "          tensor {\n",
      "            dtype: DT_BOOL\n",
      "            tensor_shape {\n",
      "            }\n",
      "            bool_val: true\n",
      "          }\n",
      "        }\n",
      "      }\n",
      "      attr {\n",
      "        key: \"dtype\"\n",
      "        value {\n",
      "          type: DT_BOOL\n",
      "        }\n",
      "      }\n",
      "    }\n",
      "    node_def {\n",
      "      name: \"cond/Identity\"\n",
      "      op: \"Identity\"\n",
      "      input: \"cond/Const:output:0\"\n",
      "      attr {\n",
      "        key: \"T\"\n",
      "        value {\n",
      "          type: DT_BOOL\n",
      "        }\n",
      "      }\n",
      "    }\n",
      "    node_def {\n",
      "      name: \"cond/Identity_1\"\n",
      "      op: \"Identity\"\n",
      "      input: \"cond_identity_1_x\"\n",
      "      attr {\n",
      "        key: \"T\"\n",
      "        value {\n",
      "          type: DT_INT32\n",
      "        }\n",
      "      }\n",
      "    }\n",
      "    ret {\n",
      "      key: \"cond_identity\"\n",
      "      value: \"cond/Identity:output:0\"\n",
      "    }\n",
      "    ret {\n",
      "      key: \"cond_identity_1\"\n",
      "      value: \"cond/Identity_1:output:0\"\n",
      "    }\n",
      "  }\n",
      "}\n",
      "\n"
     ]
    }
   ],
   "source": [
    "print(tf_simple_relu.get_concrete_function(tf.constant(1)).graph.as_graph_def())"
   ]
  },
  {
   "cell_type": "code",
   "execution_count": 108,
   "id": "d50d917c-3619-453b-a826-96687767c14f",
   "metadata": {},
   "outputs": [
    {
     "name": "stdout",
     "output_type": "stream",
     "text": [
      "tf.Tensor([4 1 1 7 2], shape=(5,), dtype=int32)\n",
      "tf.Tensor([9 2 8 0 0], shape=(5,), dtype=int32)\n"
     ]
    },
    {
     "data": {
      "text/plain": [
       "<tf.Tensor: shape=(), dtype=int32, numpy=25>"
      ]
     },
     "execution_count": 108,
     "metadata": {},
     "output_type": "execute_result"
    }
   ],
   "source": [
    "@tf.function\n",
    "def get_MSE(y_true, y_pred):\n",
    "  sq_diff = tf.pow(y_true - y_pred, 2)\n",
    "  return tf.reduce_mean(sq_diff)\n",
    "\n",
    "y_true = tf.random.uniform([5], maxval=10, dtype=tf.int32)\n",
    "y_pred = tf.random.uniform([5], maxval=10, dtype=tf.int32)\n",
    "print(y_true)\n",
    "print(y_pred)\n",
    "\n",
    "get_MSE(y_true, y_pred)"
   ]
  },
  {
   "cell_type": "code",
   "execution_count": 111,
   "id": "e8d4a801-dd8c-4a1a-a3c8-9302ec3774f8",
   "metadata": {},
   "outputs": [
    {
     "data": {
      "text/plain": [
       "<tf.Tensor: shape=(), dtype=int32, numpy=25>"
      ]
     },
     "execution_count": 111,
     "metadata": {},
     "output_type": "execute_result"
    }
   ],
   "source": [
    "tf.config.run_functions_eagerly(True)\n",
    "get_MSE(y_true, y_pred)"
   ]
  },
  {
   "cell_type": "code",
   "execution_count": 110,
   "id": "a5297b40-108d-466c-a169-2fdafcb85341",
   "metadata": {},
   "outputs": [],
   "source": [
    "tf.config.run_functions_eagerly(False)"
   ]
  },
  {
   "cell_type": "code",
   "execution_count": 112,
   "id": "2aa49e1d-a4c6-4ac0-a3b0-1d1937e80b5e",
   "metadata": {},
   "outputs": [
    {
     "name": "stdout",
     "output_type": "stream",
     "text": [
      "Calculating MSE!\n"
     ]
    }
   ],
   "source": [
    "@tf.function\n",
    "def get_MSE(y_true, y_pred):\n",
    "  print(\"Calculating MSE!\")\n",
    "  sq_diff = tf.pow(y_true - y_pred, 2)\n",
    "  return tf.reduce_mean(sq_diff)\n",
    "\n",
    "error = get_MSE(y_true, y_pred)\n",
    "error = get_MSE(y_true, y_pred)\n",
    "error = get_MSE(y_true, y_pred)"
   ]
  },
  {
   "cell_type": "code",
   "execution_count": 114,
   "id": "8092cd01-daa2-4176-a1ca-ea5049c80fb1",
   "metadata": {},
   "outputs": [
    {
     "data": {
      "text/plain": [
       "<tf.Tensor: shape=(), dtype=float32, numpy=30.0>"
      ]
     },
     "execution_count": 114,
     "metadata": {},
     "output_type": "execute_result"
    }
   ],
   "source": [
    "class SimpleModule(tf.Module):\n",
    "  def __init__(self, name=None):\n",
    "    super().__init__(name=name)\n",
    "    self.a_variable = tf.Variable(5.0, name=\"train_me\")\n",
    "    self.non_trainable_variable = tf.Variable(5.0, trainable=False, name=\"do_not_train_me\")\n",
    "  def __call__(self, x):\n",
    "    return self.a_variable * x + self.non_trainable_variable\n",
    "\n",
    "simple_module = SimpleModule(name=\"simple\")\n",
    "\n",
    "simple_module(tf.constant(5.0))"
   ]
  },
  {
   "cell_type": "code",
   "execution_count": 115,
   "id": "60c3b082-5a43-4a4c-9368-fd0e52865552",
   "metadata": {},
   "outputs": [
    {
     "data": {
      "text/plain": [
       "<tf.Tensor: shape=(), dtype=float32, numpy=30.0>"
      ]
     },
     "execution_count": 115,
     "metadata": {},
     "output_type": "execute_result"
    }
   ],
   "source": [
    "class SimpleModule(tf.Module):\n",
    "  def __init__(self, name=None):\n",
    "    super().__init__(name=name)\n",
    "    self.a_variable = tf.Variable(5.0, name=\"train_me\")\n",
    "    self.non_trainable_variable = tf.Variable(5.0, trainable=False, name=\"do_not_train_me\")\n",
    "  def __call__(self, x):\n",
    "    return self.a_variable * x + self.non_trainable_variable\n",
    "\n",
    "simple_module = SimpleModule(name=\"simple\")\n",
    "\n",
    "simple_module(tf.constant(5.0))\n",
    "\n",
    "# tf.Module does not have model.summary()"
   ]
  },
  {
   "cell_type": "code",
   "execution_count": 117,
   "id": "7e82aeaf-dcee-4eb3-afb0-bc92a0d8f9bf",
   "metadata": {},
   "outputs": [
    {
     "data": {
      "text/plain": [
       "(<tf.Variable 'train_me:0' shape=() dtype=float32, numpy=5.0>,\n",
       " <tf.Variable 'do_not_train_me:0' shape=() dtype=float32, numpy=5.0>)"
      ]
     },
     "execution_count": 117,
     "metadata": {},
     "output_type": "execute_result"
    }
   ],
   "source": [
    "simple_module.variables"
   ]
  },
  {
   "cell_type": "code",
   "execution_count": 118,
   "id": "0a951d29-effd-4f0d-a5b9-8076de00a85f",
   "metadata": {},
   "outputs": [
    {
     "data": {
      "text/plain": [
       "()"
      ]
     },
     "execution_count": 118,
     "metadata": {},
     "output_type": "execute_result"
    }
   ],
   "source": [
    "simple_module.submodules"
   ]
  },
  {
   "cell_type": "code",
   "execution_count": 125,
   "id": "8598602c-c198-415b-9c1a-354e539e9905",
   "metadata": {},
   "outputs": [
    {
     "name": "stdout",
     "output_type": "stream",
     "text": [
      "Model results: tf.Tensor([[0. 0.]], shape=(1, 2), dtype=float32)\n"
     ]
    }
   ],
   "source": [
    "class Dense(tf.Module):\n",
    "  def __init__(self, in_features, out_features, name=None):\n",
    "    super().__init__(name=name)\n",
    "    self.w = tf.Variable(\n",
    "      tf.random.normal([in_features, out_features]), name='w')\n",
    "    self.b = tf.Variable(tf.zeros([out_features]), name='b')\n",
    "  def __call__(self, x):\n",
    "    y = tf.matmul(x, self.w) + self.b\n",
    "    return tf.nn.relu(y)\n",
    "\n",
    "class SequentialModule(tf.Module):\n",
    "  def __init__(self, name=None):\n",
    "    super().__init__(name=name)\n",
    "\n",
    "    self.dense_1 = Dense(in_features=3, out_features=3,name='d1')\n",
    "    self.dense_2 = Dense(in_features=3, out_features=2,name='d2')\n",
    "\n",
    "  def __call__(self, x):\n",
    "    x = self.dense_1(x)\n",
    "    return self.dense_2(x)\n",
    "\n",
    "# You have made a model!\n",
    "my_model = SequentialModule(name=\"the_model\")\n",
    "\n",
    "# Call it, with random results\n",
    "print(\"Model results:\", my_model(tf.constant([[2.0, 2.0, 2.0]])))"
   ]
  },
  {
   "cell_type": "code",
   "execution_count": 126,
   "id": "d21a6ea6-677c-4b4d-8676-c5bc55d4c70c",
   "metadata": {},
   "outputs": [
    {
     "data": {
      "text/plain": [
       "(<__main__.Dense at 0x1607bc400>, <__main__.Dense at 0x1607bf4f0>)"
      ]
     },
     "execution_count": 126,
     "metadata": {},
     "output_type": "execute_result"
    }
   ],
   "source": [
    "my_model.submodules"
   ]
  },
  {
   "cell_type": "code",
   "execution_count": 127,
   "id": "1aa9e3b3-0af1-4b08-af86-d1bd8ed79289",
   "metadata": {},
   "outputs": [
    {
     "data": {
      "text/plain": [
       "(<tf.Variable 'b:0' shape=(3,) dtype=float32, numpy=array([0., 0., 0.], dtype=float32)>,\n",
       " <tf.Variable 'w:0' shape=(3, 3) dtype=float32, numpy=\n",
       " array([[ 0.02736765, -0.17608088, -1.032676  ],\n",
       "        [-0.4262823 , -1.1004285 , -0.7121168 ],\n",
       "        [-0.6336593 , -2.1401153 , -1.1367048 ]], dtype=float32)>,\n",
       " <tf.Variable 'b:0' shape=(2,) dtype=float32, numpy=array([0., 0.], dtype=float32)>,\n",
       " <tf.Variable 'w:0' shape=(3, 2) dtype=float32, numpy=\n",
       " array([[ 2.3993342 , -1.4112239 ],\n",
       "        [-0.18513879,  0.11712091],\n",
       "        [ 0.10611385,  1.5401213 ]], dtype=float32)>)"
      ]
     },
     "execution_count": 127,
     "metadata": {},
     "output_type": "execute_result"
    }
   ],
   "source": [
    "my_model.variables"
   ]
  },
  {
   "cell_type": "code",
   "execution_count": null,
   "id": "d3a058b2-7b75-4cd5-b264-03fd45d4fea6",
   "metadata": {},
   "outputs": [],
   "source": []
  }
 ],
 "metadata": {
  "kernelspec": {
   "display_name": "Python 3 (ipykernel)",
   "language": "python",
   "name": "python3"
  },
  "language_info": {
   "codemirror_mode": {
    "name": "ipython",
    "version": 3
   },
   "file_extension": ".py",
   "mimetype": "text/x-python",
   "name": "python",
   "nbconvert_exporter": "python",
   "pygments_lexer": "ipython3",
   "version": "3.10.6"
  }
 },
 "nbformat": 4,
 "nbformat_minor": 5
}

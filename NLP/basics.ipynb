{
 "cells": [
  {
   "cell_type": "markdown",
   "id": "defensive-pacific",
   "metadata": {},
   "source": [
    "# Basic knowledge"
   ]
  },
  {
   "cell_type": "code",
   "execution_count": null,
   "id": "sunrise-decrease",
   "metadata": {},
   "outputs": [],
   "source": []
  },
  {
   "cell_type": "markdown",
   "id": "desirable-meaning",
   "metadata": {},
   "source": [
    "## Bag-of-words model\n",
    "\n",
    "ref:   \n",
    "[link](https://www.bookstack.cn/read/duoergun0729-nlp/%E8%AF%8D%E8%A2%8B%E6%A8%A1%E5%9E%8B%E5%92%8CTFIDF%E6%A8%A1%E5%9E%8B.md)  \n",
    "[sklearn text-feature-extraction](https://scikit-learn.org/stable/modules/feature_extraction.html#text-feature-extraction)"
   ]
  },
  {
   "cell_type": "code",
   "execution_count": 1,
   "id": "employed-library",
   "metadata": {},
   "outputs": [],
   "source": [
    "from sklearn.feature_extraction.text import CountVectorizer"
   ]
  },
  {
   "cell_type": "code",
   "execution_count": 23,
   "id": "assigned-granny",
   "metadata": {},
   "outputs": [
    {
     "name": "stdout",
     "output_type": "stream",
     "text": [
      "[[0 1 1 0 1 0 0 0 0 1 0 1]\n",
      " [0 1 0 0 1 0 0 0 2 1 0 1]\n",
      " [1 0 0 0 0 0 0 1 0 1 1 0]\n",
      " [0 1 1 0 1 0 0 0 0 1 0 1]\n",
      " [0 1 1 0 0 1 0 0 0 1 0 0]\n",
      " [0 1 1 1 0 0 1 0 0 1 0 0]]\n"
     ]
    },
    {
     "data": {
      "text/plain": [
       "{'this': 11,\n",
       " 'is': 4,\n",
       " 'the': 9,\n",
       " 'first': 2,\n",
       " 'document': 1,\n",
       " 'second': 8,\n",
       " 'and': 0,\n",
       " 'third': 10,\n",
       " 'one': 7,\n",
       " 'like': 5,\n",
       " 'he': 3,\n",
       " 'likes': 6}"
      ]
     },
     "execution_count": 23,
     "metadata": {},
     "output_type": "execute_result"
    }
   ],
   "source": [
    "corpus = [\n",
    "    'This is the first document.',\n",
    "    'This is the second second document.',\n",
    "    'And the third one.',\n",
    "    'Is this the first document?',\n",
    "    'I like the first document.',\n",
    "    'He likes the first document.',\n",
    "]\n",
    "\n",
    "vectorizer = CountVectorizer(min_df=1)\n",
    "X = vectorizer.fit_transform(corpus)\n",
    "\n",
    "print(X.toarray())\n",
    "vectorizer.vocabulary_\n"
   ]
  },
  {
   "cell_type": "code",
   "execution_count": 18,
   "id": "freelance-angle",
   "metadata": {},
   "outputs": [
    {
     "name": "stdout",
     "output_type": "stream",
     "text": [
      "[[1 0 0 0]\n",
      " [1 0 0 2]\n",
      " [0 0 0 0]\n",
      " [1 0 0 0]\n",
      " [1 1 0 0]\n",
      " [1 0 1 0]]\n",
      "{'document': 0, 'second': 3, 'like': 1, 'likes': 2}\n"
     ]
    },
    {
     "data": {
      "text/plain": [
       "['document', 'like', 'likes', 'second']"
      ]
     },
     "execution_count": 18,
     "metadata": {},
     "output_type": "execute_result"
    }
   ],
   "source": [
    "vectorizer2 = CountVectorizer(min_df=1, stop_words='english')\n",
    "X = vectorizer2.fit_transform(corpus)\n",
    "\n",
    "print(X.toarray())\n",
    "print(vectorizer2.vocabulary_)\n",
    "vectorizer2.get_feature_names()"
   ]
  },
  {
   "cell_type": "code",
   "execution_count": 21,
   "id": "fatal-encounter",
   "metadata": {
    "collapsed": true,
    "jupyter": {
     "outputs_hidden": true
    },
    "tags": []
   },
   "outputs": [
    {
     "name": "stdout",
     "output_type": "stream",
     "text": [
      "Package                  Version\n",
      "------------------------ -----------\n",
      "absl-py                  0.11.0\n",
      "anyio                    2.1.0\n",
      "appdirs                  1.4.4\n",
      "appnope                  0.1.2\n",
      "APScheduler              3.6.3\n",
      "argon2-cffi              20.1.0\n",
      "astunparse               1.6.3\n",
      "async-generator          1.10\n",
      "attrs                    20.3.0\n",
      "Babel                    2.9.0\n",
      "backcall                 0.2.0\n",
      "backports.zoneinfo       0.2.1\n",
      "black                    20.8b1\n",
      "bleach                   3.3.0\n",
      "boto3                    1.24.81\n",
      "botocore                 1.27.81\n",
      "CacheControl             0.12.6\n",
      "cachetools               4.2.2\n",
      "cachy                    0.3.0\n",
      "certifi                  2020.12.5\n",
      "cffi                     1.14.5\n",
      "chardet                  4.0.0\n",
      "cleo                     0.8.1\n",
      "click                    7.1.2\n",
      "clikit                   0.6.2\n",
      "crashtest                0.3.1\n",
      "cycler                   0.10.0\n",
      "decorator                4.4.2\n",
      "defusedxml               0.6.0\n",
      "dill                     0.3.3\n",
      "distlib                  0.3.1\n",
      "entrypoints              0.3\n",
      "filelock                 3.0.12\n",
      "flatbuffers              1.12\n",
      "future                   0.18.2\n",
      "gast                     0.3.3\n",
      "google-auth              1.27.1\n",
      "google-auth-oauthlib     0.4.3\n",
      "google-pasta             0.2.0\n",
      "googleapis-common-protos 1.53.0\n",
      "grpcio                   1.32.0\n",
      "h5py                     2.10.0\n",
      "html2text                2020.1.16\n",
      "html5lib                 1.1\n",
      "idna                     2.10\n",
      "imageio                  2.9.0\n",
      "importlib-resources      5.1.2\n",
      "ipykernel                5.5.0\n",
      "ipython                  7.20.0\n",
      "ipython-genutils         0.2.0\n",
      "ipywidgets               7.6.3\n",
      "jedi                     0.18.0\n",
      "Jinja2                   2.11.3\n",
      "jmespath                 1.0.1\n",
      "joblib                   1.0.1\n",
      "json5                    0.9.5\n",
      "jsonschema               3.2.0\n",
      "jupyter-client           6.1.11\n",
      "jupyter-core             4.7.1\n",
      "jupyter-server           1.4.0\n",
      "jupyterlab               3.0.8\n",
      "jupyterlab-pygments      0.1.2\n",
      "jupyterlab-server        2.3.0\n",
      "jupyterlab-widgets       1.0.0\n",
      "Keras-Preprocessing      1.1.2\n",
      "keyring                  21.8.0\n",
      "kiwisolver               1.3.1\n",
      "lockfile                 0.12.2\n",
      "Markdown                 3.3.4\n",
      "MarkupSafe               1.1.1\n",
      "matplotlib               3.3.4\n",
      "mistune                  0.8.4\n",
      "msgpack                  1.0.2\n",
      "mypy-extensions          0.4.3\n",
      "nb-black                 1.0.7\n",
      "nbclassic                0.2.6\n",
      "nbclient                 0.5.2\n",
      "nbconvert                6.0.7\n",
      "nbformat                 5.1.2\n",
      "nest-asyncio             1.5.1\n",
      "networkx                 2.5\n",
      "notebook                 6.2.0\n",
      "numpy                    1.19.2\n",
      "oauthlib                 3.1.0\n",
      "opencv-python            4.5.1.48\n",
      "opt-einsum               3.3.0\n",
      "packaging                20.9\n",
      "pandas                   1.2.3\n",
      "pandocfilters            1.4.3\n",
      "parso                    0.8.1\n",
      "pastel                   0.2.1\n",
      "pathspec                 0.8.1\n",
      "pexpect                  4.8.0\n",
      "pickleshare              0.7.5\n",
      "Pillow                   8.1.0\n",
      "pip                      21.0.1\n",
      "pkginfo                  1.7.0\n",
      "poetry                   1.1.4\n",
      "poetry-core              1.0.2\n",
      "prometheus-client        0.9.0\n",
      "promise                  2.3\n",
      "prompt-toolkit           3.0.16\n",
      "protobuf                 3.15.5\n",
      "ptyprocess               0.7.0\n",
      "pyarrow                  4.0.1\n",
      "pyasn1                   0.4.8\n",
      "pyasn1-modules           0.2.8\n",
      "pycparser                2.20\n",
      "Pygments                 2.8.0\n",
      "pylev                    1.3.0\n",
      "pyparsing                2.4.7\n",
      "pyrsistent               0.17.3\n",
      "pytesseract              0.3.7\n",
      "python-dateutil          2.8.1\n",
      "python-telegram-bot      13.14\n",
      "pytz                     2021.1\n",
      "pytz-deprecation-shim    0.1.0.post0\n",
      "PyWavelets               1.1.1\n",
      "PyYAML                   6.0\n",
      "pyzmq                    22.0.3\n",
      "regex                    2020.11.13\n",
      "requests                 2.25.1\n",
      "requests-oauthlib        1.3.0\n",
      "requests-toolbelt        0.9.1\n",
      "rsa                      4.7.2\n",
      "s3transfer               0.6.0\n",
      "scikit-image             0.18.1\n",
      "scikit-learn             0.24.1\n",
      "scipy                    1.6.1\n",
      "selective-search         0.1.2.2\n",
      "Send2Trash               1.5.0\n",
      "setuptools               41.2.0\n",
      "shellingham              1.4.0\n",
      "six                      1.15.0\n",
      "sklearn                  0.0\n",
      "sniffio                  1.2.0\n",
      "telegram                 0.0.1\n",
      "tensorboard              2.4.1\n",
      "tensorboard-plugin-wit   1.8.0\n",
      "tensorflow               2.4.1\n",
      "tensorflow-datasets      4.2.0\n",
      "tensorflow-estimator     2.4.0\n",
      "tensorflow-metadata      0.28.0\n",
      "termcolor                1.1.0\n",
      "terminado                0.9.2\n",
      "testpath                 0.4.4\n",
      "threadpoolctl            2.1.0\n",
      "tifffile                 2021.3.4\n",
      "toml                     0.10.2\n",
      "tomlkit                  0.7.0\n",
      "tornado                  6.1\n",
      "tqdm                     4.57.0\n",
      "traitlets                5.0.5\n",
      "typed-ast                1.4.2\n",
      "typing-extensions        3.7.4.3\n",
      "tzdata                   2022.6\n",
      "tzlocal                  4.2\n",
      "urllib3                  1.26.3\n",
      "virtualenv               20.4.2\n",
      "wcwidth                  0.2.5\n",
      "webencodings             0.5.1\n",
      "Werkzeug                 1.0.1\n",
      "wheel                    0.36.2\n",
      "widgetsnbextension       3.5.1\n",
      "wrapt                    1.12.1\n",
      "xgboost                  1.6.2\n",
      "\u001b[33mWARNING: You are using pip version 21.0.1; however, version 23.0 is available.\n",
      "You should consider upgrading via the '/Users/zequnzhou/.pyenv/versions/3.8.2/envs/sudoku382/bin/python3.8 -m pip install --upgrade pip' command.\u001b[0m\n"
     ]
    }
   ],
   "source": [
    "!pip list"
   ]
  },
  {
   "cell_type": "markdown",
   "id": "about-produce",
   "metadata": {},
   "source": [
    "## tf-idf"
   ]
  },
  {
   "cell_type": "code",
   "execution_count": 22,
   "id": "democratic-newton",
   "metadata": {},
   "outputs": [
    {
     "data": {
      "text/plain": [
       "TfidfTransformer(smooth_idf=False)"
      ]
     },
     "execution_count": 22,
     "metadata": {},
     "output_type": "execute_result"
    }
   ],
   "source": [
    "from sklearn.feature_extraction.text import TfidfTransformer\n",
    "transformer = TfidfTransformer(smooth_idf=False)\n",
    "transformer"
   ]
  },
  {
   "cell_type": "code",
   "execution_count": 24,
   "id": "clean-aggregate",
   "metadata": {},
   "outputs": [
    {
     "data": {
      "text/plain": [
       "array([[0, 1, 1, 0, 1, 0, 0, 0, 0, 1, 0, 1],\n",
       "       [0, 1, 0, 0, 1, 0, 0, 0, 2, 1, 0, 1],\n",
       "       [1, 0, 0, 0, 0, 0, 0, 1, 0, 1, 1, 0],\n",
       "       [0, 1, 1, 0, 1, 0, 0, 0, 0, 1, 0, 1],\n",
       "       [0, 1, 1, 0, 0, 1, 0, 0, 0, 1, 0, 0],\n",
       "       [0, 1, 1, 1, 0, 0, 1, 0, 0, 1, 0, 0]])"
      ]
     },
     "execution_count": 24,
     "metadata": {},
     "output_type": "execute_result"
    }
   ],
   "source": [
    "# Use the corpus from above again \n",
    "corpus = [\n",
    "    'This is the first document.',\n",
    "    'This is the second second document.',\n",
    "    'And the third one.',\n",
    "    'Is this the first document?',\n",
    "    'I like the first document.',\n",
    "    'He likes the first document.',\n",
    "]\n",
    "\n",
    "vectorizer = CountVectorizer(min_df=1)\n",
    "X = vectorizer.fit_transform(corpus)\n",
    "term_counts = X.toarray()\n",
    "term_counts"
   ]
  },
  {
   "cell_type": "code",
   "execution_count": 26,
   "id": "genuine-wheat",
   "metadata": {},
   "outputs": [
    {
     "data": {
      "text/plain": [
       "<6x12 sparse matrix of type '<class 'numpy.float64'>'\n",
       "\twith 28 stored elements in Compressed Sparse Row format>"
      ]
     },
     "execution_count": 26,
     "metadata": {},
     "output_type": "execute_result"
    }
   ],
   "source": [
    "tfidf = transformer.fit_transform(term_counts)\n"
   ]
  },
  {
   "cell_type": "code",
   "execution_count": 27,
   "id": "returning-young",
   "metadata": {
    "tags": []
   },
   "outputs": [
    {
     "data": {
      "text/plain": [
       "array([[0.        , 0.37190386, 0.44209453, 0.        , 0.53258605,\n",
       "        0.        , 0.        , 0.        , 0.        , 0.3145539 ,\n",
       "        0.        , 0.53258605],\n",
       "       [0.        , 0.18858203, 0.        , 0.        , 0.27005947,\n",
       "        0.        , 0.        , 0.        , 0.89057951, 0.15950148,\n",
       "        0.        , 0.27005947],\n",
       "       [0.56538652, 0.        , 0.        , 0.        , 0.        ,\n",
       "        0.        , 0.        , 0.56538652, 0.        , 0.20251978,\n",
       "        0.56538652, 0.        ],\n",
       "       [0.        , 0.37190386, 0.44209453, 0.        , 0.53258605,\n",
       "        0.        , 0.        , 0.        , 0.        , 0.3145539 ,\n",
       "        0.        , 0.53258605],\n",
       "       [0.        , 0.3389545 , 0.40292653, 0.        , 0.        ,\n",
       "        0.80035708, 0.        , 0.        , 0.        , 0.28668554,\n",
       "        0.        , 0.        ],\n",
       "       [0.        , 0.26463289, 0.31457796, 0.62486502, 0.        ,\n",
       "        0.        , 0.62486502, 0.        , 0.        , 0.22382481,\n",
       "        0.        , 0.        ]])"
      ]
     },
     "execution_count": 27,
     "metadata": {},
     "output_type": "execute_result"
    }
   ],
   "source": [
    "tfidf.toarray()"
   ]
  },
  {
   "cell_type": "code",
   "execution_count": 30,
   "id": "owned-tennis",
   "metadata": {},
   "outputs": [
    {
     "data": {
      "text/plain": [
       "array([2.79175947, 1.18232156, 1.40546511, 2.79175947, 1.69314718,\n",
       "       2.79175947, 2.79175947, 2.79175947, 2.79175947, 1.        ,\n",
       "       2.79175947, 1.69314718])"
      ]
     },
     "execution_count": 30,
     "metadata": {},
     "output_type": "execute_result"
    }
   ],
   "source": [
    "transformer.idf_"
   ]
  },
  {
   "cell_type": "code",
   "execution_count": null,
   "id": "lesser-kernel",
   "metadata": {},
   "outputs": [],
   "source": [
    "# New in Pandas version 1.0\n",
    "#transformer.feature_names_in_"
   ]
  }
 ],
 "metadata": {
  "kernelspec": {
   "display_name": "sudoku382",
   "language": "python",
   "name": "sudoku382"
  },
  "language_info": {
   "codemirror_mode": {
    "name": "ipython",
    "version": 3
   },
   "file_extension": ".py",
   "mimetype": "text/x-python",
   "name": "python",
   "nbconvert_exporter": "python",
   "pygments_lexer": "ipython3",
   "version": "3.8.2"
  }
 },
 "nbformat": 4,
 "nbformat_minor": 5
}

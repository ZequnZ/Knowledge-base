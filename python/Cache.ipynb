{
 "cells": [
  {
   "cell_type": "markdown",
   "id": "cultural-confirmation",
   "metadata": {},
   "source": [
    "# Cache in Python"
   ]
  },
  {
   "cell_type": "markdown",
   "id": "removable-delaware",
   "metadata": {},
   "source": [
    "`@functools.lru_cache(maxsize=128, typed=False)`\n",
    "\n",
    "If *`maxsize`* is set to `None`, the LRU feature is disabled and the cache can grow without bound.\n",
    "\n",
    "If *`typed`* is set to True, function arguments of different types will be cached separately. For example, `f(3)` and `f(3.0)` will be treated as distinct calls with distinct results."
   ]
  },
  {
   "cell_type": "code",
   "execution_count": 7,
   "id": "characteristic-hours",
   "metadata": {},
   "outputs": [
    {
     "name": "stdout",
     "output_type": "stream",
     "text": [
      "compute 1 + 2\n",
      "3\n",
      "3\n",
      "compute 2 + 2\n",
      "4\n",
      "compute 2 + 3\n",
      "5\n",
      "compute 1 + 2\n",
      "3\n"
     ]
    }
   ],
   "source": [
    "# Example:\n",
    "from functools import lru_cache\n",
    "\n",
    "@lru_cache(maxsize=2)\n",
    "def sum(a,b):\n",
    "    print(f'compute {a} + {b}')\n",
    "    return a+b\n",
    "\n",
    "print(sum(1,2))\n",
    "print(sum(1,2))\n",
    "print(sum(2,2))\n",
    "print(sum(2,3))\n",
    "print(sum(1,2))"
   ]
  },
  {
   "cell_type": "markdown",
   "id": "modern-franklin",
   "metadata": {},
   "source": [
    "## cache with ttl (time to live) "
   ]
  },
  {
   "cell_type": "code",
   "execution_count": 36,
   "id": "conditional-report",
   "metadata": {},
   "outputs": [
    {
     "name": "stdout",
     "output_type": "stream",
     "text": [
      "Calling product: 1 * 2:\n",
      "2\n",
      "2\n",
      "Calling product: 1 * 2:\n",
      "2\n"
     ]
    }
   ],
   "source": [
    "from functools import lru_cache, wraps\n",
    "from datetime import datetime, timedelta\n",
    "import time\n",
    "\n",
    "def timed_lru_cache(seconds: int, maxsize: int = 128):\n",
    "    def wrapper_cache(func):\n",
    "        func = lru_cache(maxsize=maxsize)(func)\n",
    "        func.lifetime = timedelta(seconds=seconds)\n",
    "        func.expiration = datetime.utcnow() + func.lifetime\n",
    "\n",
    "        @wraps(func)\n",
    "        def wrapped_func(*args, **kwargs):\n",
    "            if datetime.utcnow() >= func.expiration:\n",
    "                func.cache_clear()\n",
    "                func.expiration = datetime.utcnow() + func.lifetime\n",
    "\n",
    "            return func(*args, **kwargs)\n",
    "\n",
    "        return wrapped_func\n",
    "\n",
    "    return wrapper_cache\n",
    "\n",
    "@timed_lru_cache(5)\n",
    "def product(a,b):\n",
    "    print(f'Calling product: {a} * {b}:')\n",
    "    return a*b\n",
    "\n",
    "print(product(1,2))\n",
    "print(product(1,2))\n",
    "time.sleep(5)\n",
    "print(product(1,2))"
   ]
  },
  {
   "cell_type": "markdown",
   "id": "ambient-aspect",
   "metadata": {},
   "source": [
    "ref:\n",
    "\n",
    "- https://docs.python.org/3/library/functools.html\n",
    "- https://realpython.com/lru-cache-python/"
   ]
  }
 ],
 "metadata": {
  "kernelspec": {
   "display_name": "Python 3",
   "language": "python",
   "name": "python3"
  },
  "language_info": {
   "codemirror_mode": {
    "name": "ipython",
    "version": 3
   },
   "file_extension": ".py",
   "mimetype": "text/x-python",
   "name": "python",
   "nbconvert_exporter": "python",
   "pygments_lexer": "ipython3",
   "version": "3.9.1"
  }
 },
 "nbformat": 4,
 "nbformat_minor": 5
}

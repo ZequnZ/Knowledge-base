{
 "cells": [
  {
   "cell_type": "markdown",
   "id": "lucky-sherman",
   "metadata": {},
   "source": [
    "# Cache in Python"
   ]
  },
  {
   "cell_type": "markdown",
   "id": "elegant-abraham",
   "metadata": {},
   "source": [
    "## Functools"
   ]
  },
  {
   "cell_type": "markdown",
   "id": "excellent-devil",
   "metadata": {},
   "source": [
    "`@functools.lru_cache(maxsize=128, typed=False)`\n",
    "\n",
    "If *`maxsize`* is set to `None`, the LRU feature is disabled and the cache can grow without bound.\n",
    "\n",
    "If *`typed`* is set to True, function arguments of different types will be cached separately. For example, `f(3)` and `f(3.0)` will be treated as distinct calls with distinct results."
   ]
  },
  {
   "cell_type": "code",
   "execution_count": 14,
   "id": "stone-session",
   "metadata": {},
   "outputs": [
    {
     "name": "stdout",
     "output_type": "stream",
     "text": [
      "compute 1 + 2\n",
      "3\n",
      "3\n",
      "compute 2 + 2\n",
      "4\n",
      "compute 2 + 3\n",
      "5\n",
      "compute 1 + 2\n",
      "3\n"
     ]
    }
   ],
   "source": [
    "# Example:\n",
    "from functools import lru_cache\n",
    "\n",
    "@lru_cache(maxsize=2)\n",
    "def sum_(a,b):\n",
    "    print(f'compute {a} + {b}')\n",
    "    return a+b\n",
    "\n",
    "print(sum_(1,2))\n",
    "print(sum_(1,2))\n",
    "print(sum_(2,2))\n",
    "print(sum_(2,3))\n",
    "print(sum_(1,2))"
   ]
  },
  {
   "cell_type": "markdown",
   "id": "dependent-possibility",
   "metadata": {},
   "source": [
    "### cache with ttl (time to live) "
   ]
  },
  {
   "cell_type": "code",
   "execution_count": 36,
   "id": "mexican-trinity",
   "metadata": {},
   "outputs": [
    {
     "name": "stdout",
     "output_type": "stream",
     "text": [
      "Calling product: 1 * 2:\n",
      "2\n",
      "2\n",
      "Calling product: 1 * 2:\n",
      "2\n"
     ]
    }
   ],
   "source": [
    "from functools import lru_cache, wraps\n",
    "from datetime import datetime, timedelta\n",
    "import time\n",
    "\n",
    "def timed_lru_cache(seconds: int, maxsize: int = 128):\n",
    "    def wrapper_cache(func):\n",
    "        func = lru_cache(maxsize=maxsize)(func)\n",
    "        func.lifetime = timedelta(seconds=seconds)\n",
    "        func.expiration = datetime.utcnow() + func.lifetime\n",
    "\n",
    "        @wraps(func)\n",
    "        def wrapped_func(*args, **kwargs):\n",
    "            if datetime.utcnow() >= func.expiration:\n",
    "                func.cache_clear()\n",
    "                func.expiration = datetime.utcnow() + func.lifetime\n",
    "\n",
    "            return func(*args, **kwargs)\n",
    "\n",
    "        return wrapped_func\n",
    "\n",
    "    return wrapper_cache\n",
    "\n",
    "@timed_lru_cache(5)\n",
    "def product(a,b):\n",
    "    print(f'Calling product: {a} * {b}:')\n",
    "    return a*b\n",
    "\n",
    "print(product(1,2))\n",
    "print(product(1,2))\n",
    "time.sleep(5)\n",
    "print(product(1,2))"
   ]
  },
  {
   "cell_type": "markdown",
   "id": "invalid-strengthening",
   "metadata": {},
   "source": [
    "## cachetools\n",
    "\n",
    "This module provides various memoizing collections and decorators, including variants of the Python Standard Library’s `@lru_cache` function decorator."
   ]
  },
  {
   "cell_type": "code",
   "execution_count": 13,
   "id": "unable-panama",
   "metadata": {},
   "outputs": [
    {
     "name": "stdout",
     "output_type": "stream",
     "text": [
      "compute 1 + 2\n",
      "3\n",
      "3\n",
      "compute 2 + 2\n",
      "4\n",
      "compute 2 + 3\n",
      "5\n",
      "compute 1 + 2\n",
      "3\n"
     ]
    }
   ],
   "source": [
    "from cachetools.func import lru_cache\n",
    "\n",
    "@lru_cache(maxsize=2)\n",
    "def sum_(a,b):\n",
    "    print(f'compute {a} + {b}')\n",
    "    return a+b\n",
    "\n",
    "print(sum_(1,2))\n",
    "print(sum_(1,2))\n",
    "print(sum_(2,2))\n",
    "print(sum_(2,3))\n",
    "print(sum_(1,2))"
   ]
  },
  {
   "cell_type": "markdown",
   "id": "sweet-wells",
   "metadata": {},
   "source": [
    "### cache with ttl (time to live)"
   ]
  },
  {
   "cell_type": "code",
   "execution_count": 18,
   "id": "prompt-hours",
   "metadata": {},
   "outputs": [
    {
     "name": "stdout",
     "output_type": "stream",
     "text": [
      "Calling product: 1 * 2:\n",
      "2\n",
      "2\n",
      "Calling product: 1 * 2:\n",
      "2\n"
     ]
    }
   ],
   "source": [
    "import time\n",
    "\n",
    "from cachetools import cached, TTLCache\n",
    "\n",
    "# based on a Least Recently Used (LRU) algorithm with a per-item time-to-live (TTL) value.\n",
    "@cached(cache=TTLCache(maxsize=5,ttl=5))\n",
    "def product(a,b):\n",
    "    print(f'Calling product: {a} * {b}:')\n",
    "    return a*b\n",
    "\n",
    "print(product(1,2))\n",
    "print(product(1,2))\n",
    "time.sleep(5)\n",
    "print(product(1,2))"
   ]
  },
  {
   "cell_type": "markdown",
   "id": "following-shell",
   "metadata": {},
   "source": [
    "ref:\n",
    "\n",
    "- https://docs.python.org/3/library/functools.html\n",
    "- https://realpython.com/lru-cache-python/\n",
    "- https://github.com/tkem/cachetools/tree/master\n",
    "- https://cachetools.readthedocs.io/en/stable/#"
   ]
  }
 ],
 "metadata": {
  "kernelspec": {
   "display_name": "Python 3",
   "language": "python",
   "name": "python3"
  },
  "language_info": {
   "codemirror_mode": {
    "name": "ipython",
    "version": 3
   },
   "file_extension": ".py",
   "mimetype": "text/x-python",
   "name": "python",
   "nbconvert_exporter": "python",
   "pygments_lexer": "ipython3",
   "version": "3.9.1"
  }
 },
 "nbformat": 4,
 "nbformat_minor": 5
}
